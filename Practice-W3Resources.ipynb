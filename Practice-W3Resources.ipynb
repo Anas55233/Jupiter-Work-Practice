{
 "cells": [
  {
   "cell_type": "code",
   "execution_count": 1,
   "id": "b6ae85e9-e864-457e-ae5d-4a236da2dc3e",
   "metadata": {},
   "outputs": [
    {
     "name": "stdout",
     "output_type": "stream",
     "text": [
      "208\n"
     ]
    }
   ],
   "source": [
    "# Write a Python program to calculate the number of days between two dates.\n",
    "\n",
    "from datetime import date\n",
    "\n",
    "first_date = date(2024, 1, 13)\n",
    "last_date = date(2024, 8, 8)\n",
    "diff =last_date - first_date\n",
    "print(diff.days)"
   ]
  },
  {
   "cell_type": "code",
   "execution_count": 2,
   "id": "6d1f9a84-af55-426c-a894-84f27c9a2bde",
   "metadata": {},
   "outputs": [
    {
     "name": "stdin",
     "output_type": "stream",
     "text": [
      "Enter radius value! 23\n"
     ]
    },
    {
     "name": "stdout",
     "output_type": "stream",
     "text": [
      "The Volume of sphere is: 50965.01042163601 \n"
     ]
    }
   ],
   "source": [
    "# Write a  Python program to get the volume of a sphere with radius six.\n",
    "\n",
    "from math import pi\n",
    "r = int(input(\"Enter radius value!\"))\n",
    "V = (4 / 3) * pi * (r ** 3)\n",
    "print(f\"The Volume of sphere is: {V} \")"
   ]
  },
  {
   "cell_type": "code",
   "execution_count": 3,
   "id": "1ee9f557-113b-4b90-9aa3-edb881c7c951",
   "metadata": {},
   "outputs": [
    {
     "name": "stdin",
     "output_type": "stream",
     "text": [
      "Enter difference number:  19\n"
     ]
    },
    {
     "name": "stdout",
     "output_type": "stream",
     "text": [
      "Diffrence is : 4\n",
      "when user_input is greater, so answer is: 4\n"
     ]
    }
   ],
   "source": [
    " # Write a  Python program to calculate the difference between a given number and 17. \n",
    "# If the number is greater than 17, return twice the absolute difference.\n",
    "\n",
    "user_input = int(input(\"Enter difference number: \"))\n",
    "\n",
    "# Method 1\n",
    "def difference(n):\n",
    "    if n > 17:\n",
    "        return (n - 17) * 2\n",
    "    else:\n",
    "        return abs(n - 17)\n",
    "\n",
    "print(f\"Diffrence is : {difference(user_input)}\")\n",
    "\n",
    "# Method 2\n",
    "def diff(n):\n",
    "    if n > 17:\n",
    "        print(f\"when user_input is greater, so answer is: {(n - 17) * 2}\")\n",
    "    else:\n",
    "        print(f\"when user_input is smaller, so answer is: {abs(n - 17)}\")\n",
    "\n",
    "diff(user_input)"
   ]
  },
  {
   "cell_type": "code",
   "execution_count": 4,
   "id": "3e14f791-622c-4359-a421-2f73223f8168",
   "metadata": {},
   "outputs": [
    {
     "name": "stdin",
     "output_type": "stream",
     "text": [
      "Enter difference number:  200\n"
     ]
    },
    {
     "data": {
      "text/plain": [
       "False"
      ]
     },
     "execution_count": 4,
     "metadata": {},
     "output_type": "execute_result"
    }
   ],
   "source": [
    "# Write a  Python program to test whether a number is within 100 of 1000 or 2000.\n",
    "\n",
    "\n",
    "user_input = int(input(\"Enter difference number: \"))\n",
    "def diff(n):\n",
    "    if abs(1000 - n) <= 100 or abs(2000 - n) <= 100:\n",
    "        return True\n",
    "    else:\n",
    "        return False\n",
    "\n",
    "diff(user_input)"
   ]
  },
  {
   "cell_type": "code",
   "execution_count": 5,
   "id": "0a9b10ba-4dfc-408a-8d18-e48b8fac25ea",
   "metadata": {},
   "outputs": [
    {
     "name": "stdin",
     "output_type": "stream",
     "text": [
      "Enter Number 1:  3\n",
      "Enter Number 2:  2\n",
      "Enter Number 3:  3\n"
     ]
    },
    {
     "name": "stdout",
     "output_type": "stream",
     "text": [
      "The value of sum is : 8\n"
     ]
    }
   ],
   "source": [
    "# Write a  Python program to calculate the sum of three given numbers. If the values are equal, return three times their sum.\n",
    "\n",
    "num1 = int(input(\"Enter Number 1: \"))\n",
    "num2 = int(input(\"Enter Number 2: \"))\n",
    "num3 = int(input(\"Enter Number 3: \"))\n",
    "\n",
    "def sum_of_numbers(n1, n2, n3):\n",
    "    if n1 == n2 == n3:\n",
    "        sum =(n1 + n2 + n3) * 3\n",
    "        return sum\n",
    "    else:\n",
    "        sum = n1 + n2 + n3\n",
    "        return sum\n",
    "\n",
    "print(f\"The value of sum is : {sum_of_numbers(num1, num2, num3)}\")"
   ]
  },
  {
   "cell_type": "code",
   "execution_count": 6,
   "id": "63543a89-27b9-45fe-8450-ba00a50ae9b4",
   "metadata": {},
   "outputs": [
    {
     "name": "stdin",
     "output_type": "stream",
     "text": [
      "Enter Text:  anas\n"
     ]
    },
    {
     "name": "stdout",
     "output_type": "stream",
     "text": [
      "Isanas\n"
     ]
    }
   ],
   "source": [
    "#  Get a new string from a given string where 'Is' has been added to the front. \n",
    "# If the given string already begins with 'Is' then return the string unchanged\n",
    "\n",
    "\n",
    "string = input(\"Enter Text: \")\n",
    "def Is_string(text):\n",
    "    if len(text) >= 2 and text[:2] == \"Is\":\n",
    "        return text\n",
    "    else:\n",
    "        return \"Is\" + text\n",
    "\n",
    "print(Is_string(string))"
   ]
  },
  {
   "cell_type": "code",
   "execution_count": 7,
   "id": "249d3468-44c5-4e17-b16b-ab2435b3275c",
   "metadata": {},
   "outputs": [
    {
     "name": "stdin",
     "output_type": "stream",
     "text": [
      "Enter character: ae\n"
     ]
    },
    {
     "name": "stdout",
     "output_type": "stream",
     "text": [
      "The Given value is True\n"
     ]
    }
   ],
   "source": [
    "# Write a Python program to test whether a passed letter is a vowel or not.\n",
    "\n",
    "user_input = input(\"Enter character:\")\n",
    "\n",
    "def vowel(char):\n",
    "    all_vowel = \"aeiou\"\n",
    "    if char in all_vowel:\n",
    "        return True\n",
    "    else:\n",
    "        return False\n",
    "\n",
    "print(f\"The Given value is {vowel(user_input)}\")"
   ]
  },
  {
   "cell_type": "code",
   "execution_count": 8,
   "id": "cf100d81-291d-49fd-bde9-a117e66f6df3",
   "metadata": {},
   "outputs": [
    {
     "name": "stdin",
     "output_type": "stream",
     "text": [
      "Enter value of list:  1, 4, 5, 7\n",
      "Enter Value:  4\n"
     ]
    },
    {
     "name": "stdout",
     "output_type": "stream",
     "text": [
      "False\n"
     ]
    }
   ],
   "source": [
    "# Write a  Python program that checks whether a specified value is contained within a group of values.\n",
    "user_input = input(\"Enter value of list: \")\n",
    "lists = []\n",
    "lists.append(user_input)\n",
    "specific_value = input(\"Enter Value: \")\n",
    "if specific_value in lists:\n",
    "     print(True)\n",
    "else:\n",
    "     print(False)"
   ]
  },
  {
   "cell_type": "code",
   "execution_count": 9,
   "id": "17fa67aa-2fa1-4850-bcb2-6d85e1492b5b",
   "metadata": {},
   "outputs": [
    {
     "name": "stdout",
     "output_type": "stream",
     "text": [
      "3.141592653589793\n",
      "2\n",
      "0.9999999999999999\n"
     ]
    }
   ],
   "source": [
    "# Q1: Write a Python script that imports the math module and calculates the square root of a number,\n",
    "# the value of π, and the sine of 30 degrees. Add comments to explain each step.\n",
    "\n",
    "from math import pi, sqrt, tan, radians\n",
    "\n",
    "print(pi)\n",
    "print(int(sqrt(4)))\n",
    "rad = radians(45)\n",
    "print(tan(rad))"
   ]
  },
  {
   "cell_type": "markdown",
   "id": "c526d0c9-6eb6-46cd-b848-dd61190944fa",
   "metadata": {},
   "source": [
    "## 2. Variables and Datatypes"
   ]
  },
  {
   "cell_type": "code",
   "execution_count": 10,
   "id": "12d8e0c8-c4db-4e73-bc96-fe2235253692",
   "metadata": {},
   "outputs": [
    {
     "name": "stdout",
     "output_type": "stream",
     "text": [
      "10\n",
      "5.5\n",
      "Hello\n"
     ]
    }
   ],
   "source": [
    "# Q1: Write a Python script that assigns the value 10 to a variable x,\n",
    "# the value 5.5 to a variable y, and the string \"Hello\" to a variable z. Print all the variables.\n",
    "\n",
    "x, y, z = 10, 5.5, \"Hello\"\n",
    "print(x)\n",
    "print(y)\n",
    "print(z)"
   ]
  },
  {
   "cell_type": "code",
   "execution_count": 11,
   "id": "8afc5ab1-7611-47a3-b110-24a6185e0163",
   "metadata": {},
   "outputs": [
    {
     "name": "stdin",
     "output_type": "stream",
     "text": [
      "Enter Name:  Anas\n",
      "Enter Age:  25\n",
      "Enter color:  Black\n"
     ]
    },
    {
     "name": "stdout",
     "output_type": "stream",
     "text": [
      "My name is Anas,\n",
      "I am 25 years old,\n",
      "My favourite color is Black.\n"
     ]
    }
   ],
   "source": [
    "# Q2: Create a program that asks the user to input their name, age, and favorite color.\n",
    "# Store these inputs in variables and print them in a formatted string.\n",
    "\n",
    "name = input(\"Enter Name: \")\n",
    "age = int(input(\"Enter Age: \"))\n",
    "fav_color = input(\"Enter color: \")\n",
    "print(f\"My name is {name},\\nI am {age} years old,\\nMy favourite color is {fav_color}.\")"
   ]
  },
  {
   "cell_type": "code",
   "execution_count": 12,
   "id": "05c85c60-d05d-4b2f-ab42-4a1eca0fb219",
   "metadata": {},
   "outputs": [
    {
     "name": "stdout",
     "output_type": "stream",
     "text": [
      "10 20\n",
      "20 10\n"
     ]
    }
   ],
   "source": [
    "# Q3: Write a script that swaps the values of two variables a and b.\n",
    "# Print their values before and after swapping.\n",
    "\n",
    "a = 10\n",
    "b = 20\n",
    "print(a, b)\n",
    "a, b = b, a\n",
    "print(a, b)"
   ]
  },
  {
   "cell_type": "code",
   "execution_count": 13,
   "id": "df2507d6-348a-4325-8cfa-e6faf12df353",
   "metadata": {},
   "outputs": [
    {
     "name": "stdout",
     "output_type": "stream",
     "text": [
      "Its neither sunrise nor sunset\n"
     ]
    }
   ],
   "source": [
    "# Q4: Assign the boolean values True and False to two variables and\n",
    "# use them in a conditional statement to print different messages.\n",
    "\n",
    "sunrise = False\n",
    "sunset = False\n",
    "\n",
    "if sunrise:\n",
    "    print(\"Its Sunrise\")\n",
    "elif sunset:\n",
    "    print(\"Its Sunset\")\n",
    "else:\n",
    "    print(\"Its neither sunrise nor sunset\")"
   ]
  },
  {
   "cell_type": "code",
   "execution_count": 14,
   "id": "e109ca9f-9d03-4670-b08d-df9cf4aca2d5",
   "metadata": {},
   "outputs": [
    {
     "name": "stdout",
     "output_type": "stream",
     "text": [
      "<class 'int'> <class 'str'> <class 'bool'>\n"
     ]
    }
   ],
   "source": [
    "# Q5: Create variables of different types (integer, float, string, and boolean)\n",
    "# and print their types using the type() function.\n",
    "\n",
    "\n",
    "integer = 10\n",
    "# float = 1.2\n",
    "string = \"Hello\"\n",
    "Boolean = True\n",
    "\n",
    "print(type(integer), type(string), type(Boolean))"
   ]
  },
  {
   "cell_type": "markdown",
   "id": "02c0ebbc-878b-4abd-8044-ec81eed73ddd",
   "metadata": {},
   "source": [
    "### Arithmetic Operations with Variables"
   ]
  },
  {
   "cell_type": "code",
   "execution_count": 15,
   "id": "c03d8347-4cb0-49e4-a857-5aabdab22ebc",
   "metadata": {},
   "outputs": [
    {
     "name": "stdin",
     "output_type": "stream",
     "text": [
      "Enter Number 1:  23\n",
      "Enter Number 2:  21\n"
     ]
    },
    {
     "name": "stdout",
     "output_type": "stream",
     "text": [
      "44 2 483 1.0952380952380953\n"
     ]
    }
   ],
   "source": [
    "# Q6: Write a program that takes two integers as input from the user, stores them in variables a and b,\n",
    "# and then prints the result of their addition, subtraction, multiplication, and division.\n",
    "\n",
    "num1 = int(input(\"Enter Number 1: \"))\n",
    "num2 = int(input(\"Enter Number 2: \"))\n",
    "\n",
    "add = num1 + num2\n",
    "sub = num1 - num2\n",
    "multiply = num1 * num2\n",
    "div = num1 / num2\n",
    "print(add, sub, multiply, div)"
   ]
  },
  {
   "cell_type": "code",
   "execution_count": 16,
   "id": "5050b23a-c8ab-425e-8e56-0ee87503eaff",
   "metadata": {},
   "outputs": [
    {
     "name": "stdin",
     "output_type": "stream",
     "text": [
      "Enter Number:  23\n"
     ]
    },
    {
     "name": "stdout",
     "output_type": "stream",
     "text": [
      "Square of 23 is: 529. \n",
      "Cube of 23 is: 12167. \n"
     ]
    }
   ],
   "source": [
    "# Q8: Write a program that calculates the square and cube of a given number.\n",
    "# Store the number in a variable and use arithmetic operations to calculate the square and cube.\n",
    "\n",
    "num = int(input(\"Enter Number: \"))\n",
    "\n",
    "square = num ** 2\n",
    "cube = num ** 3\n",
    "\n",
    "print(f\"Square of {num} is: {square}. \")\n",
    "print(f\"Cube of {num} is: {cube}. \")"
   ]
  },
  {
   "cell_type": "code",
   "execution_count": 17,
   "id": "78c126af-2210-41a4-bc09-1b5d60a53bdd",
   "metadata": {},
   "outputs": [
    {
     "name": "stdin",
     "output_type": "stream",
     "text": [
      "Enter Celsius degree:  1\n"
     ]
    },
    {
     "name": "stdout",
     "output_type": "stream",
     "text": [
      "33.8\n"
     ]
    }
   ],
   "source": [
    "# Q9: Create a program that converts a temperature from Celsius to Fahrenheit.\n",
    "# Use the formula F = C * 9/5 + 32 and store the temperature in a variable.\n",
    "celsius = int(input(\"Enter Celsius degree: \"))\n",
    "Frahniet = (celsius * (9 / 5)) + 32\n",
    "print(Frahniet)"
   ]
  },
  {
   "cell_type": "code",
   "execution_count": 18,
   "id": "e2ac02ee-f0d4-4595-b029-0d4ec9475448",
   "metadata": {},
   "outputs": [
    {
     "name": "stdin",
     "output_type": "stream",
     "text": [
      "Enter Principal Amount:  12\n",
      "Enter Rate:  21\n",
      "Enter Time:  32\n"
     ]
    },
    {
     "name": "stdout",
     "output_type": "stream",
     "text": [
      "80.64\n"
     ]
    }
   ],
   "source": [
    "# Q10: Write a script that calculates the simple interest for a given principal amount, rate of interest, and time period.\n",
    "# Use the formula Simple Interest = (Principal * Rate * Time) / 100\n",
    "\n",
    "Principal = int(input(\"Enter Principal Amount: \"))\n",
    "Rate = int(input(\"Enter Rate: \"))\n",
    "Time = int(input(\"Enter Time: \"))\n",
    "Interest = (Principal * Rate * Time) / 100\n",
    "print(Interest)"
   ]
  },
  {
   "cell_type": "markdown",
   "id": "760e168e-8606-4f4e-b899-e670f9fcde67",
   "metadata": {},
   "source": [
    "### String Manipulation and Formatting\n"
   ]
  },
  {
   "cell_type": "code",
   "execution_count": 19,
   "id": "04b3fd2e-f5cb-4f41-86ae-9133cfef353c",
   "metadata": {},
   "outputs": [
    {
     "name": "stdin",
     "output_type": "stream",
     "text": [
      "Enter Full Name:  Anas\n"
     ]
    },
    {
     "name": "stdout",
     "output_type": "stream",
     "text": [
      "ANAS\n",
      "anas\n",
      "Anas\n"
     ]
    }
   ],
   "source": [
    "# Q11: Write a script that takes a user's full name as input and prints it in all uppercase, all lowercase, and title case.\n",
    "\n",
    "full_name = input(\"Enter Full Name: \")\n",
    "print(full_name.upper())\n",
    "print(full_name.lower())\n",
    "print(full_name.title())"
   ]
  },
  {
   "cell_type": "code",
   "execution_count": 20,
   "id": "6a2a850e-8348-42c1-9de7-d3d377682a16",
   "metadata": {},
   "outputs": [
    {
     "name": "stdout",
     "output_type": "stream",
     "text": [
      "11\n"
     ]
    }
   ],
   "source": [
    "# Q12: Create a program that takes a sentence as input and counts the number of words in it. \n",
    "# Store the sentence in a string variable and use string methods to count the words.\n",
    "\n",
    "string = \"Anas Sohail\"\n",
    "print(len(string))"
   ]
  },
  {
   "cell_type": "code",
   "execution_count": 21,
   "id": "9861f931-fff6-4104-b546-ccdecec3faae",
   "metadata": {},
   "outputs": [
    {
     "name": "stdin",
     "output_type": "stream",
     "text": [
      "Enter First Name:  Anas\n",
      "Enter Last Name:  Sohail\n"
     ]
    },
    {
     "name": "stdout",
     "output_type": "stream",
     "text": [
      "Hello! Anas Sohail\n"
     ]
    }
   ],
   "source": [
    "# Q13: Write a script that asks the user for their first and last name, stores them in variables,\n",
    "# and then prints a greeting message in the format \"Hello, Firstname Lastname!\".\n",
    "\n",
    "first_name = input(\"Enter First Name: \")\n",
    "last_name = input(\"Enter Last Name: \")\n",
    "print(f\"Hello! {first_name} {last_name}\")"
   ]
  },
  {
   "cell_type": "code",
   "execution_count": 22,
   "id": "aa8573ca-d1bd-4a85-a976-cb9edf499dae",
   "metadata": {},
   "outputs": [
    {
     "name": "stdin",
     "output_type": "stream",
     "text": [
      "Enter String:  Anas\n"
     ]
    },
    {
     "name": "stdout",
     "output_type": "stream",
     "text": [
      "sanA\n"
     ]
    }
   ],
   "source": [
    "# Q14: Create a program that takes a string input and reverses it. Store the reversed string in a new variable and print it.\n",
    "\n",
    "string = input(\"Enter String: \")\n",
    "reverse_str = string[::-1]\n",
    "print(reverse_str)"
   ]
  },
  {
   "cell_type": "code",
   "execution_count": 23,
   "id": "c2ae8b23-66ae-479c-ad6a-9aae1e0ea5e7",
   "metadata": {},
   "outputs": [
    {
     "name": "stdin",
     "output_type": "stream",
     "text": [
      "Enter String:  Ans\n"
     ]
    },
    {
     "name": "stdout",
     "output_type": "stream",
     "text": [
      "As\n"
     ]
    }
   ],
   "source": [
    "# Q15: Write a script that extracts and prints the first and last characters of a given string. Store the string in a variable.\n",
    "\n",
    "string = input(\"Enter String: \")\n",
    "extract_str = string[0] + string[-1]\n",
    "print(extract_str)"
   ]
  },
  {
   "cell_type": "markdown",
   "id": "d281422d-2321-4f4c-8bad-75de508819c5",
   "metadata": {},
   "source": [
    "### Type Conversion and Casting"
   ]
  },
  {
   "cell_type": "code",
   "execution_count": 24,
   "id": "432d1d46-ab47-4aa7-b746-68a2ef9ca867",
   "metadata": {},
   "outputs": [
    {
     "name": "stdin",
     "output_type": "stream",
     "text": [
      "Enter Integer :  21\n"
     ]
    },
    {
     "name": "stdout",
     "output_type": "stream",
     "text": [
      "21.0\n"
     ]
    }
   ],
   "source": [
    "# Q16: Write a program that takes an integer input from the user,\n",
    "# converts it to a float, and prints both the original integer and the converted float.\n",
    "\n",
    "integer = int(input(\"Enter Integer : \"))\n",
    "float_val = float(integer)\n",
    "print(float_val)"
   ]
  },
  {
   "cell_type": "code",
   "execution_count": 26,
   "id": "3a0e5a99-266e-4b80-bc75-647307dea7d4",
   "metadata": {},
   "outputs": [
    {
     "name": "stdin",
     "output_type": "stream",
     "text": [
      "Enter Number:  1234\n"
     ]
    },
    {
     "name": "stdout",
     "output_type": "stream",
     "text": [
      "1234.0\n"
     ]
    }
   ],
   "source": [
    "# Q17: Create a script that converts a string representation of a number (e.g., \"1234\") to an integer and a float.\n",
    "# Print the results.\n",
    "\n",
    "string = input(\"Enter Number: \")\n",
    "print(float(int(string)))"
   ]
  },
  {
   "cell_type": "code",
   "execution_count": 31,
   "id": "b0769381-bbca-4a2d-98d0-c109e6a54def",
   "metadata": {},
   "outputs": [
    {
     "name": "stdin",
     "output_type": "stream",
     "text": [
      "Enter Number:  34\n",
      "Enter Number:  43\n"
     ]
    },
    {
     "name": "stdout",
     "output_type": "stream",
     "text": [
      "77\n"
     ]
    }
   ],
   "source": [
    "# Q19: Create a script that adds two numbers input by the user. If the user enters them as strings\n",
    "# (e.g., \"5\" and \"10\"), convert them to integers before adding.\n",
    "\n",
    "num1 = input(\"Enter Number: \")\n",
    "num2 = input(\"Enter Number: \")\n",
    "num3 = int(num1) + int(num2)\n",
    "print(num3)"
   ]
  },
  {
   "cell_type": "code",
   "execution_count": 37,
   "id": "aeedef6b-7553-420e-bc6e-987736b1f535",
   "metadata": {},
   "outputs": [
    {
     "name": "stdin",
     "output_type": "stream",
     "text": [
      "Enter Boolean value:  False\n"
     ]
    },
    {
     "name": "stdout",
     "output_type": "stream",
     "text": [
      "1\n"
     ]
    }
   ],
   "source": [
    "# Q20: Write a program that takes a boolean value as input (either True or False),\n",
    "# converts it to an integer (1 for True, 0 for False), and prints the result.\n",
    "\n",
    "boolean = bool(input(\"Enter Boolean value: \"))\n",
    "int_bool = int(boolean)\n",
    "print(int_bool)"
   ]
  },
  {
   "cell_type": "code",
   "execution_count": 1,
   "id": "96df6418-dfa4-40b2-a842-5aa67639b022",
   "metadata": {},
   "outputs": [
    {
     "name": "stdout",
     "output_type": "stream",
     "text": [
      "4\n",
      "9\n",
      "16\n"
     ]
    }
   ],
   "source": [
    "numbers = [2, 3, 4]\n",
    "for num in numbers:\n",
    "    num = num ** 2\n",
    "    print(num)"
   ]
  },
  {
   "cell_type": "code",
   "execution_count": null,
   "id": "8d9a09ab-4aef-4d8d-af94-594005b96ef9",
   "metadata": {},
   "outputs": [],
   "source": []
  }
 ],
 "metadata": {
  "kernelspec": {
   "display_name": "Python 3 (ipykernel)",
   "language": "python",
   "name": "python3"
  },
  "language_info": {
   "codemirror_mode": {
    "name": "ipython",
    "version": 3
   },
   "file_extension": ".py",
   "mimetype": "text/x-python",
   "name": "python",
   "nbconvert_exporter": "python",
   "pygments_lexer": "ipython3",
   "version": "3.12.4"
  }
 },
 "nbformat": 4,
 "nbformat_minor": 5
}
