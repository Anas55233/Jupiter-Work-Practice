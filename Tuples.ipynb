{
 "cells": [
  {
   "cell_type": "markdown",
   "id": "46f87917-fe1b-4528-8c9f-a1b39268593f",
   "metadata": {},
   "source": [
    "# Python Tuples"
   ]
  },
  {
   "cell_type": "code",
   "execution_count": 4,
   "id": "d8f36f1b-a8d8-4d7d-bc24-89a336f33d64",
   "metadata": {},
   "outputs": [],
   "source": [
    "# Tuples are used to store multiple items in a single variable.\n",
    "# A tuple is a collection which is ordered and unchangeable.\n",
    "# Tuples are written with round brackets."
   ]
  },
  {
   "cell_type": "code",
   "execution_count": 18,
   "id": "bad426b0-5dad-45c2-9989-b9920013dbd3",
   "metadata": {},
   "outputs": [
    {
     "name": "stdout",
     "output_type": "stream",
     "text": [
      "('apple', 'mango', 'banana', 'pear', 'orange', 'grapes')\n",
      "('apple', 'mango', 'banana', 'pear', 'orange', 'grapes', 'apple')\n",
      "7\n"
     ]
    }
   ],
   "source": [
    "fruit_tuples = (\"apple\", \"mango\", \"banana\", \"pear\", \"orange\", \"grapes\")\n",
    "print(fruit_tuples)\n",
    "\n",
    "# Allow Duplicates items\n",
    "fruit_tuples = (\"apple\", \"mango\", \"banana\", \"pear\", \"orange\", \"grapes\", \"apple\")\n",
    "print(fruit_tuples)\n",
    "\n",
    "# Tuple Length:-\n",
    "fruit_tuples = (\"apple\", \"mango\", \"banana\", \"pear\", \"orange\", \"grapes\", \"apple\")\n",
    "print(len(fruit_tuples))"
   ]
  },
  {
   "cell_type": "markdown",
   "id": "91a7a1c5-728e-4d9a-b13e-f6ecce9a9a8d",
   "metadata": {},
   "source": [
    "### Create Tuple With One Item\n",
    "##### To create a tuple with only one item, you have to add a comma after the item, otherwise Python will not recognize it as a tuple."
   ]
  },
  {
   "cell_type": "code",
   "execution_count": 25,
   "id": "10c0bd8b-d83d-4cfd-a1ad-969079aacaec",
   "metadata": {},
   "outputs": [
    {
     "name": "stdout",
     "output_type": "stream",
     "text": [
      "<class 'tuple'>\n"
     ]
    }
   ],
   "source": [
    "fruit_tuple = (\"apple\",)\n",
    "print(type(fruit_tuple))"
   ]
  },
  {
   "cell_type": "markdown",
   "id": "29f09819-b0a3-4ea8-b4ba-61db8fedd3da",
   "metadata": {},
   "source": [
    "### Tuple Items - Data Types"
   ]
  },
  {
   "cell_type": "code",
   "execution_count": 28,
   "id": "43665423-0db2-4c49-ae8b-0670d0a813ff",
   "metadata": {},
   "outputs": [
    {
     "name": "stdout",
     "output_type": "stream",
     "text": [
      "('apple', 'mango', 'banana', 'orange', 'apple')\n",
      "(1, 2, 3, 5, 6)\n",
      "(True, False, False, True)\n"
     ]
    }
   ],
   "source": [
    "# String, int and boolean data types:\n",
    "fruit_tuple = (\"apple\", \"mango\", \"banana\", \"orange\", \"apple\")\n",
    "number_tuple = (1, 2, 3 ,5, 6)\n",
    "boolean_tuple = (True, False, False, True)\n",
    "print(fruit_tuple)\n",
    "print(number_tuple)\n",
    "print(boolean_tuple)"
   ]
  },
  {
   "cell_type": "code",
   "execution_count": 30,
   "id": "ae2fecb9-7d30-4279-aae9-2954ed1ec20a",
   "metadata": {},
   "outputs": [
    {
     "name": "stdout",
     "output_type": "stream",
     "text": [
      "('anas', 2, True)\n"
     ]
    }
   ],
   "source": [
    "# Different Data Types in Tuple\n",
    "mmix_tuple = (\"anas\", 2, True)\n",
    "print(mmix_tuple)"
   ]
  },
  {
   "cell_type": "code",
   "execution_count": 34,
   "id": "c5a95847-ec00-4fbd-a0bb-e7e9a1444f28",
   "metadata": {},
   "outputs": [
    {
     "name": "stdout",
     "output_type": "stream",
     "text": [
      "<class 'tuple'>\n"
     ]
    }
   ],
   "source": [
    "#Find Type of Tuple\n",
    "fruit_tuples = (\"apple\", \"mango\", \"banana\", \"orange\", \"apple\")\n",
    "print(type(fruit_tuples))"
   ]
  },
  {
   "cell_type": "markdown",
   "id": "1da9110a-257d-40aa-b384-425b40e99219",
   "metadata": {},
   "source": [
    "#### The tuple() Constructor\n",
    "##### It is also possible to use the tuple() constructor to make a tuple."
   ]
  },
  {
   "cell_type": "code",
   "execution_count": 40,
   "id": "3db3eb03-f86c-4321-9511-17d0ae2d3738",
   "metadata": {},
   "outputs": [
    {
     "name": "stdout",
     "output_type": "stream",
     "text": [
      "('apple', 'mango', 'banana', 'orange', 'apple')\n"
     ]
    }
   ],
   "source": [
    "fruit_tuples = tuple((\"apple\", \"mango\", \"banana\", \"orange\", \"apple\"))\n",
    "print(fruit_tuples)"
   ]
  },
  {
   "cell_type": "code",
   "execution_count": 58,
   "id": "6419c55a-f0dd-44dc-987c-af85c189ee61",
   "metadata": {},
   "outputs": [
    {
     "name": "stdout",
     "output_type": "stream",
     "text": [
      "apple\n",
      "orange\n",
      "apple\n",
      "mango\n",
      "('mango', 'banana', 'orange')\n",
      "('apple', 'mango', 'banana', 'orange')\n",
      "('banana', 'orange', 'apple')\n",
      "mango is here\n"
     ]
    }
   ],
   "source": [
    "#Access Tuple items using index number\n",
    "fruit_tuples = (\"apple\", \"mango\", \"banana\", \"orange\", \"apple\")\n",
    "print(fruit_tuples[0])\n",
    "print(fruit_tuples[3])\n",
    "print(fruit_tuples[-1])\n",
    "print(fruit_tuples[-4])\n",
    "print(fruit_tuples[1:4])\n",
    "print(fruit_tuples[:4])\n",
    "print(fruit_tuples[2:])\n",
    "if \"mango\" not in fruit_tuples:\n",
    "    print(\"mango is not here\")\n",
    "else:\n",
    "    print(\"mango is here\")"
   ]
  },
  {
   "cell_type": "markdown",
   "id": "bd8d29a1-8f72-472b-bf4f-8f2c9771865b",
   "metadata": {},
   "source": [
    "#### Change Tuple Valuese."
   ]
  },
  {
   "cell_type": "markdown",
   "id": "1f69c661-e35c-4761-a27a-27775397d68e",
   "metadata": {},
   "source": [
    "###### Once a tuple is created, you cannot change its values. Tuples are unchangeable, or immutable as it also is called.\n",
    "###### But there is a workaround. You can convert the tuple into a list, change the list, and convert the list back into a tuple."
   ]
  },
  {
   "cell_type": "code",
   "execution_count": 69,
   "id": "72d80e0d-a198-4b0a-ae93-518fb5283231",
   "metadata": {},
   "outputs": [
    {
     "name": "stdout",
     "output_type": "stream",
     "text": [
      "('apple', 'mango', 'banana', 'orange', 'pear')\n"
     ]
    }
   ],
   "source": [
    "fruit_tuples = (\"apple\", \"mango\", \"banana\", \"orange\", \"apple\")\n",
    "fruit_list = list(fruit_tuples)\n",
    "fruit_list[4] = \"pear\"\n",
    "fruit_tuples = tuple(fruit_list)\n",
    "print(fruit_tuples)"
   ]
  },
  {
   "cell_type": "markdown",
   "id": "fc313758-5c3b-4ddc-8d39-7a914bf1e653",
   "metadata": {},
   "source": [
    "#### Add Items"
   ]
  },
  {
   "cell_type": "code",
   "execution_count": 72,
   "id": "5c463448-09b3-47c7-8d74-6526ce67132a",
   "metadata": {},
   "outputs": [
    {
     "name": "stdout",
     "output_type": "stream",
     "text": [
      "('apple', 'mango', 'banana', 'orange', 'apple', 'cherry')\n"
     ]
    }
   ],
   "source": [
    "fruit_tuples = (\"apple\", \"mango\", \"banana\", \"orange\", \"apple\")\n",
    "fruit_list = list(fruit_tuples)\n",
    "fruit_list.append(\"cherry\")\n",
    "fruit_tuples = tuple(fruit_list)\n",
    "print(fruit_tuples)"
   ]
  },
  {
   "cell_type": "code",
   "execution_count": 74,
   "id": "b8c26937-5af0-4b4e-9e2c-efcee74992b7",
   "metadata": {},
   "outputs": [
    {
     "name": "stdout",
     "output_type": "stream",
     "text": [
      "('apple', 'mango', 'cherry', 'banana', 'orange', 'apple')\n"
     ]
    }
   ],
   "source": [
    "fruit_tuples = (\"apple\", \"mango\", \"banana\", \"orange\", \"apple\")\n",
    "fruit_list = list(fruit_tuples)\n",
    "fruit_list.insert(2,\"cherry\")\n",
    "fruit_tuples = tuple(fruit_list)\n",
    "print(fruit_tuples)"
   ]
  },
  {
   "cell_type": "code",
   "execution_count": 76,
   "id": "b7461f63-6154-44c8-b8fa-7f4d9602fe4d",
   "metadata": {},
   "outputs": [
    {
     "name": "stdout",
     "output_type": "stream",
     "text": [
      "('apple', 'mango', 'banana', 'orange', 'potato', 'onion', 'tomato')\n"
     ]
    }
   ],
   "source": [
    "fruit_tuples = (\"apple\", \"mango\", \"banana\", \"orange\")\n",
    "veg_tuples = (\"potato\", \"onion\", \"tomato\")\n",
    "fruit_tuples += veg_tuples\n",
    "print(fruit_tuples)"
   ]
  },
  {
   "cell_type": "code",
   "execution_count": 78,
   "id": "2a5ba8ab-bb15-4e01-94e2-42980f944b75",
   "metadata": {},
   "outputs": [
    {
     "name": "stdout",
     "output_type": "stream",
     "text": [
      "('apple', 'banana', 'orange', 'apple')\n"
     ]
    }
   ],
   "source": [
    "fruit_tuples = (\"apple\", \"mango\", \"banana\", \"orange\", \"apple\")\n",
    "fruit_list = list(fruit_tuples)\n",
    "fruit_list.remove(\"mango\")\n",
    "fruit_tuples = tuple(fruit_list)\n",
    "print(fruit_tuples)"
   ]
  },
  {
   "cell_type": "code",
   "execution_count": 84,
   "id": "06e4e0bb-df1f-4076-8a33-fd6fa33143b7",
   "metadata": {},
   "outputs": [
    {
     "name": "stdout",
     "output_type": "stream",
     "text": [
      "('APPLE', 'MANGO', 'BANANA', 'ORANGE', 'APPLE')\n",
      "('Apple', 'Mango', 'Banana', 'Orange', 'Apple')\n"
     ]
    }
   ],
   "source": [
    "fruit_tuples = (\"apple\", \"mango\", \"banana\", \"orange\", \"apple\")\n",
    "fruit_list = list(fruit_tuples)\n",
    "new_list = [x.upper() for x in fruit_list]\n",
    "fruit_tuples = tuple(new_list)\n",
    "print(fruit_tuples)\n",
    "fruit_list = list(fruit_tuples)\n",
    "new_list = [x.capitalize() for x in fruit_list]\n",
    "fruit_tuples = tuple(new_list)\n",
    "print(fruit_tuples)"
   ]
  },
  {
   "cell_type": "markdown",
   "id": "2231684a-61fc-45e3-aea5-831d13ac4ecd",
   "metadata": {},
   "source": [
    "### Python - Unpack Tuples"
   ]
  },
  {
   "cell_type": "markdown",
   "id": "04c4fea7-bb89-43eb-92eb-4ac3ea1ab70f",
   "metadata": {},
   "source": [
    "###### When we create a tuple, we normally assign values to it. This is called \"packing\" a tuple:\n",
    "###### But, in Python, we are also allowed to extract the values back into variables. This is called \"unpacking\":"
   ]
  },
  {
   "cell_type": "code",
   "execution_count": 97,
   "id": "d8518017-fd40-4cb2-9c27-13712d8de786",
   "metadata": {},
   "outputs": [
    {
     "name": "stdout",
     "output_type": "stream",
     "text": [
      "apple\n",
      "mango\n",
      "banana\n",
      "orange\n",
      "apple\n",
      "['mango', 'banana', 'orange', 'apple']\n"
     ]
    }
   ],
   "source": [
    "fruit_tuples = (\"apple\", \"mango\", \"banana\", \"orange\", \"apple\")\n",
    "(fruit1, fruit2, fruit3, fruit4, fruit5) = fruit_tuples\n",
    "print(fruit1)\n",
    "print(fruit2)\n",
    "print(fruit3)\n",
    "print(fruit4)\n",
    "print(fruit5)\n",
    "\n",
    "(fruit1, fruit2, *fruit3) = fruit_tuples\n",
    "print(fruit1)\n",
    "print(fruit2)\n",
    "print(fruit3)\n",
    "\n"
   ]
  },
  {
   "cell_type": "code",
   "execution_count": 99,
   "id": "8ac0c1d4-8c3a-41ed-928b-d65b9196df62",
   "metadata": {},
   "outputs": [
    {
     "name": "stdout",
     "output_type": "stream",
     "text": [
      "apple\n",
      "['mango', 'banana', 'orange']\n",
      "apple\n"
     ]
    }
   ],
   "source": [
    "fruit_tuples = (\"apple\", \"mango\", \"banana\", \"orange\", \"apple\")\n",
    "(fruit1, *fruit2, fruit3) = fruit_tuples\n",
    "print(fruit1)\n",
    "print(fruit2)\n",
    "print(fruit3)"
   ]
  },
  {
   "cell_type": "markdown",
   "id": "e3f7f7e5-1526-4da4-9585-0d394ca384ed",
   "metadata": {},
   "source": [
    "#### Loop Through the Index Numbers\n",
    "###### You can also loop through the tuple items by referring to their index number.\n",
    "###### Use the range() and len() functions to create a suitable iterable."
   ]
  },
  {
   "cell_type": "code",
   "execution_count": 106,
   "id": "5574eebb-dc9c-4c8d-a78a-4c47693d68d3",
   "metadata": {},
   "outputs": [
    {
     "name": "stdout",
     "output_type": "stream",
     "text": [
      "apple\n",
      "mango\n",
      "banana\n",
      "orange\n",
      "apple\n"
     ]
    }
   ],
   "source": [
    "fruit_tuples = (\"apple\", \"mango\", \"banana\", \"orange\", \"apple\")\n",
    "for i in range(len(fruit_tuples)):\n",
    "    print(fruit_tuples[i])"
   ]
  },
  {
   "cell_type": "markdown",
   "id": "b5b321c6-1954-4b56-a834-a43004144b95",
   "metadata": {},
   "source": [
    "### Python - Join Tuples"
   ]
  },
  {
   "cell_type": "markdown",
   "id": "b36fbec4-a94d-4735-93f0-67336a1e84da",
   "metadata": {},
   "source": [
    "##### Join Two Tuples\n",
    "###### To join two or more tuples you can use the + operator:"
   ]
  },
  {
   "cell_type": "code",
   "execution_count": 116,
   "id": "0d3bb449-02f4-4be7-a239-af7698cb7565",
   "metadata": {},
   "outputs": [
    {
     "name": "stdout",
     "output_type": "stream",
     "text": [
      "('apple', 'mango', 'banana', 'orange', 'potato', 'onion', 'tomato')\n",
      "('potato', 'onion', 'tomato', 'potato', 'onion', 'tomato')\n"
     ]
    }
   ],
   "source": [
    "fruit_tuples = (\"apple\", \"mango\", \"banana\", \"orange\")\n",
    "veg_tuples = (\"potato\", \"onion\", \"tomato\")\n",
    "fruit_tuples += veg_tuples\n",
    "print(fruit_tuples)\n",
    "fruit_tuples = veg_tuples * 2\n",
    "print(fruit_tuples)"
   ]
  },
  {
   "cell_type": "code",
   "execution_count": 1,
   "id": "f3c02a9a-efdc-448c-824c-ee20081d4cc9",
   "metadata": {},
   "outputs": [
    {
     "data": {
      "text/plain": [
       "['__add__',\n",
       " '__class__',\n",
       " '__class_getitem__',\n",
       " '__contains__',\n",
       " '__delattr__',\n",
       " '__dir__',\n",
       " '__doc__',\n",
       " '__eq__',\n",
       " '__format__',\n",
       " '__ge__',\n",
       " '__getattribute__',\n",
       " '__getitem__',\n",
       " '__getnewargs__',\n",
       " '__getstate__',\n",
       " '__gt__',\n",
       " '__hash__',\n",
       " '__init__',\n",
       " '__init_subclass__',\n",
       " '__iter__',\n",
       " '__le__',\n",
       " '__len__',\n",
       " '__lt__',\n",
       " '__mul__',\n",
       " '__ne__',\n",
       " '__new__',\n",
       " '__reduce__',\n",
       " '__reduce_ex__',\n",
       " '__repr__',\n",
       " '__rmul__',\n",
       " '__setattr__',\n",
       " '__sizeof__',\n",
       " '__str__',\n",
       " '__subclasshook__',\n",
       " 'count',\n",
       " 'index']"
      ]
     },
     "execution_count": 1,
     "metadata": {},
     "output_type": "execute_result"
    }
   ],
   "source": [
    "dir(tuple)"
   ]
  },
  {
   "cell_type": "code",
   "execution_count": null,
   "id": "e11a9fe8-446c-4f67-8270-816bfff90488",
   "metadata": {},
   "outputs": [],
   "source": []
  }
 ],
 "metadata": {
  "kernelspec": {
   "display_name": "Python 3 (ipykernel)",
   "language": "python",
   "name": "python3"
  },
  "language_info": {
   "codemirror_mode": {
    "name": "ipython",
    "version": 3
   },
   "file_extension": ".py",
   "mimetype": "text/x-python",
   "name": "python",
   "nbconvert_exporter": "python",
   "pygments_lexer": "ipython3",
   "version": "3.12.4"
  }
 },
 "nbformat": 4,
 "nbformat_minor": 5
}
