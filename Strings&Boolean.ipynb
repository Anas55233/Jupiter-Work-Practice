{
 "cells": [
  {
   "cell_type": "markdown",
   "id": "2313906e-ed41-43a6-b002-4faceb4c621f",
   "metadata": {},
   "source": [
    "# Strings In Python"
   ]
  },
  {
   "cell_type": "markdown",
   "id": "de48ac84-684e-463f-ad9b-31c81768a5cd",
   "metadata": {},
   "source": [
    "## Quotes Inside Quotes"
   ]
  },
  {
   "cell_type": "markdown",
   "id": "2fae9431-2189-4b2d-9762-f422c8336343",
   "metadata": {},
   "source": [
    "### *You can use quotes inside a string, as long as they don't match the quotes surrounding the string:"
   ]
  },
  {
   "cell_type": "code",
   "execution_count": 6,
   "id": "d1c691d2-31a0-4d7b-bdda-8116451872ce",
   "metadata": {},
   "outputs": [
    {
     "name": "stdout",
     "output_type": "stream",
     "text": [
      "My name is 'Anas Sohail'\n"
     ]
    }
   ],
   "source": [
    "print(\"My name is 'Anas Sohail'\")"
   ]
  },
  {
   "cell_type": "code",
   "execution_count": 8,
   "id": "fd0106dd-dcf1-4e3d-9fc7-48cb733bbae3",
   "metadata": {},
   "outputs": [
    {
     "name": "stdout",
     "output_type": "stream",
     "text": [
      "I am \"25\" years old\n"
     ]
    }
   ],
   "source": [
    "print('I am \"25\" years old')"
   ]
  },
  {
   "cell_type": "markdown",
   "id": "cac772a1-0804-4cba-afae-cb89cc887660",
   "metadata": {},
   "source": [
    "## Assign String to VAriable"
   ]
  },
  {
   "cell_type": "code",
   "execution_count": 13,
   "id": "2ca0f3e3-ec79-49d3-9beb-ad3e4af6d769",
   "metadata": {},
   "outputs": [
    {
     "name": "stdout",
     "output_type": "stream",
     "text": [
      "Anas Sohail\n"
     ]
    }
   ],
   "source": [
    "x = \"Anas Sohail\"\n",
    "print(x)"
   ]
  },
  {
   "cell_type": "markdown",
   "id": "772260b5-5521-427c-8cf5-74c2c1e2e60d",
   "metadata": {},
   "source": [
    "\"\"\"Lorem ipsum dolor sit amet,\n",
    "consectetur adipiscing elit,\n",
    "sed do eiusmod tempor incididunt\n",
    "ut labore et dolore magna aliqua.\"\"\""
   ]
  },
  {
   "cell_type": "markdown",
   "id": "9801ed1f-9554-4f7e-9966-989e235dda62",
   "metadata": {},
   "source": [
    "## Strings are Arrays"
   ]
  },
  {
   "cell_type": "code",
   "execution_count": 36,
   "id": "ba8b1f25-ccb2-4b35-b5fb-4b943548eb05",
   "metadata": {},
   "outputs": [
    {
     "name": "stdout",
     "output_type": "stream",
     "text": [
      "n\n",
      "a\n",
      "s\n"
     ]
    }
   ],
   "source": [
    "x = \"Anas Sohail\"\n",
    "print(x[1])\n",
    "print(x[2])\n",
    "print(x[3])"
   ]
  },
  {
   "cell_type": "markdown",
   "id": "de3a8e13-04f1-4826-b57d-0732aa904ee2",
   "metadata": {},
   "source": [
    "## String Length"
   ]
  },
  {
   "cell_type": "markdown",
   "id": "ccb6df6b-980c-4e4e-9841-04f682898573",
   "metadata": {},
   "source": [
    "#### Use len() Function"
   ]
  },
  {
   "cell_type": "code",
   "execution_count": 40,
   "id": "3033e166-74fb-44a6-9a43-11268a165658",
   "metadata": {},
   "outputs": [
    {
     "name": "stdout",
     "output_type": "stream",
     "text": [
      "11\n"
     ]
    }
   ],
   "source": [
    "x = \"Anas Sohail\"\n",
    "print(len(x))"
   ]
  },
  {
   "cell_type": "markdown",
   "id": "1ab1fd18-0444-4c55-98c5-9c422b15bbfe",
   "metadata": {},
   "source": [
    "## Check String"
   ]
  },
  {
   "cell_type": "markdown",
   "id": "b0f6b848-e594-4a1f-b34c-73bf5b3068f7",
   "metadata": {},
   "source": [
    "#### To check if a certain phrase or character is present in a string, we can use the keyword in."
   ]
  },
  {
   "cell_type": "code",
   "execution_count": 52,
   "id": "91c15792-8bd2-450d-9410-5a376343530c",
   "metadata": {},
   "outputs": [
    {
     "name": "stdout",
     "output_type": "stream",
     "text": [
      "True\n",
      "False\n"
     ]
    }
   ],
   "source": [
    "x = \"Anas Sohail\"\n",
    "print(\"Anas\" in x)\n",
    "print(\"ans\" in x)"
   ]
  },
  {
   "cell_type": "code",
   "execution_count": 54,
   "id": "07f14e0d-174f-4af7-9125-8a8236e39a1b",
   "metadata": {},
   "outputs": [
    {
     "name": "stdout",
     "output_type": "stream",
     "text": [
      "False\n",
      "True\n"
     ]
    }
   ],
   "source": [
    "x = \"Anas Sohail\"\n",
    "print(\"Anas\" not in x)\n",
    "print(\"ans\" not in x)"
   ]
  },
  {
   "cell_type": "markdown",
   "id": "5d060963-aa3e-4b47-9cfa-941b6d9b5599",
   "metadata": {},
   "source": [
    "## Slicing the Strings"
   ]
  },
  {
   "cell_type": "markdown",
   "id": "d0925cd3-9c77-47ba-97fe-fb4b7168ad07",
   "metadata": {},
   "source": [
    "###### You can return a range of characters by using the slice syntax.\n",
    "###### Specify the start index and the end index, separated by a colon, to return a part of the string."
   ]
  },
  {
   "cell_type": "code",
   "execution_count": 72,
   "id": "fa984bd5-7091-4d7e-b51f-54d16146164d",
   "metadata": {},
   "outputs": [
    {
     "name": "stdout",
     "output_type": "stream",
     "text": [
      "Anas\n",
      "Sohail\n"
     ]
    }
   ],
   "source": [
    "x = \"Anas Sohail\"\n",
    "print(x[0:4])\n",
    "print(x[5:11])"
   ]
  },
  {
   "cell_type": "markdown",
   "id": "363c5fe8-8f9d-43a3-9b6f-99bf0fdb179d",
   "metadata": {},
   "source": [
    "#### Slice From the Start"
   ]
  },
  {
   "cell_type": "code",
   "execution_count": 103,
   "id": "b33554e5-2356-4a3e-87a0-6731e958ca26",
   "metadata": {},
   "outputs": [
    {
     "name": "stdout",
     "output_type": "stream",
     "text": [
      "Anas\n",
      "Ana\n"
     ]
    }
   ],
   "source": [
    "x = \"Anas Sohail\"\n",
    "print(x[:4])\n",
    "print(x[:-8])"
   ]
  },
  {
   "cell_type": "markdown",
   "id": "436a97bb-c383-4145-ac32-2e501a72a583",
   "metadata": {},
   "source": [
    "#### Slice from the End "
   ]
  },
  {
   "cell_type": "code",
   "execution_count": 99,
   "id": "23ce2937-cbcd-494d-880e-22ec831fff38",
   "metadata": {},
   "outputs": [
    {
     "name": "stdout",
     "output_type": "stream",
     "text": [
      "Sohail\n",
      "Sohail\n"
     ]
    }
   ],
   "source": [
    "x = \"Anas Sohail\"\n",
    "print(x[5:])\n",
    "print(x[-6:])"
   ]
  },
  {
   "cell_type": "markdown",
   "id": "f9c1caf3-be66-4914-bf74-80435e168d89",
   "metadata": {},
   "source": [
    "##### Upper Case And Lower Case"
   ]
  },
  {
   "cell_type": "code",
   "execution_count": 109,
   "id": "afbee8be-b4e0-4f1f-8579-221fe9fb3a62",
   "metadata": {},
   "outputs": [
    {
     "name": "stdout",
     "output_type": "stream",
     "text": [
      "ANAS SOHAIL\n",
      "anas sohail\n"
     ]
    }
   ],
   "source": [
    "x = \"Anas Sohail\"\n",
    "print(x.upper())\n",
    "print(x.lower())"
   ]
  },
  {
   "cell_type": "markdown",
   "id": "551374d0-01bd-470b-90f5-a549239a460c",
   "metadata": {},
   "source": [
    "##### Remove White Spaces using strip()"
   ]
  },
  {
   "cell_type": "code",
   "execution_count": 112,
   "id": "ff07ddb9-667a-4235-a59a-2dc5ec8a1d42",
   "metadata": {},
   "outputs": [
    {
     "name": "stdout",
     "output_type": "stream",
     "text": [
      "' Anas Sohail '\n"
     ]
    }
   ],
   "source": [
    "x = \" ' Anas Sohail ' \"\n",
    "print(x.strip())"
   ]
  },
  {
   "cell_type": "markdown",
   "id": "753a541f-3cea-45db-a5fe-edcca5f9de6f",
   "metadata": {},
   "source": [
    "##### Replace string using replace()"
   ]
  },
  {
   "cell_type": "code",
   "execution_count": 118,
   "id": "851a4098-6021-4e72-a01b-29e5ed19276e",
   "metadata": {},
   "outputs": [
    {
     "name": "stdout",
     "output_type": "stream",
     "text": [
      "Anas sohail\n"
     ]
    }
   ],
   "source": [
    "x = \"AnaS Sohail\"\n",
    "print(x.replace(\"S\",\"s\"))"
   ]
  },
  {
   "cell_type": "markdown",
   "id": "ea51afbd-7223-458d-91e2-6261325440dc",
   "metadata": {},
   "source": [
    "##### String Concatenation"
   ]
  },
  {
   "cell_type": "code",
   "execution_count": 125,
   "id": "17f9a2d8-2912-4e80-846a-b83158bfa0a5",
   "metadata": {},
   "outputs": [
    {
     "name": "stdout",
     "output_type": "stream",
     "text": [
      "AnasSohail\n",
      "Anas Sohail\n"
     ]
    }
   ],
   "source": [
    "a = \"Anas\"\n",
    "b = \"Sohail\"\n",
    "print(a + b)\n",
    "print(a + \" \" + b)"
   ]
  },
  {
   "cell_type": "markdown",
   "id": "3df77714-1592-4044-be1e-ac50c00d1cd2",
   "metadata": {},
   "source": [
    "##### Concatenate string & number Using F-String & Placeholder {}"
   ]
  },
  {
   "cell_type": "code",
   "execution_count": 138,
   "id": "c197c128-5b01-4ca1-9bc5-aaf375625440",
   "metadata": {},
   "outputs": [
    {
     "name": "stdout",
     "output_type": "stream",
     "text": [
      "Anas 1\n",
      "Anas's roll no. is 1\n"
     ]
    }
   ],
   "source": [
    "a = f\"Anas\"\n",
    "b = 1\n",
    "c = f\"Anas's roll no. is {b}\"\n",
    "print(a, b)\n",
    "print(c)"
   ]
  },
  {
   "cell_type": "code",
   "execution_count": 141,
   "id": "251d6f59-b4b4-4f23-ba83-37c3844d913e",
   "metadata": {},
   "outputs": [
    {
     "name": "stdout",
     "output_type": "stream",
     "text": [
      "Sum of a & b is 230\n"
     ]
    }
   ],
   "source": [
    "a = 10\n",
    "b = 23\n",
    "c = f\"Sum of a & b is {a * b}\"\n",
    "print(c)"
   ]
  },
  {
   "cell_type": "markdown",
   "id": "d634dcad-a601-4182-8aad-ba060c878292",
   "metadata": {},
   "source": [
    "##### Escape Character"
   ]
  },
  {
   "cell_type": "code",
   "execution_count": 148,
   "id": "08a77739-1130-43e9-adcf-1485535edbfd",
   "metadata": {},
   "outputs": [
    {
     "name": "stdout",
     "output_type": "stream",
     "text": [
      "\"Anas\" Sohail\n"
     ]
    }
   ],
   "source": [
    "x = \"\\\"Anas\\\" Sohail\"\n",
    "print(x)"
   ]
  },
  {
   "cell_type": "markdown",
   "id": "6d3e0ba4-69bd-4a52-a421-e20304ad493a",
   "metadata": {},
   "source": [
    "\"\"\"\n",
    "Code\n",
    "Result\tTry it\n",
    "\\'\t    Single Quote\t\n",
    "\\\\\t    Backslash\t\n",
    "\\n\t    New Line\t\n",
    "\\r\t    Carriage Return\t\n",
    "\\t\t    Tab\t\n",
    "\\b\t    Backspace\t\n",
    "\\f\t    Form Feed\t\n",
    "\\ooo\tOctal value\t\n",
    "\\xhh\tHex value\n",
    "\"\"\""
   ]
  },
  {
   "cell_type": "markdown",
   "id": "3de8712c-f359-43ae-9ada-ef67423281ac",
   "metadata": {},
   "source": [
    "#### String Methods"
   ]
  },
  {
   "cell_type": "code",
   "execution_count": 156,
   "id": "47222888-ddb9-4ce8-a4c3-8f09f2a15253",
   "metadata": {},
   "outputs": [
    {
     "name": "stdout",
     "output_type": "stream",
     "text": [
      "Anas sohail\n"
     ]
    }
   ],
   "source": [
    "x = \"Anas Sohail\"\n",
    "print(x.capitalize())"
   ]
  },
  {
   "cell_type": "code",
   "execution_count": 160,
   "id": "f3c6b563-794a-4b27-9f3f-d4d7dd6944b9",
   "metadata": {},
   "outputs": [
    {
     "name": "stdout",
     "output_type": "stream",
     "text": [
      "anas sohail\n"
     ]
    }
   ],
   "source": [
    "x = \"AnAS Sohail\"\n",
    "print(x.casefold())"
   ]
  },
  {
   "cell_type": "code",
   "execution_count": 176,
   "id": "acc44362-1e13-4e77-8bce-5a2f97fd878a",
   "metadata": {},
   "outputs": [
    {
     "name": "stdout",
     "output_type": "stream",
     "text": [
      "****Anas Sohail*****\n"
     ]
    }
   ],
   "source": [
    "x = \"Anas Sohail\"\n",
    "print(x.center(20,\"*\"))"
   ]
  },
  {
   "cell_type": "code",
   "execution_count": 194,
   "id": "a7457ad8-4a0e-48b6-a836-cba279f0cefd",
   "metadata": {},
   "outputs": [
    {
     "name": "stdout",
     "output_type": "stream",
     "text": [
      "1\n",
      "0\n",
      "1\n",
      "2\n",
      "1\n"
     ]
    }
   ],
   "source": [
    "x = \"My name is Anas Sohail, my father name is Muhammad Sohail\"\n",
    "print(x.count(\"Anas\",7))\n",
    "print(x.count(\"Anas\",12))\n",
    "print(x.count(\"Sohail\",17))\n",
    "print(x.count(\"Sohail\",12))\n",
    "print(x.count(\"Sohail\",12,25))"
   ]
  },
  {
   "cell_type": "markdown",
   "id": "ef295544-dce8-49dd-bc63-ef9c2465fae0",
   "metadata": {},
   "source": [
    "# Boolean In Python"
   ]
  },
  {
   "cell_type": "markdown",
   "id": "484d008e-66ab-4e98-b5b2-86ca71642c25",
   "metadata": {},
   "source": [
    "###### The bool() function allows you to evaluate any value, and give you True or False in return,"
   ]
  },
  {
   "cell_type": "code",
   "execution_count": 199,
   "id": "e0b0c2f1-0972-4d23-9981-089cf8d88fed",
   "metadata": {},
   "outputs": [
    {
     "name": "stdout",
     "output_type": "stream",
     "text": [
      "True\n",
      "True\n"
     ]
    }
   ],
   "source": [
    "x = \"Anas\"\n",
    "y = 15\n",
    "\n",
    "print(bool(x))\n",
    "print(bool(y))"
   ]
  },
  {
   "cell_type": "markdown",
   "id": "d5e51868-d73a-4d42-80b0-881caec8f0fa",
   "metadata": {},
   "source": [
    "#### Most Values are True"
   ]
  },
  {
   "cell_type": "markdown",
   "id": "54d5fd23-99bf-432d-ae7c-ede9cf989674",
   "metadata": {},
   "source": [
    "###### Any string is True, except empty strings.\n",
    "###### Any number is True, except 0.\n",
    "###### Any list, tuple, set, and dictionary are True, except empty ones."
   ]
  },
  {
   "cell_type": "code",
   "execution_count": 233,
   "id": "b7502c45-4c2c-4f49-a28a-b5c833ef8c36",
   "metadata": {},
   "outputs": [
    {
     "name": "stdout",
     "output_type": "stream",
     "text": [
      "True\n",
      "True\n",
      "True\n"
     ]
    }
   ],
   "source": [
    "print(bool(\"Anas\"))\n",
    "print(bool(100))\n",
    "print(bool([\"Apple\", \"Mango\",\"Banana\"]))"
   ]
  },
  {
   "cell_type": "markdown",
   "id": "01f241aa-8dc1-4c67-891b-9bade73b1ba1",
   "metadata": {},
   "source": [
    "#### Some Values are False"
   ]
  },
  {
   "cell_type": "markdown",
   "id": "217b04fd-9ecd-44ce-979c-45204f8080d1",
   "metadata": {},
   "source": [
    "###### In fact, there are not many values that evaluate to False,\n",
    "###### except empty values, such as (), [], {}, \"\", \n",
    "###### the number 0, and the value None. And of course the value False evaluates to False."
   ]
  },
  {
   "cell_type": "code",
   "execution_count": 251,
   "id": "98e0ab56-bc16-4c8a-b86b-e31963d2e224",
   "metadata": {},
   "outputs": [
    {
     "name": "stdout",
     "output_type": "stream",
     "text": [
      "False\n",
      "False\n",
      "False\n",
      "False\n",
      "False\n",
      "False\n",
      "False\n"
     ]
    }
   ],
   "source": [
    "print(bool(False))\n",
    "print(bool(None))\n",
    "print(bool(0))\n",
    "print(bool(\"\"))\n",
    "print(bool(()))\n",
    "print(bool([]))\n",
    "print(bool({}))"
   ]
  },
  {
   "cell_type": "code",
   "execution_count": 3,
   "id": "d3bcb3bb-838d-4312-a42d-1275bf6dfd66",
   "metadata": {},
   "outputs": [
    {
     "data": {
      "text/plain": [
       "['__add__',\n",
       " '__class__',\n",
       " '__contains__',\n",
       " '__delattr__',\n",
       " '__dir__',\n",
       " '__doc__',\n",
       " '__eq__',\n",
       " '__format__',\n",
       " '__ge__',\n",
       " '__getattribute__',\n",
       " '__getitem__',\n",
       " '__getnewargs__',\n",
       " '__getstate__',\n",
       " '__gt__',\n",
       " '__hash__',\n",
       " '__init__',\n",
       " '__init_subclass__',\n",
       " '__iter__',\n",
       " '__le__',\n",
       " '__len__',\n",
       " '__lt__',\n",
       " '__mod__',\n",
       " '__mul__',\n",
       " '__ne__',\n",
       " '__new__',\n",
       " '__reduce__',\n",
       " '__reduce_ex__',\n",
       " '__repr__',\n",
       " '__rmod__',\n",
       " '__rmul__',\n",
       " '__setattr__',\n",
       " '__sizeof__',\n",
       " '__str__',\n",
       " '__subclasshook__',\n",
       " 'capitalize',\n",
       " 'casefold',\n",
       " 'center',\n",
       " 'count',\n",
       " 'encode',\n",
       " 'endswith',\n",
       " 'expandtabs',\n",
       " 'find',\n",
       " 'format',\n",
       " 'format_map',\n",
       " 'index',\n",
       " 'isalnum',\n",
       " 'isalpha',\n",
       " 'isascii',\n",
       " 'isdecimal',\n",
       " 'isdigit',\n",
       " 'isidentifier',\n",
       " 'islower',\n",
       " 'isnumeric',\n",
       " 'isprintable',\n",
       " 'isspace',\n",
       " 'istitle',\n",
       " 'isupper',\n",
       " 'join',\n",
       " 'ljust',\n",
       " 'lower',\n",
       " 'lstrip',\n",
       " 'maketrans',\n",
       " 'partition',\n",
       " 'removeprefix',\n",
       " 'removesuffix',\n",
       " 'replace',\n",
       " 'rfind',\n",
       " 'rindex',\n",
       " 'rjust',\n",
       " 'rpartition',\n",
       " 'rsplit',\n",
       " 'rstrip',\n",
       " 'split',\n",
       " 'splitlines',\n",
       " 'startswith',\n",
       " 'strip',\n",
       " 'swapcase',\n",
       " 'title',\n",
       " 'translate',\n",
       " 'upper',\n",
       " 'zfill']"
      ]
     },
     "execution_count": 3,
     "metadata": {},
     "output_type": "execute_result"
    }
   ],
   "source": [
    "dir(str)"
   ]
  },
  {
   "cell_type": "code",
   "execution_count": 32,
   "id": "61384bee-b8b2-4a84-8fe2-cbc164f60a94",
   "metadata": {},
   "outputs": [
    {
     "name": "stdout",
     "output_type": "stream",
     "text": [
      "My name is anas sohail\n",
      "my name is anas sohail\n",
      "         My Name is anas sohail         \n",
      "1\n",
      "b'My Name is anas sohail'\n",
      "True\n",
      "False\n",
      "My   Name      is   anas      sohail\n",
      "11\n",
      "-1\n"
     ]
    }
   ],
   "source": [
    "str = \"my name is anas sohail\"\n",
    "print(str.capitalize())\n",
    "\n",
    "str = \"My Name is anas sohail\"\n",
    "print(str.casefold())\n",
    "\n",
    "str = \"My Name is anas sohail\"\n",
    "print(str.center(40))\n",
    "\n",
    "str = \"My Name is anas sohail\"\n",
    "print(str.count(\"is\"))\n",
    "\n",
    "str = \"My Name is anas sohail\"\n",
    "print(str.encode())\n",
    "\n",
    "str = \"My Name is anas sohail\"\n",
    "print(str.endswith(\"il\"))\n",
    "\n",
    "str = \"My Name is anas sohail\"\n",
    "print(str.endswith(\"anas\"))\n",
    "\n",
    "str = \"My \\tName \\tis \\tanas \\tsohail\"\n",
    "print(str.expandtabs(5))\n",
    "\n",
    "str = \"My Name is anas sohail\"\n",
    "print(str.find(\"anas\"))\n",
    "\n",
    "str = \"My Name is anas sohail\"\n",
    "print(str.find(\"xm \"))"
   ]
  },
  {
   "cell_type": "code",
   "execution_count": 80,
   "id": "5dc22e80-f923-4459-a7e5-6349ed11fe3c",
   "metadata": {},
   "outputs": [
    {
     "name": "stdout",
     "output_type": "stream",
     "text": [
      "My Name is Anas Sohail, I am 25 years old\n",
      "My name is Anas Sohail, I am 25 years old\n",
      "11\n",
      "True\n",
      "False\n",
      "True\n",
      "False\n"
     ]
    }
   ],
   "source": [
    "str = \"My Name is {name} Sohail, I am {age} years old\"\n",
    "print(str.format(name = \"Anas\", age = 25))\n",
    "\n",
    "\n",
    "data = {\"name\" : \"Anas\", \"age\" : 25}\n",
    "str = \"My name is {name} Sohail, I am {age} years old\"\n",
    "print(str.format_map(data))\n",
    "\n",
    "str = \"My Name is anas sohail\"\n",
    "print(str.index(\"anas\", 3, 20))\n",
    "\n",
    "\n",
    "\n",
    "\n",
    "#isascii','isdecimal','isdigit','isidentifier','islower','isnumeric','isprintable','isspace','istitle','isupper',\n",
    "\n",
    "\n",
    "str = \"MyNameisAnasSohail1\"\n",
    "print(str.isalnum())\n",
    "print(str.isalpha())\n",
    "print(str.isascii())\n",
    "print(str.isupper())"
   ]
  },
  {
   "cell_type": "code",
   "execution_count": 88,
   "id": "a598c593-bd99-43a6-bd3d-8edf29be80cd",
   "metadata": {},
   "outputs": [
    {
     "name": "stdout",
     "output_type": "stream",
     "text": [
      "['banana', 'apple', 'banana', 'apple']\n"
     ]
    }
   ],
   "source": [
    "x = ['apple', 'banana', 'apple', 'banana'] \n",
    "print(x[::-1])\n",
    " \n"
   ]
  },
  {
   "cell_type": "markdown",
   "id": "3f020460-5a14-4642-9444-a006a790b176",
   "metadata": {},
   "source": [
    "### "
   ]
  },
  {
   "cell_type": "code",
   "execution_count": null,
   "id": "5da6a373-e535-4f2b-928b-d703430cb4b4",
   "metadata": {},
   "outputs": [],
   "source": []
  }
 ],
 "metadata": {
  "kernelspec": {
   "display_name": "Python 3 (ipykernel)",
   "language": "python",
   "name": "python3"
  },
  "language_info": {
   "codemirror_mode": {
    "name": "ipython",
    "version": 3
   },
   "file_extension": ".py",
   "mimetype": "text/x-python",
   "name": "python",
   "nbconvert_exporter": "python",
   "pygments_lexer": "ipython3",
   "version": "3.12.4"
  }
 },
 "nbformat": 4,
 "nbformat_minor": 5
}
