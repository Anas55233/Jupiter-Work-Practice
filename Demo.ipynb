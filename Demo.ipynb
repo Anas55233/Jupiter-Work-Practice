{
 "cells": [
  {
   "cell_type": "code",
   "execution_count": 8,
   "id": "4c2b2f40-505b-4905-adb5-be308ebfdb54",
   "metadata": {},
   "outputs": [
    {
     "name": "stdout",
     "output_type": "stream",
     "text": [
      "Anas Sohail\n"
     ]
    }
   ],
   "source": [
    "print(\"Anas Sohail\")"
   ]
  },
  {
   "cell_type": "code",
   "execution_count": 10,
   "id": "cc8e7f2b-0256-4f7c-b393-8172f00f3856",
   "metadata": {},
   "outputs": [
    {
     "name": "stdout",
     "output_type": "stream",
     "text": [
      "18\n"
     ]
    }
   ],
   "source": [
    "print(2*9)"
   ]
  },
  {
   "cell_type": "markdown",
   "id": "d104ec2a-fb74-4adb-8e88-03a7c4a02fa0",
   "metadata": {},
   "source": [
    "ddd"
   ]
  },
  {
   "cell_type": "markdown",
   "id": "4f732257-1837-4ce2-8a7b-698ecef5f712",
   "metadata": {},
   "source": [
    "Python Comments:-"
   ]
  },
  {
   "cell_type": "code",
   "execution_count": 16,
   "id": "9d9a30ad-812f-48b4-8720-3a8dc9e5c555",
   "metadata": {},
   "outputs": [
    {
     "name": "stdout",
     "output_type": "stream",
     "text": [
      "Anas\n"
     ]
    }
   ],
   "source": [
    "#this is comment\n",
    "print(\"Anas\")"
   ]
  },
  {
   "cell_type": "code",
   "execution_count": 18,
   "id": "93bc81fc-d7f0-4607-9600-61b740ba0484",
   "metadata": {},
   "outputs": [
    {
     "name": "stdout",
     "output_type": "stream",
     "text": [
      "Anas\n"
     ]
    }
   ],
   "source": [
    "print(\"Anas\") #this is comment"
   ]
  },
  {
   "cell_type": "code",
   "execution_count": 22,
   "id": "1012cb6b-c2ac-48e5-9817-4e48ed92d513",
   "metadata": {},
   "outputs": [
    {
     "name": "stdout",
     "output_type": "stream",
     "text": [
      "7\n"
     ]
    }
   ],
   "source": [
    "\"\"\"This is comment\"\"\"\n",
    "print(2+5)"
   ]
  },
  {
   "cell_type": "code",
   "execution_count": 24,
   "id": "430268d9-30ba-4d31-b09f-8c73a9b820d1",
   "metadata": {},
   "outputs": [],
   "source": [
    "x=5"
   ]
  },
  {
   "cell_type": "code",
   "execution_count": 26,
   "id": "40b7f115-86e5-493b-964a-e34386ba1fe8",
   "metadata": {},
   "outputs": [],
   "source": [
    "x,y,z = 8,9,7"
   ]
  },
  {
   "cell_type": "code",
   "execution_count": 30,
   "id": "a9ea6d74-3e14-42d6-ba76-16d62258ac0a",
   "metadata": {},
   "outputs": [
    {
     "name": "stdout",
     "output_type": "stream",
     "text": [
      "8\n",
      "9\n",
      "7\n"
     ]
    }
   ],
   "source": [
    "print(x)\n",
    "print(y)\n",
    "print(z)"
   ]
  },
  {
   "cell_type": "code",
   "execution_count": 32,
   "id": "a302b0cc-320e-4ad2-b2af-a7c74739add6",
   "metadata": {},
   "outputs": [],
   "source": [
    "x=4"
   ]
  },
  {
   "cell_type": "code",
   "execution_count": 34,
   "id": "db0c3075-1e15-4c91-bdc2-c9cfa979c9be",
   "metadata": {},
   "outputs": [
    {
     "name": "stdout",
     "output_type": "stream",
     "text": [
      "4\n",
      "9\n",
      "7\n"
     ]
    }
   ],
   "source": [
    "print(x)\n",
    "print(y)\n",
    "print(z)"
   ]
  },
  {
   "cell_type": "code",
   "execution_count": 36,
   "id": "4575795a-7151-46bc-bca7-c134c9ec9d9d",
   "metadata": {},
   "outputs": [],
   "source": [
    "y = 9,8"
   ]
  },
  {
   "cell_type": "code",
   "execution_count": 38,
   "id": "5a938561-7c3b-4c8e-96b5-ace428d126b6",
   "metadata": {},
   "outputs": [
    {
     "name": "stdout",
     "output_type": "stream",
     "text": [
      "4\n",
      "(9, 8)\n",
      "7\n"
     ]
    }
   ],
   "source": [
    "print(x)\n",
    "print(y)\n",
    "print(z)"
   ]
  },
  {
   "cell_type": "code",
   "execution_count": 42,
   "id": "bd0808b0-17a3-419a-8a05-128b2b5056dd",
   "metadata": {},
   "outputs": [],
   "source": [
    "y = \"anas\""
   ]
  },
  {
   "cell_type": "code",
   "execution_count": 44,
   "id": "e1d0dbb2-a6ff-4c26-93e8-b906858eb1a2",
   "metadata": {},
   "outputs": [
    {
     "name": "stdout",
     "output_type": "stream",
     "text": [
      "4\n",
      "anas\n",
      "7\n"
     ]
    }
   ],
   "source": [
    "print(x)\n",
    "print(y)\n",
    "print(z)"
   ]
  },
  {
   "cell_type": "code",
   "execution_count": 50,
   "id": "4c567f40-71a2-4214-a4da-334f615ad5cd",
   "metadata": {},
   "outputs": [],
   "source": [
    "x=y=z=\"Anas\""
   ]
  },
  {
   "cell_type": "raw",
   "id": "f5ce2dd5-a15d-4a62-838f-1b55992077ef",
   "metadata": {},
   "source": [
    "print(x)"
   ]
  },
  {
   "cell_type": "code",
   "execution_count": 52,
   "id": "1c4bc670-91e1-42a7-a08c-4a8b0fccc012",
   "metadata": {},
   "outputs": [],
   "source": [
    "x = 9"
   ]
  },
  {
   "cell_type": "code",
   "execution_count": 54,
   "id": "48f17b27-4d76-4494-9a64-8f56e643da29",
   "metadata": {},
   "outputs": [
    {
     "name": "stdout",
     "output_type": "stream",
     "text": [
      "9\n"
     ]
    }
   ],
   "source": [
    "print(x)"
   ]
  },
  {
   "cell_type": "code",
   "execution_count": 56,
   "id": "31518abe-15be-4235-b630-cb0cd4204974",
   "metadata": {},
   "outputs": [],
   "source": [
    "x = y = z = \"Anas\""
   ]
  },
  {
   "cell_type": "code",
   "execution_count": 58,
   "id": "f2fcd4fd-2b23-48e4-a913-ee6eb6f1c5f5",
   "metadata": {},
   "outputs": [
    {
     "name": "stdout",
     "output_type": "stream",
     "text": [
      "Anas\n"
     ]
    }
   ],
   "source": [
    "print(x)"
   ]
  },
  {
   "cell_type": "code",
   "execution_count": 62,
   "id": "1bd15bde-235c-4615-8a57-7bfc9afdd8f3",
   "metadata": {},
   "outputs": [
    {
     "name": "stdout",
     "output_type": "stream",
     "text": [
      "Anas\n",
      "Anas\n",
      "Anas\n"
     ]
    }
   ],
   "source": [
    "print(x)\n",
    "print(y)\n",
    "print(z)"
   ]
  },
  {
   "cell_type": "code",
   "execution_count": 66,
   "id": "b9a0b855-4881-43bc-ac78-9d41b5d0fd69",
   "metadata": {},
   "outputs": [
    {
     "name": "stdout",
     "output_type": "stream",
     "text": [
      "2\n",
      "<class 'int'>\n"
     ]
    }
   ],
   "source": [
    "x = 2\n",
    "print(x)\n",
    "print(type(x))"
   ]
  },
  {
   "cell_type": "code",
   "execution_count": 68,
   "id": "690336d0-efba-4286-bf97-91f025bc8a37",
   "metadata": {},
   "outputs": [
    {
     "name": "stdout",
     "output_type": "stream",
     "text": [
      "2.4\n",
      "<class 'float'>\n"
     ]
    }
   ],
   "source": [
    "x = 2.4\n",
    "print(x)\n",
    "print(type(x))"
   ]
  },
  {
   "cell_type": "code",
   "execution_count": 70,
   "id": "b69d6f3e-b42a-48db-89ec-6ae99445fe38",
   "metadata": {},
   "outputs": [
    {
     "name": "stdout",
     "output_type": "stream",
     "text": [
      "6\n",
      "<class 'int'>\n"
     ]
    }
   ],
   "source": [
    "x = 2+4\n",
    "print(x)\n",
    "print(type(x))"
   ]
  },
  {
   "cell_type": "code",
   "execution_count": 108,
   "id": "fe35f5fb-996f-45c3-a16f-b2890ecc630f",
   "metadata": {},
   "outputs": [
    {
     "name": "stdout",
     "output_type": "stream",
     "text": [
      "2j\n",
      "<class 'complex'>\n"
     ]
    }
   ],
   "source": [
    "x = 2j\n",
    "print(x)\n",
    "print(type(x))"
   ]
  },
  {
   "cell_type": "code",
   "execution_count": 112,
   "id": "65aa3ded-f7a5-41f6-be79-5cfeecfdc0e3",
   "metadata": {},
   "outputs": [],
   "source": [
    "x = \"Anas\""
   ]
  },
  {
   "cell_type": "code",
   "execution_count": 76,
   "id": "26f110bd-170c-4ec4-bd35-b18852f1e6a5",
   "metadata": {},
   "outputs": [
    {
     "name": "stdout",
     "output_type": "stream",
     "text": [
      "[1, 2, 3, 4]\n",
      "<class 'list'>\n"
     ]
    }
   ],
   "source": [
    "x = [1,2,3,4]\n",
    "print(x)\n",
    "print(type(x))"
   ]
  },
  {
   "cell_type": "code",
   "execution_count": 80,
   "id": "e3394a20-2236-47c0-b741-5b1d6b815cc5",
   "metadata": {},
   "outputs": [
    {
     "name": "stdout",
     "output_type": "stream",
     "text": [
      "Variable               Type        Data/Info\n",
      "--------------------------------------------\n",
      "dataframe_columns      function    <function dataframe_colum<...>ns at 0x000001FA6D162A20>\n",
      "dataframe_hash         function    <function dataframe_hash at 0x000001FA6E1D7100>\n",
      "dtypes_str             function    <function dtypes_str at 0x000001FA6E1D7060>\n",
      "get_dataframes         function    <function get_dataframes at 0x000001FA6E1D7240>\n",
      "getpass                module      <module 'getpass' from 'C<...>conda3\\\\Lib\\\\getpass.py'>\n",
      "hashlib                module      <module 'hashlib' from 'C<...>conda3\\\\Lib\\\\hashlib.py'>\n",
      "import_pandas_safely   function    <function import_pandas_s<...>ly at 0x000001FA6D163E20>\n",
      "is_data_frame          function    <function is_data_frame at 0x000001FA6D163D80>\n",
      "json                   module      <module 'json' from 'C:\\\\<...>\\Lib\\\\json\\\\__init__.py'>\n",
      "x                      tuple       n=4\n",
      "y                      str         Anas\n",
      "z                      str         Anas\n"
     ]
    }
   ],
   "source": [
    "%whos"
   ]
  },
  {
   "cell_type": "code",
   "execution_count": 78,
   "id": "4447096e-83d3-46f2-9613-73120544a102",
   "metadata": {},
   "outputs": [
    {
     "name": "stdout",
     "output_type": "stream",
     "text": [
      "(1, 2, 3, 4)\n",
      "<class 'tuple'>\n"
     ]
    }
   ],
   "source": [
    "x = (1,2,3,4)\n",
    "print(x)\n",
    "print(type(x))"
   ]
  },
  {
   "cell_type": "code",
   "execution_count": 114,
   "id": "aa46ea8d-3c1c-421c-8307-b2d4ac1594ee",
   "metadata": {},
   "outputs": [],
   "source": [
    "#OPERATORS"
   ]
  },
  {
   "cell_type": "code",
   "execution_count": 88,
   "id": "0ed728a9-1b30-40dd-af5a-42183b5fd67d",
   "metadata": {},
   "outputs": [
    {
     "name": "stdout",
     "output_type": "stream",
     "text": [
      "(6+2j)\n"
     ]
    }
   ],
   "source": [
    "a = 4+2j\n",
    "b = 2\n",
    "print(a + b)"
   ]
  },
  {
   "cell_type": "code",
   "execution_count": 106,
   "id": "397e4434-9f32-469c-9ceb-24b52bad23c4",
   "metadata": {},
   "outputs": [
    {
     "name": "stdout",
     "output_type": "stream",
     "text": [
      "(6+6j)\n"
     ]
    }
   ],
   "source": [
    "a = 4 + 2j\n",
    "b = 2 + 4j\n",
    "print(b + a)"
   ]
  },
  {
   "cell_type": "code",
   "execution_count": 118,
   "id": "6281e332-c3e8-4223-a090-ec3b0e858a92",
   "metadata": {},
   "outputs": [
    {
     "name": "stdout",
     "output_type": "stream",
     "text": [
      "Anas Sohail\n"
     ]
    }
   ],
   "source": [
    "a = \"Anas\"\n",
    "b = \"Sohail\"\n",
    "print( a + \" \" + b)"
   ]
  },
  {
   "cell_type": "code",
   "execution_count": null,
   "id": "aec418e7-4fa3-4142-8e30-4a05c3a04b1a",
   "metadata": {},
   "outputs": [],
   "source": []
  },
  {
   "cell_type": "code",
   "execution_count": null,
   "id": "a578072f-9bc1-45b3-96ff-1f68b5a950ab",
   "metadata": {},
   "outputs": [],
   "source": []
  }
 ],
 "metadata": {
  "kernelspec": {
   "display_name": "Python 3 (ipykernel)",
   "language": "python",
   "name": "python3"
  },
  "language_info": {
   "codemirror_mode": {
    "name": "ipython",
    "version": 3
   },
   "file_extension": ".py",
   "mimetype": "text/x-python",
   "name": "python",
   "nbconvert_exporter": "python",
   "pygments_lexer": "ipython3",
   "version": "3.12.4"
  }
 },
 "nbformat": 4,
 "nbformat_minor": 5
}
