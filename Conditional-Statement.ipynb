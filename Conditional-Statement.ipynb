{
 "cells": [
  {
   "cell_type": "markdown",
   "id": "e482dd3f-6e9d-4ab3-877a-d3d351416c63",
   "metadata": {},
   "source": [
    "# Python If ... Else"
   ]
  },
  {
   "cell_type": "markdown",
   "id": "105a02cf-007e-432d-97fd-0fc91340cc82",
   "metadata": {},
   "source": [
    "### If statement:\n",
    "\n"
   ]
  },
  {
   "cell_type": "code",
   "execution_count": 11,
   "id": "a80fefc6-6fff-4e7a-aed4-7fe09b81f45b",
   "metadata": {},
   "outputs": [
    {
     "name": "stdout",
     "output_type": "stream",
     "text": [
      "a is greater than b\n",
      "32 is greater than 22\n"
     ]
    }
   ],
   "source": [
    "a = 32\n",
    "b = 22\n",
    "if a > b:\n",
    "    print(\"a is greater than b\")\n",
    "    print(a, \"is greater than\", b)"
   ]
  },
  {
   "cell_type": "markdown",
   "id": "d238374a-27b6-46ab-bfc6-7243bf4723e4",
   "metadata": {},
   "source": [
    "### Elif & Else"
   ]
  },
  {
   "cell_type": "code",
   "execution_count": 16,
   "id": "c9702e88-e9b4-4888-a375-b653cae0fa39",
   "metadata": {},
   "outputs": [
    {
     "name": "stdout",
     "output_type": "stream",
     "text": [
      "a is greater than b\n"
     ]
    }
   ],
   "source": [
    "a = 32\n",
    "b = 22\n",
    "if a < b:\n",
    "    print(\"a is smaller than b\")\n",
    "elif a == b:\n",
    "    print(\"a is equal to b\")\n",
    "else:\n",
    "    print(\"a is greater than b\")\n",
    "    "
   ]
  },
  {
   "cell_type": "code",
   "execution_count": 22,
   "id": "b8ada757-5ebc-46b1-ae9d-baf8a43ec08b",
   "metadata": {},
   "outputs": [
    {
     "name": "stdout",
     "output_type": "stream",
     "text": [
      "a is greater than b\n"
     ]
    }
   ],
   "source": [
    "a = 32\n",
    "b = 22\n",
    "print(\"a is smaller than b\") if a < b else print(\"a is equal to b\") if a == b  else print(\"a is greater than b\")"
   ]
  },
  {
   "cell_type": "markdown",
   "id": "35ce3af8-3fa7-4a8c-860f-7d95dab62f4a",
   "metadata": {},
   "source": [
    "### And operator"
   ]
  },
  {
   "cell_type": "code",
   "execution_count": 32,
   "id": "1ca63c4d-d1b4-4cda-ab04-d2b7b3eb8ddf",
   "metadata": {},
   "outputs": [
    {
     "name": "stdout",
     "output_type": "stream",
     "text": [
      "a is greater than b but smaller than c\n"
     ]
    }
   ],
   "source": [
    "a = 32\n",
    "b = 22\n",
    "c = 34\n",
    "if a > b and a < c: print(\"a is greater than b but smaller than c\") "
   ]
  },
  {
   "cell_type": "markdown",
   "id": "66bd8b72-66e7-4a18-b2b1-faae2e643372",
   "metadata": {},
   "source": [
    "### Nested If"
   ]
  },
  {
   "cell_type": "code",
   "execution_count": 45,
   "id": "b095b137-b9f3-4e57-8815-1ee9f5aa105e",
   "metadata": {},
   "outputs": [
    {
     "name": "stdout",
     "output_type": "stream",
     "text": [
      "greater than 15\n",
      "also greater than 30\n"
     ]
    }
   ],
   "source": [
    "a = 32\n",
    "if a > 15:\n",
    "    print(\"greater than 15\")\n",
    "    if a > 30:\n",
    "        print(\"also greater than 30\")\n",
    "else:\n",
    "        print(\"not geater than 30\")\n"
   ]
  },
  {
   "cell_type": "code",
   "execution_count": 49,
   "id": "305cb8e8-a766-4b6a-b793-77af94a83dfe",
   "metadata": {},
   "outputs": [],
   "source": [
    "a = 32\n",
    "b = 22\n",
    "if a < b:\n",
    "    pass #avoid error"
   ]
  },
  {
   "cell_type": "code",
   "execution_count": null,
   "id": "c1aa1f1c-7ab6-43e3-ad53-8aa175b45395",
   "metadata": {},
   "outputs": [],
   "source": []
  }
 ],
 "metadata": {
  "kernelspec": {
   "display_name": "Python 3 (ipykernel)",
   "language": "python",
   "name": "python3"
  },
  "language_info": {
   "codemirror_mode": {
    "name": "ipython",
    "version": 3
   },
   "file_extension": ".py",
   "mimetype": "text/x-python",
   "name": "python",
   "nbconvert_exporter": "python",
   "pygments_lexer": "ipython3",
   "version": "3.12.4"
  }
 },
 "nbformat": 4,
 "nbformat_minor": 5
}
