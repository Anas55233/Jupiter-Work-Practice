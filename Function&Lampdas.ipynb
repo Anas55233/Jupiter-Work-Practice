{
 "cells": [
  {
   "cell_type": "markdown",
   "id": "471c8e99-4bd9-425c-9244-211dd717b8fc",
   "metadata": {},
   "source": [
    "# Python Functions"
   ]
  },
  {
   "cell_type": "code",
   "execution_count": 2,
   "id": "6a3e0079-9577-4c60-8433-11d55435d1d6",
   "metadata": {},
   "outputs": [],
   "source": [
    "# A function is a block of code which only runs when it is called.\n",
    "# You can pass data, known as parameters, into a function.\n",
    "# A function can return data as a result."
   ]
  },
  {
   "cell_type": "markdown",
   "id": "0365308f-0fca-49fc-99e2-8c8ce8859b04",
   "metadata": {},
   "source": [
    "##### create and calling Function"
   ]
  },
  {
   "cell_type": "code",
   "execution_count": 7,
   "id": "22e08724-0569-4f94-a76a-5d9721f7fd6e",
   "metadata": {},
   "outputs": [
    {
     "name": "stdout",
     "output_type": "stream",
     "text": [
      "this is my Function\n"
     ]
    }
   ],
   "source": [
    "# In Python a function is defined using the def keyword:\n",
    "def my_function():\n",
    "    print(\"this is my Function\")\n",
    "# To call a function, use the function name followed by parenthesis:\n",
    "my_function()\n"
   ]
  },
  {
   "cell_type": "markdown",
   "id": "9effffd8-5688-432b-a88b-0f68f75f9975",
   "metadata": {},
   "source": [
    "#### Arguments\n",
    "###### Information can be passed into functions as arguments.\n",
    "\n",
    "###### Arguments are specified after the function name, inside the parentheses. You can add as many arguments as you want, just separate them with a comma."
   ]
  },
  {
   "cell_type": "code",
   "execution_count": 12,
   "id": "3d3467ba-6ba3-4fc6-afde-9fb70f12caee",
   "metadata": {},
   "outputs": [
    {
     "name": "stdout",
     "output_type": "stream",
     "text": [
      "-18\n",
      "9\n",
      "-17\n"
     ]
    }
   ],
   "source": [
    "def add_number(num1, num2, num3):\n",
    "    print(num1 + num2 - num3 * num1)\n",
    "\n",
    "add_number(4, 6, 7)\n",
    "add_number(5, 9, 1)\n",
    "add_number(4, 7, 7)"
   ]
  },
  {
   "cell_type": "code",
   "execution_count": 24,
   "id": "6369d825-b78f-4c95-b688-1213c0385e47",
   "metadata": {},
   "outputs": [
    {
     "name": "stdout",
     "output_type": "stream",
     "text": [
      "7\n",
      "1\n",
      "7\n"
     ]
    }
   ],
   "source": [
    "def add_number(*num2):\n",
    "    print(num2[2])\n",
    "\n",
    "add_number(4, 6, 7)\n",
    "add_number(5, 9, 1)\n",
    "add_number(4, 7, 7)"
   ]
  },
  {
   "cell_type": "code",
   "execution_count": 26,
   "id": "e78964fe-43d1-42bb-ac7c-e19bd931ff50",
   "metadata": {},
   "outputs": [
    {
     "name": "stdout",
     "output_type": "stream",
     "text": [
      "-18\n",
      "9\n",
      "-17\n"
     ]
    }
   ],
   "source": [
    "def add_number(num1, num2, num3):\n",
    "    print(num1 + num2 - num3 * num1)\n",
    "\n",
    "add_number(num1 = 4, num2 = 6, num3 = 7)\n",
    "add_number(5, 9, 1)\n",
    "add_number(4, 7, 7)"
   ]
  },
  {
   "cell_type": "code",
   "execution_count": 36,
   "id": "abf3499d-de88-451d-bf90-c5e5d777fcfc",
   "metadata": {},
   "outputs": [
    {
     "name": "stdout",
     "output_type": "stream",
     "text": [
      "4\n"
     ]
    }
   ],
   "source": [
    "def add_number(**num2):\n",
    "    print(num2[\"n1\"])\n",
    "\n",
    "add_number(n1 = 4, n2 = 6, n3 = 7)"
   ]
  },
  {
   "cell_type": "markdown",
   "id": "f3f30bc2-fc9e-4785-a2a3-b17a00a6f793",
   "metadata": {},
   "source": [
    "#### Default Parameter Value\n",
    "###### The following example shows how to use a default parameter value.\n",
    "###### If we call the function without argument, it uses the default value:\n",
    "\n"
   ]
  },
  {
   "cell_type": "code",
   "execution_count": 45,
   "id": "0dad3f0d-34cd-4951-ac57-ecee5b11a933",
   "metadata": {},
   "outputs": [
    {
     "name": "stdout",
     "output_type": "stream",
     "text": [
      "I am from Sweden\n",
      "I am from India\n",
      "I am from Norway\n",
      "I am from Brazil\n"
     ]
    }
   ],
   "source": [
    "def my_function(country = \"Norway\"):\n",
    "  print(\"I am from \" + country)\n",
    "\n",
    "my_function(\"Sweden\")\n",
    "my_function(\"India\")\n",
    "my_function()\n",
    "my_function(\"Brazil\")\n"
   ]
  },
  {
   "cell_type": "code",
   "execution_count": 47,
   "id": "e27b2d79-78ab-4cc4-881c-287065f74f98",
   "metadata": {},
   "outputs": [
    {
     "name": "stdout",
     "output_type": "stream",
     "text": [
      "apple\n",
      "banana\n",
      "cherry\n"
     ]
    }
   ],
   "source": [
    "def my_function(food):\n",
    "  for x in food:\n",
    "    print(x)\n",
    "\n",
    "fruits = [\"apple\", \"banana\", \"cherry\"]\n",
    "\n",
    "my_function(fruits)"
   ]
  },
  {
   "cell_type": "code",
   "execution_count": 51,
   "id": "2f94bf33-bde6-4dfb-9bc9-248f91c1edba",
   "metadata": {},
   "outputs": [
    {
     "name": "stdout",
     "output_type": "stream",
     "text": [
      "('apple', 'banana', 'cherry')\n"
     ]
    }
   ],
   "source": [
    "def my_function(food):\n",
    "    print(food)\n",
    "\n",
    "fruits = (\"apple\", \"banana\", \"cherry\")\n",
    "\n",
    "my_function(fruits)"
   ]
  },
  {
   "cell_type": "markdown",
   "id": "4eb2e9bd-6de6-4c1c-85a0-647fd3d004fa",
   "metadata": {},
   "source": [
    "#### Return Values\n",
    "###### To let a function return a value, use the return statement:"
   ]
  },
  {
   "cell_type": "code",
   "execution_count": 54,
   "id": "6ec97e9d-dd8d-4f45-96a9-ae365975978e",
   "metadata": {},
   "outputs": [
    {
     "name": "stdout",
     "output_type": "stream",
     "text": [
      "-18\n",
      "9\n",
      "-17\n"
     ]
    }
   ],
   "source": [
    "def add_number(num1, num2, num3):\n",
    "    return num1 + num2 - num3 * num1\n",
    "\n",
    "print(add_number(4, 6, 7))\n",
    "print(add_number(5, 9, 1))\n",
    "print(add_number(4, 7, 7))"
   ]
  },
  {
   "cell_type": "markdown",
   "id": "dfe4b35a-1658-4ea9-a8f5-3ba34be34964",
   "metadata": {},
   "source": [
    "### Positional-Only Arguments\n",
    "###### You can specify that a function can have ONLY positional arguments, or ONLY keyword arguments."
   ]
  },
  {
   "cell_type": "code",
   "execution_count": 68,
   "id": "d530b4a7-50d9-4112-9e7f-11159483a38b",
   "metadata": {},
   "outputs": [
    {
     "name": "stdout",
     "output_type": "stream",
     "text": [
      "3\n",
      "3\n"
     ]
    },
    {
     "ename": "TypeError",
     "evalue": "my_function() got some positional-only arguments passed as keyword arguments: 'x'",
     "output_type": "error",
     "traceback": [
      "\u001b[1;31m---------------------------------------------------------------------------\u001b[0m",
      "\u001b[1;31mTypeError\u001b[0m                                 Traceback (most recent call last)",
      "Cell \u001b[1;32mIn[68], line 16\u001b[0m\n\u001b[0;32m     13\u001b[0m \u001b[38;5;28;01mdef\u001b[39;00m \u001b[38;5;21mmy_function\u001b[39m(x, \u001b[38;5;241m/\u001b[39m):\n\u001b[0;32m     14\u001b[0m   \u001b[38;5;28mprint\u001b[39m(x)\n\u001b[1;32m---> 16\u001b[0m my_function(x \u001b[38;5;241m=\u001b[39m \u001b[38;5;241m3\u001b[39m)\n",
      "\u001b[1;31mTypeError\u001b[0m: my_function() got some positional-only arguments passed as keyword arguments: 'x'"
     ]
    }
   ],
   "source": [
    "# To specify that a function can have only positional arguments, add , / after the arguments:\n",
    "def my_function(x, /):\n",
    "  print(x)\n",
    "my_function(3)\n",
    "\n",
    "# Without the , / you are actually allowed to use keyword arguments even if the function expects positional arguments:\n",
    "def my_function(x):\n",
    "  print(x)\n",
    "my_function(x = 3)\n",
    "\n",
    "\n",
    "# But when adding the , / you will get an error if you try to send a keyword argument:\n",
    "def my_function(x, /):\n",
    "  print(x)\n",
    "\n",
    "my_function(x = 3)"
   ]
  },
  {
   "cell_type": "markdown",
   "id": "4edff0a0-8e92-4558-8cd0-f240220749b3",
   "metadata": {},
   "source": [
    "### Keyword-Only Arguments\n"
   ]
  },
  {
   "cell_type": "code",
   "execution_count": 84,
   "id": "2580d6bb-9412-41be-b58c-cb702c7fdc73",
   "metadata": {},
   "outputs": [
    {
     "name": "stdout",
     "output_type": "stream",
     "text": [
      "-1\n",
      "3\n"
     ]
    },
    {
     "ename": "TypeError",
     "evalue": "my_function() takes 0 positional arguments but 1 was given",
     "output_type": "error",
     "traceback": [
      "\u001b[1;31m---------------------------------------------------------------------------\u001b[0m",
      "\u001b[1;31mTypeError\u001b[0m                                 Traceback (most recent call last)",
      "Cell \u001b[1;32mIn[84], line 17\u001b[0m\n\u001b[0;32m     14\u001b[0m \u001b[38;5;28;01mdef\u001b[39;00m \u001b[38;5;21mmy_function\u001b[39m(\u001b[38;5;241m*\u001b[39m, x):\n\u001b[0;32m     15\u001b[0m   \u001b[38;5;28mprint\u001b[39m(x)\n\u001b[1;32m---> 17\u001b[0m my_function(\u001b[38;5;241m3\u001b[39m)\n",
      "\u001b[1;31mTypeError\u001b[0m: my_function() takes 0 positional arguments but 1 was given"
     ]
    }
   ],
   "source": [
    "# To specify that a function can have only keyword arguments, add *, before the arguments:\n",
    "def my_function(*, x, y):\n",
    "  print(x - y)\n",
    "my_function(x = 3, y =4)\n",
    "\n",
    "\n",
    "# Without the *, you are allowed to use positionale arguments even if the function expects keyword arguments:\n",
    "def my_function(x):\n",
    "  print(x)\n",
    "my_function(x = 3)\n",
    "\n",
    "\n",
    "# But when adding the *, / you will get an error if you try to send a positional argument:\n",
    "def my_function(*, x):\n",
    "  print(x)\n",
    "\n",
    "my_function(3)\n"
   ]
  },
  {
   "cell_type": "markdown",
   "id": "25658d29-70ff-4c24-b950-52416548ba1e",
   "metadata": {},
   "source": [
    "#### Combine Positional-Only and Keyword-Only\n",
    "###### You can combine the two argument types in the same function.\n",
    "###### Any argument before the / , are positional-only, and any argument after the *, are keyword-only."
   ]
  },
  {
   "cell_type": "code",
   "execution_count": 82,
   "id": "c69fb7a4-2837-448e-aa4b-d516266756c0",
   "metadata": {},
   "outputs": [
    {
     "name": "stdout",
     "output_type": "stream",
     "text": [
      "22\n"
     ]
    }
   ],
   "source": [
    "def my_function(a, b, /, *, c, d):\n",
    "  print(a + b + c + d)\n",
    "\n",
    "my_function(5, 6, c = 7, d = 4)"
   ]
  },
  {
   "cell_type": "markdown",
   "id": "edf6e9f0-246d-4c78-abd4-d61197065654",
   "metadata": {},
   "source": [
    "# Python Lambda"
   ]
  },
  {
   "cell_type": "markdown",
   "id": "9095999f-d041-4837-ab9e-e49cede01aa5",
   "metadata": {},
   "source": [
    "###### A lambda function is a small anonymous function.\n",
    "###### A lambda function can take any number of arguments, but can only have one expression."
   ]
  },
  {
   "cell_type": "code",
   "execution_count": 1,
   "id": "52264fe6-0473-4820-9beb-10b9cfcb4c74",
   "metadata": {},
   "outputs": [
    {
     "name": "stdout",
     "output_type": "stream",
     "text": [
      "15\n"
     ]
    }
   ],
   "source": [
    "# \"x\" is variable in which lambda function assigned\n",
    "# \"a\" is lambda's argument \"a + 10\" is lambda's function expression\n",
    "\n",
    "x = lambda a : a + 10\n",
    "print(x(5))"
   ]
  },
  {
   "cell_type": "code",
   "execution_count": 4,
   "id": "3d3eae9b-fd80-4f6a-9687-e3cbccdbee0c",
   "metadata": {},
   "outputs": [
    {
     "name": "stdout",
     "output_type": "stream",
     "text": [
      "27\n",
      "8\n"
     ]
    }
   ],
   "source": [
    "# Lambda functions can take multiple arguments:\n",
    "x = lambda a, b: a + b * a\n",
    "print(x(3, 8))\n",
    "\n",
    "x = lambda a, b, c, d: a * b + c - a + d\n",
    "print(x(1,2,3,4))"
   ]
  },
  {
   "cell_type": "markdown",
   "id": "b189bf0a-a536-4c14-ae41-205ec0f90f38",
   "metadata": {},
   "source": [
    "#### Why Use Lambda Functions?\n",
    "###### The power of lambda is better shown when you use them as an anonymous function inside another function.\n",
    "###### Say you have a function definition that takes one argument, and that argument will be multiplied with an unknown number"
   ]
  },
  {
   "cell_type": "code",
   "execution_count": 6,
   "id": "ea99936e-90e9-4d79-8b8d-ff44e0659505",
   "metadata": {},
   "outputs": [
    {
     "name": "stdout",
     "output_type": "stream",
     "text": [
      "25\n"
     ]
    }
   ],
   "source": [
    "def my_func(n):\n",
    "    return lambda a: a + n\n",
    "assign_my_func = my_func(4)\n",
    "print(assign_my_func(21))"
   ]
  },
  {
   "cell_type": "code",
   "execution_count": null,
   "id": "616d1901-b062-4821-9a98-79fb5b27b8c5",
   "metadata": {},
   "outputs": [],
   "source": []
  }
 ],
 "metadata": {
  "kernelspec": {
   "display_name": "Python 3 (ipykernel)",
   "language": "python",
   "name": "python3"
  },
  "language_info": {
   "codemirror_mode": {
    "name": "ipython",
    "version": 3
   },
   "file_extension": ".py",
   "mimetype": "text/x-python",
   "name": "python",
   "nbconvert_exporter": "python",
   "pygments_lexer": "ipython3",
   "version": "3.12.4"
  }
 },
 "nbformat": 4,
 "nbformat_minor": 5
}
