{
 "cells": [
  {
   "cell_type": "markdown",
   "id": "5abec1e6-94ed-4b65-a434-7fb73af33fd5",
   "metadata": {},
   "source": [
    "# Lists In Python"
   ]
  },
  {
   "cell_type": "markdown",
   "id": "279df867-4920-477f-bb83-3eeb8f9cb4a3",
   "metadata": {},
   "source": [
    "##### Lists are used to store multiple items in a single variable. Lists are created using square brackets:"
   ]
  },
  {
   "cell_type": "code",
   "execution_count": 47,
   "id": "a9a33cdc-da44-45ca-af24-b3db360f8673",
   "metadata": {},
   "outputs": [
    {
     "name": "stdout",
     "output_type": "stream",
     "text": [
      "['apple', 'mango', 'banana', 'orange', 'apple']\n",
      "apple\n",
      "banana\n",
      "mango\n",
      "orange\n",
      "banana\n",
      "['apple', 'mango']\n",
      "['banana', 'orange']\n",
      "['apple', 'mango', 'banana', 'orange', 'apple']\n",
      "True\n"
     ]
    }
   ],
   "source": [
    "fruit_list = [\"apple\", \"mango\", \"banana\", \"orange\", \"apple\"]\n",
    "print(fruit_list)\n",
    "print(fruit_list[0])\n",
    "print(fruit_list[2])\n",
    "print(fruit_list[1])\n",
    "print(fruit_list[3])\n",
    "print(fruit_list[-3])\n",
    "print(fruit_list[0:2])\n",
    "print(fruit_list[2:4])\n",
    "print(fruit_list[0:5])\n",
    "print(\"mango\" in fruit_list)"
   ]
  },
  {
   "cell_type": "markdown",
   "id": "c7d01973-643c-49bf-94e7-91adbf9d9435",
   "metadata": {},
   "source": [
    "#### Use Len() function in Lists"
   ]
  },
  {
   "cell_type": "code",
   "execution_count": 19,
   "id": "ab36672c-f0d1-4e97-adb7-c82cfadf1fb4",
   "metadata": {},
   "outputs": [
    {
     "name": "stdout",
     "output_type": "stream",
     "text": [
      "5\n"
     ]
    }
   ],
   "source": [
    "fruit_list = [\"apple\", \"mango\", \"banana\", \"orange\", \"apple\"]\n",
    "print(len(fruit_list))"
   ]
  },
  {
   "cell_type": "markdown",
   "id": "62e5d868-3a74-4cc8-952a-ed141c929692",
   "metadata": {},
   "source": [
    "#### List Items - Data Types"
   ]
  },
  {
   "cell_type": "code",
   "execution_count": 24,
   "id": "3ec9680c-5a41-4a4b-9e4d-bfc5eea06c2f",
   "metadata": {},
   "outputs": [
    {
     "name": "stdout",
     "output_type": "stream",
     "text": [
      "['apple', 'mango', 'banana', 'orange', 'apple']\n",
      "[1, 2, 3, 5, 6]\n",
      "[True, False, False, True]\n"
     ]
    }
   ],
   "source": [
    "# String, int and boolean data types:\n",
    "fruit_list = [\"apple\", \"mango\", \"banana\", \"orange\", \"apple\"]\n",
    "number_list = [1, 2, 3 ,5, 6]\n",
    "boolean_list = [True, False, False, True]\n",
    "print(fruit_list)\n",
    "print(number_list)\n",
    "print(boolean_list)"
   ]
  },
  {
   "cell_type": "code",
   "execution_count": 26,
   "id": "3e7411dd-8732-427c-8fcb-6c77cb15e615",
   "metadata": {},
   "outputs": [
    {
     "name": "stdout",
     "output_type": "stream",
     "text": [
      "['anas', 2, True]\n"
     ]
    }
   ],
   "source": [
    "# Different Data Types in List\n",
    "mmix_List = [\"anas\", 2, True]\n",
    "print(mmix_List)"
   ]
  },
  {
   "cell_type": "code",
   "execution_count": 28,
   "id": "caf47363-eb36-43a8-ba2a-5c50cae70fcd",
   "metadata": {},
   "outputs": [
    {
     "name": "stdout",
     "output_type": "stream",
     "text": [
      "<class 'list'>\n"
     ]
    }
   ],
   "source": [
    "#Find Type of List\n",
    "fruit_list = [\"apple\", \"mango\", \"banana\", \"orange\", \"apple\"]\n",
    "print(type(fruit_list))"
   ]
  },
  {
   "cell_type": "markdown",
   "id": "7c2ec53f-f7e5-4bbd-9d4c-824c03c71ca9",
   "metadata": {},
   "source": [
    "##### List are also created by using list constructor list(). Using double round brackets"
   ]
  },
  {
   "cell_type": "code",
   "execution_count": 31,
   "id": "41e7ed44-95f3-48f7-9fe8-d3fd0a5a3fd8",
   "metadata": {},
   "outputs": [
    {
     "name": "stdout",
     "output_type": "stream",
     "text": [
      "['apple', 'mango', 'banana', 'orange', 'apple']\n"
     ]
    }
   ],
   "source": [
    "fruit_list = list((\"apple\", \"mango\", \"banana\", \"orange\", \"apple\"))\n",
    "print(fruit_list)"
   ]
  },
  {
   "cell_type": "markdown",
   "id": "9e1ba1e7-6aa7-4943-9b2b-20b8c7ce2913",
   "metadata": {},
   "source": [
    "#### Changing in List Items"
   ]
  },
  {
   "cell_type": "code",
   "execution_count": 50,
   "id": "792897fa-d0bd-4e78-a3e1-103f528b65a4",
   "metadata": {},
   "outputs": [
    {
     "name": "stdout",
     "output_type": "stream",
     "text": [
      "['apple', 'mango', 'banana', 'orange', 'cherry']\n"
     ]
    }
   ],
   "source": [
    "fruit_list = [\"apple\", \"mango\", \"banana\", \"orange\", \"apple\"]\n",
    "fruit_list[4] = \"cherry\"\n",
    "print(fruit_list)"
   ]
  },
  {
   "cell_type": "code",
   "execution_count": 52,
   "id": "0b48928f-6ceb-46ad-8c76-5536c8a373c4",
   "metadata": {},
   "outputs": [
    {
     "name": "stdout",
     "output_type": "stream",
     "text": [
      "['cherry', 'pear', 'grapes', 'orange', 'apple']\n"
     ]
    }
   ],
   "source": [
    "fruit_list = [\"apple\", \"mango\", \"banana\", \"orange\", \"apple\"]\n",
    "fruit_list[0:3] = [\"cherry\", \"pear\", \"grapes\"]\n",
    "print(fruit_list)"
   ]
  },
  {
   "cell_type": "code",
   "execution_count": 60,
   "id": "7db9d072-62eb-46a3-9885-1c5fce04b6e4",
   "metadata": {},
   "outputs": [
    {
     "name": "stdout",
     "output_type": "stream",
     "text": [
      "['cherry', 'pear', 'grapes', 'banana', 'orange', 'apple']\n",
      "6\n"
     ]
    }
   ],
   "source": [
    "# Change the two values by replacing it with three new values:\n",
    "fruit_list = [\"apple\", \"mango\", \"banana\", \"orange\", \"apple\"]\n",
    "fruit_list[0:2] = [\"cherry\", \"pear\", \"grapes\"]\n",
    "print(fruit_list)\n",
    "print(len(fruit_list))"
   ]
  },
  {
   "cell_type": "code",
   "execution_count": 62,
   "id": "af4187f6-0d22-4400-aafc-4ef8b85fdbaa",
   "metadata": {},
   "outputs": [
    {
     "name": "stdout",
     "output_type": "stream",
     "text": [
      "['cherry', 'banana', 'orange', 'apple']\n",
      "4\n"
     ]
    }
   ],
   "source": [
    "# Change the two values by replacing it with one value:\n",
    "fruit_list = [\"apple\", \"mango\", \"banana\", \"orange\", \"apple\"]\n",
    "fruit_list[0:2] = [\"cherry\"]\n",
    "print(fruit_list)\n",
    "print(len(fruit_list))"
   ]
  },
  {
   "cell_type": "markdown",
   "id": "3dba9796-9c69-46f5-8629-3fbdfc8e84a3",
   "metadata": {},
   "source": [
    "## Python - Add List Items"
   ]
  },
  {
   "cell_type": "markdown",
   "id": "f175afae-3917-4aea-9c3b-a83604b16aa3",
   "metadata": {},
   "source": [
    "#### Insert Items"
   ]
  },
  {
   "cell_type": "markdown",
   "id": "698a9c46-4ce3-4b66-9d50-f820dc5b4f3f",
   "metadata": {},
   "source": [
    "##### To insert a new list item, without replacing any of the existing values, we can use the insert() method."
   ]
  },
  {
   "cell_type": "code",
   "execution_count": 69,
   "id": "adeee79f-df18-4668-88e0-9b57ed0fdaf3",
   "metadata": {},
   "outputs": [
    {
     "name": "stdout",
     "output_type": "stream",
     "text": [
      "['apple', 'mango', 'grapes', 'banana', 'orange', 'apple']\n"
     ]
    }
   ],
   "source": [
    "fruit_list = [\"apple\", \"mango\", \"banana\", \"orange\", \"apple\"]\n",
    "fruit_list.insert(2, \"grapes\")\n",
    "print(fruit_list)"
   ]
  },
  {
   "cell_type": "markdown",
   "id": "8932cfcb-162f-4353-976f-0d8c53803c07",
   "metadata": {},
   "source": [
    "#### Append Items"
   ]
  },
  {
   "cell_type": "markdown",
   "id": "95741d2d-6e04-4b62-bb1f-18c76eb0b34c",
   "metadata": {},
   "source": [
    "##### To add an item to the end of the list, use the append() method:"
   ]
  },
  {
   "cell_type": "code",
   "execution_count": 73,
   "id": "31162069-b537-4d69-939a-c9ecd99f56e0",
   "metadata": {},
   "outputs": [
    {
     "name": "stdout",
     "output_type": "stream",
     "text": [
      "['apple', 'mango', 'banana', 'orange', 'apple', 'pear']\n"
     ]
    }
   ],
   "source": [
    "fruit_list = [\"apple\", \"mango\", \"banana\", \"orange\", \"apple\"]\n",
    "fruit_list.append(\"pear\")\n",
    "print(fruit_list)"
   ]
  },
  {
   "cell_type": "markdown",
   "id": "00cd1877-fd70-4631-bcd6-5f610369dd4f",
   "metadata": {},
   "source": [
    "#### Extend List"
   ]
  },
  {
   "cell_type": "markdown",
   "id": "8116de8a-dc73-4a86-b4cd-3f7fcdb8a8aa",
   "metadata": {},
   "source": [
    "##### To append elements from another list to the current list, use the extend() method."
   ]
  },
  {
   "cell_type": "code",
   "execution_count": 90,
   "id": "a269dd74-5470-4b7c-862a-a353417f8631",
   "metadata": {},
   "outputs": [
    {
     "name": "stdout",
     "output_type": "stream",
     "text": [
      "['potato', 'onion', 'tomato', 'apple', 'mango', 'banana']\n",
      "['apple', 'mango', 'banana']\n",
      "['potato', 'onion', 'tomato', 'apple', 'mango', 'banana', ['apple', 'mango', 'banana']]\n"
     ]
    }
   ],
   "source": [
    "fruit_list = [\"apple\", \"mango\", \"banana\"]\n",
    "veg_list = [\"potato\", \"onion\", \"tomato\"]\n",
    "veg_list.extend(fruit_list)\n",
    "\n",
    "print(veg_list)\n",
    "print(fruit_list)\n",
    "\n",
    "\n",
    "veg_list.append(fruit_list)\n",
    "\n",
    "print(veg_list)"
   ]
  },
  {
   "cell_type": "markdown",
   "id": "0afb3891-4106-47f6-ad9b-e8194ae64c8e",
   "metadata": {},
   "source": [
    "## Python - Remove List Items"
   ]
  },
  {
   "cell_type": "code",
   "execution_count": 93,
   "id": "30401b22-80cb-4ac5-b7c0-0ce772b5ede4",
   "metadata": {},
   "outputs": [
    {
     "name": "stdout",
     "output_type": "stream",
     "text": [
      "['apple', 'mango']\n"
     ]
    }
   ],
   "source": [
    "# The remove() method removes the specified item.\n",
    "fruit_list = [\"apple\", \"mango\", \"banana\"]\n",
    "fruit_list.remove(\"banana\")\n",
    "print(fruit_list)"
   ]
  },
  {
   "cell_type": "code",
   "execution_count": 218,
   "id": "21ea1e67-c98e-48a2-b52e-b730dd7de232",
   "metadata": {},
   "outputs": [
    {
     "name": "stdout",
     "output_type": "stream",
     "text": [
      "['mango', 'banana', 'apple']\n"
     ]
    }
   ],
   "source": [
    " #If there are more than one item with the specified value, the remove() method removes the first occurrence:\n",
    "fruit_list = [\"apple\", \"mango\", \"banana\", \"apple\"]\n",
    "fruit_list.remove(\"apple\")\n",
    "print(fruit_list)"
   ]
  },
  {
   "cell_type": "markdown",
   "id": "ce0cb582-df4c-46ba-b7d3-2efdc50f92b4",
   "metadata": {},
   "source": [
    "#### Remove Specified Index"
   ]
  },
  {
   "cell_type": "code",
   "execution_count": 116,
   "id": "cf615dc6-0806-487b-a060-758508fc6b13",
   "metadata": {},
   "outputs": [
    {
     "name": "stdout",
     "output_type": "stream",
     "text": [
      "['apple', 'mango', 'banana']\n",
      "['apple', 'mango']\n",
      "['apple']\n",
      "[]\n"
     ]
    }
   ],
   "source": [
    "# The pop() method removes the specified index.\n",
    "fruit_list = [\"apple\", \"mango\", \"banana\", \"apple\"]\n",
    "fruit_list.pop(3)\n",
    "print(fruit_list)\n",
    "fruit_list.pop(2)\n",
    "print(fruit_list)\n",
    "fruit_list.pop()\n",
    "print(fruit_list)\n",
    "fruit_list.pop()\n",
    "print(fruit_list)"
   ]
  },
  {
   "cell_type": "code",
   "execution_count": 124,
   "id": "9dfd10ee-f026-400e-abff-969727236eb1",
   "metadata": {},
   "outputs": [],
   "source": [
    "# The del() keyword also removes the specified index:\n",
    "fruit_list = [\"apple\", \"mango\", \"banana\", \"apple\"]\n",
    "# del fruit_list[1]\n",
    "# print(fruit_list)\n",
    "del fruit_list\n",
    "# print(fruit_list)"
   ]
  },
  {
   "cell_type": "code",
   "execution_count": 128,
   "id": "10952fea-af7d-43fa-97f3-481a5e023d76",
   "metadata": {},
   "outputs": [
    {
     "name": "stdout",
     "output_type": "stream",
     "text": [
      "[]\n"
     ]
    }
   ],
   "source": [
    "# The clear() method empties the list.\n",
    "fruit_list = [\"apple\", \"mango\", \"banana\", \"apple\"]\n",
    "fruit_list.clear()\n",
    "print (fruit_list)"
   ]
  },
  {
   "cell_type": "code",
   "execution_count": 212,
   "id": "b7b3e172-038a-405a-9b86-761afa62bc8b",
   "metadata": {},
   "outputs": [
    {
     "name": "stdout",
     "output_type": "stream",
     "text": [
      "['apple', 'mango', 'banana', 'apple']\n"
     ]
    }
   ],
   "source": [
    "fruit_list = [\"apple\", \"mango\", \"banana\", \"apple\",\"kiwi\"]\n",
    "new_list = []\n",
    "for x in fruit_list:\n",
    "    if \"a\"  in x:\n",
    "        new_list.append(x)\n",
    "print(new_list)"
   ]
  },
  {
   "cell_type": "code",
   "execution_count": 2,
   "id": "1e281bfa-ea10-4958-a998-98da210646e2",
   "metadata": {},
   "outputs": [
    {
     "name": "stdout",
     "output_type": "stream",
     "text": [
      "['apple', 'apple']\n"
     ]
    }
   ],
   "source": [
    "fruit_list = [\"apple\", \"mango\", \"banana\", \"apple\"]\n",
    "new_list = [x for x in fruit_list if \"app\" in x]\n",
    "print(new_list)"
   ]
  },
  {
   "cell_type": "code",
   "execution_count": 157,
   "id": "2dabce3b-9968-4c0e-a2a8-24e3ee2119a0",
   "metadata": {},
   "outputs": [
    {
     "name": "stdout",
     "output_type": "stream",
     "text": [
      "['APPLE', 'MANGO', 'BANANA', 'APPLE']\n",
      "['hello', 'hello', 'hello', 'hello']\n"
     ]
    }
   ],
   "source": [
    "fruit_list = [\"apple\", \"mango\", \"banana\", \"apple\"]\n",
    "newlist = [x.upper() for x in fruit_list]\n",
    "print(newlist)\n",
    "newlist = ['hello' for x in fruit_list]\n",
    "print(newlist)\n"
   ]
  },
  {
   "cell_type": "code",
   "execution_count": 173,
   "id": "998910ab-2cfc-41eb-9470-bc304d154aa0",
   "metadata": {},
   "outputs": [
    {
     "name": "stdout",
     "output_type": "stream",
     "text": [
      "['apple', 'pear', 'banana', 'apple']\n"
     ]
    }
   ],
   "source": [
    "fruit_list = [\"apple\", \"mango\", \"banana\", \"apple\"]\n",
    "new_list = [x if x != \"mango\" else \"pear\" for x in fruit_list]\n",
    "print(new_list)"
   ]
  },
  {
   "cell_type": "markdown",
   "id": "a8838220-e699-4007-8af1-2915514a9b70",
   "metadata": {},
   "source": [
    "## Python - Sort Lists"
   ]
  },
  {
   "cell_type": "code",
   "execution_count": 180,
   "id": "10234842-d7ec-4a02-a56d-609d148026da",
   "metadata": {},
   "outputs": [
    {
     "name": "stdout",
     "output_type": "stream",
     "text": [
      "[4, 15, 20, 34]\n",
      "['apple', 'apple', 'banana', 'mango']\n",
      "[34, 20, 15, 4]\n",
      "['mango', 'banana', 'apple', 'apple']\n"
     ]
    }
   ],
   "source": [
    "# List objects have a sort() method that will sort the list alphanumerically, ascending, by default:\n",
    "fruit_list = [\"apple\", \"mango\", \"banana\", \"apple\"]\n",
    "number_list = [20, 4, 15, 34]\n",
    "fruit_list.sort()\n",
    "number_list.sort()\n",
    "print(number_list)\n",
    "print(fruit_list)\n",
    "fruit_list.sort(reverse=True)\n",
    "number_list.sort(reverse=True)\n",
    "print(number_list)\n",
    "print(fruit_list)"
   ]
  },
  {
   "cell_type": "code",
   "execution_count": 182,
   "id": "003ea9e6-5e60-4f92-8e7e-135c5a775915",
   "metadata": {},
   "outputs": [
    {
     "name": "stdout",
     "output_type": "stream",
     "text": [
      "[50, 65, 23, 82, 100]\n"
     ]
    }
   ],
   "source": [
    "def myfunc(n):\n",
    "  return abs(n - 50)\n",
    "\n",
    "thislist = [100, 50, 65, 82, 23]\n",
    "\n",
    "thislist.sort(key = myfunc)\n",
    "\n",
    "print(thislist)"
   ]
  },
  {
   "cell_type": "markdown",
   "id": "85eeb0ea-dd3a-476f-9e61-22eaba1aded2",
   "metadata": {},
   "source": [
    "#### Case Insensitive Sort"
   ]
  },
  {
   "cell_type": "code",
   "execution_count": 185,
   "id": "9568a222-9d93-4cda-ab18-1c42df347c64",
   "metadata": {},
   "outputs": [],
   "source": [
    "# By default the sort() method is case sensitive, resulting in all capital letters being sorted before lower case letters"
   ]
  },
  {
   "cell_type": "code",
   "execution_count": 187,
   "id": "1215a77f-3e25-4f99-ba70-f1d90398cb30",
   "metadata": {},
   "outputs": [
    {
     "name": "stdout",
     "output_type": "stream",
     "text": [
      "['Apple', 'Mango', 'apple', 'banana']\n"
     ]
    }
   ],
   "source": [
    "fruit_list = [\"apple\", \"Mango\", \"banana\", \"Apple\"]\n",
    "fruit_list.sort()\n",
    "print(fruit_list)"
   ]
  },
  {
   "cell_type": "markdown",
   "id": "2af8c810-1158-4855-9fc9-9a016c657581",
   "metadata": {},
   "source": [
    "#### Reverse List"
   ]
  },
  {
   "cell_type": "code",
   "execution_count": 190,
   "id": "f7a92fc6-8d37-4ded-96e4-2a664bf2ef68",
   "metadata": {},
   "outputs": [
    {
     "name": "stdout",
     "output_type": "stream",
     "text": [
      "['Apple', 'banana', 'Mango', 'apple']\n"
     ]
    }
   ],
   "source": [
    "fruit_list = [\"apple\", \"Mango\", \"banana\", \"Apple\"]\n",
    "fruit_list.reverse()\n",
    "print(fruit_list)"
   ]
  },
  {
   "cell_type": "code",
   "execution_count": 194,
   "id": "2e78537b-24d5-424e-8879-95b2b6fc02f5",
   "metadata": {},
   "outputs": [
    {
     "name": "stdout",
     "output_type": "stream",
     "text": [
      "['apple', 'mango', 'banana']\n",
      "['apple', 'mango', 'banana']\n"
     ]
    }
   ],
   "source": [
    "fruit_list = [\"apple\", \"mango\", \"banana\"]\n",
    "veg_list = [\"potato\", \"onion\", \"tomato\"]\n",
    "veg_list = fruit_list.copy()\n",
    "print(veg_list)\n",
    "fruit_list = list(veg_list)\n",
    "print(fruit_list)"
   ]
  },
  {
   "cell_type": "markdown",
   "id": "d1437293-01b8-4a11-8095-d596a997ffd5",
   "metadata": {},
   "source": [
    "## Python - Join Lists"
   ]
  },
  {
   "cell_type": "markdown",
   "id": "6ce6a0f7-cea5-49a0-9d00-fabbadcec2ee",
   "metadata": {},
   "source": [
    "#### Join Two Lists"
   ]
  },
  {
   "cell_type": "code",
   "execution_count": 198,
   "id": "19cefbe9-8940-47dd-a6bb-2ea1870731b3",
   "metadata": {},
   "outputs": [
    {
     "name": "stdout",
     "output_type": "stream",
     "text": [
      "['apple', 'mango', 'banana', 'potato', 'onion', 'tomato']\n"
     ]
    }
   ],
   "source": [
    "fruit_list = [\"apple\", \"mango\", \"banana\"]\n",
    "veg_list = [\"potato\", \"onion\", \"tomato\"]\n",
    "print(fruit_list + veg_list)"
   ]
  },
  {
   "cell_type": "code",
   "execution_count": 4,
   "id": "d68c3581-ebe2-4fee-bc59-6ccf303ce20a",
   "metadata": {},
   "outputs": [
    {
     "name": "stdout",
     "output_type": "stream",
     "text": [
      "['apple', 'mango', 'banana', ['potato', 'onion', 'tomato']]\n"
     ]
    }
   ],
   "source": [
    "fruit_list = [\"apple\", \"mango\", \"banana\"]\n",
    "veg_list = [\"potato\", \"onion\", \"tomato\"]\n",
    "fruit_list.append(veg_list)\n",
    "print(fruit_list)\n",
    "# for x in veg_list:\n",
    "#     fruit_list.append(x)\n",
    "# print(fruit_list)"
   ]
  },
  {
   "cell_type": "code",
   "execution_count": 206,
   "id": "af4da4dc-abc0-4c14-8de2-604ddbe8b4cf",
   "metadata": {},
   "outputs": [
    {
     "name": "stdout",
     "output_type": "stream",
     "text": [
      "['a', 'b', 'c', 1, 2, 3]\n"
     ]
    }
   ],
   "source": [
    "list1 = [\"a\", \"b\" , \"c\"]\n",
    "list2 = [1, 2, 3]\n",
    "\n",
    "for x in list2:\n",
    "  list1.append(x)\n",
    "\n",
    "print(list1)\n"
   ]
  },
  {
   "cell_type": "code",
   "execution_count": 214,
   "id": "1d4c2c21-985b-4063-91b8-6821b60d5408",
   "metadata": {},
   "outputs": [
    {
     "name": "stdout",
     "output_type": "stream",
     "text": [
      "['apple', 'mango', 'banana', 'potato', 'onion', 'tomato']\n"
     ]
    }
   ],
   "source": [
    "fruit_list = [\"apple\", \"mango\", \"banana\"]\n",
    "veg_list = [\"potato\", \"onion\", \"tomato\"]\n",
    "fruit_list.extend(veg_list)\n",
    "print(fruit_list)"
   ]
  },
  {
   "cell_type": "code",
   "execution_count": 1,
   "id": "bc1bd8f1-bf49-48ba-a93b-1e46e81dfd19",
   "metadata": {},
   "outputs": [
    {
     "data": {
      "text/plain": [
       "['__add__',\n",
       " '__class__',\n",
       " '__class_getitem__',\n",
       " '__contains__',\n",
       " '__delattr__',\n",
       " '__delitem__',\n",
       " '__dir__',\n",
       " '__doc__',\n",
       " '__eq__',\n",
       " '__format__',\n",
       " '__ge__',\n",
       " '__getattribute__',\n",
       " '__getitem__',\n",
       " '__getstate__',\n",
       " '__gt__',\n",
       " '__hash__',\n",
       " '__iadd__',\n",
       " '__imul__',\n",
       " '__init__',\n",
       " '__init_subclass__',\n",
       " '__iter__',\n",
       " '__le__',\n",
       " '__len__',\n",
       " '__lt__',\n",
       " '__mul__',\n",
       " '__ne__',\n",
       " '__new__',\n",
       " '__reduce__',\n",
       " '__reduce_ex__',\n",
       " '__repr__',\n",
       " '__reversed__',\n",
       " '__rmul__',\n",
       " '__setattr__',\n",
       " '__setitem__',\n",
       " '__sizeof__',\n",
       " '__str__',\n",
       " '__subclasshook__',\n",
       " 'append',\n",
       " 'clear',\n",
       " 'copy',\n",
       " 'count',\n",
       " 'extend',\n",
       " 'index',\n",
       " 'insert',\n",
       " 'pop',\n",
       " 'remove',\n",
       " 'reverse',\n",
       " 'sort']"
      ]
     },
     "execution_count": 1,
     "metadata": {},
     "output_type": "execute_result"
    }
   ],
   "source": [
    "dir(list)"
   ]
  },
  {
   "cell_type": "code",
   "execution_count": 31,
   "id": "58d1a341-cbb2-435c-af26-e99670e3848f",
   "metadata": {},
   "outputs": [
    {
     "name": "stdout",
     "output_type": "stream",
     "text": [
      "6\n",
      "['onion', 'tomato', 'coliflower', 'potato', 'ginger']\n",
      "['onion', 'tomato', 'coliflower', 'potato', 'ginger']\n"
     ]
    }
   ],
   "source": [
    "fruit_list = [\"banana\", \"apple\", \"mango\", \"orange\", \"grapes\"]\n",
    "veg_list = [\"onion\", \"tomato\", \"coliflower\", \"potato\", \"ginger\"]\n",
    "fruit_list.append(veg_list)\n",
    "print(len(fruit_list))\n",
    "print(veg_list)\n",
    "print(fruit_list[-1])"
   ]
  },
  {
   "cell_type": "code",
   "execution_count": 41,
   "id": "ebdf3729-e06f-49b8-bfb4-75236c283c4a",
   "metadata": {},
   "outputs": [
    {
     "name": "stdout",
     "output_type": "stream",
     "text": [
      "['onion', 'tomato', 'coliflower', 'potato', 'ginger']\n"
     ]
    }
   ],
   "source": [
    "fruit_list = [\"banana\", \"apple\", \"mango\", \"orange\", \"grapes\"]\n",
    "veg_list = [\"onion\", \"tomato\", \"coliflower\", \"potato\", \"ginger\"]\n",
    "fruit_list = veg_list.copy()\n",
    "print(fruit_list)"
   ]
  },
  {
   "cell_type": "code",
   "execution_count": 33,
   "id": "805dde5c-4345-4d91-aa03-eee1b8ece590",
   "metadata": {},
   "outputs": [
    {
     "name": "stdout",
     "output_type": "stream",
     "text": [
      "[1, 2, 3, 8, 9]\n"
     ]
    }
   ],
   "source": [
    "number_list = [1, 2, 3, 4, 5, 6, 7, 8, 9, 10]\n",
    "multiple_slice_list = number_list[0:3] + number_list[7:9]\n",
    "print(multiple_slice_list)"
   ]
  },
  {
   "cell_type": "code",
   "execution_count": 37,
   "id": "f76e850e-9db5-4761-b69b-5f21e78eb527",
   "metadata": {},
   "outputs": [
    {
     "data": {
      "text/plain": [
       "11"
      ]
     },
     "execution_count": 37,
     "metadata": {},
     "output_type": "execute_result"
    }
   ],
   "source": [
    "number_list = [1, 2, 3, 4, 5, 6, 7, 8, 9, 10, 2, 5, 6, 2, 6, 4, 3,2,2,2,2,2,2,2,2]\n",
    "number_list.count(2) # how many times the specific value present in list"
   ]
  },
  {
   "cell_type": "code",
   "execution_count": 39,
   "id": "ee78384c-ae79-483b-8e35-154b3cba91c8",
   "metadata": {},
   "outputs": [
    {
     "name": "stdout",
     "output_type": "stream",
     "text": [
      "['banana', 'apple', 'mango', 'orange', 'grapes', 'onion', 'tomato', 'coliflower', 'potato', 'ginger']\n"
     ]
    }
   ],
   "source": [
    "fruit_list = [\"banana\", \"apple\", \"mango\", \"orange\", \"grapes\"]\n",
    "veg_list = [\"onion\", \"tomato\", \"coliflower\", \"potato\", \"ginger\"]\n",
    "fruit_list.extend(veg_list)\n",
    "print(fruit_list)"
   ]
  },
  {
   "cell_type": "code",
   "execution_count": 53,
   "id": "e7a6ac2c-5361-427c-96f8-e45606c86028",
   "metadata": {},
   "outputs": [
    {
     "name": "stdout",
     "output_type": "stream",
     "text": [
      "5\n"
     ]
    }
   ],
   "source": [
    "veg_list = [\"onion\", \"tomato\", \"coliflower\", \"potato\", \"ginger\", \"tomato\"]\n",
    "index_of_veglist =  veg_list.index(\"tomato\", 4)\n",
    "print(index_of_veglist)"
   ]
  },
  {
   "cell_type": "code",
   "execution_count": 56,
   "id": "a7d6ced8-2d13-4322-b19a-aa7b705efd09",
   "metadata": {},
   "outputs": [
    {
     "name": "stdout",
     "output_type": "stream",
     "text": [
      "['onion', 'spanich', 'tomato', 'coliflower', 'potato', 'ginger', 'tomato']\n"
     ]
    }
   ],
   "source": [
    "veg_list = [\"onion\", \"tomato\", \"coliflower\", \"potato\", \"ginger\", \"tomato\"]\n",
    "veg_list.insert(1,\"spanich\")\n",
    "print(veg_list)"
   ]
  },
  {
   "cell_type": "code",
   "execution_count": 70,
   "id": "4cda637a-13df-47d4-803f-32b82ae30c57",
   "metadata": {},
   "outputs": [
    {
     "name": "stdout",
     "output_type": "stream",
     "text": [
      "potato\n"
     ]
    }
   ],
   "source": [
    "veg_list = [\"onion\", \"tomato\", \"coliflower\", \"potato\", \"ginger\"]\n",
    "x = veg_list.pop(3)\n",
    "print(x)"
   ]
  },
  {
   "cell_type": "code",
   "execution_count": 73,
   "id": "bf7a612c-854c-4093-b249-c357b749d750",
   "metadata": {},
   "outputs": [
    {
     "name": "stdout",
     "output_type": "stream",
     "text": [
      "None\n"
     ]
    }
   ],
   "source": [
    "veg_list = [\"onion\", \"tomato\", \"coliflower\", \"potato\", \"ginger\"]\n",
    "x = veg_list.remove(\"tomato\")\n",
    "# x= veg_list\n",
    "print(x)"
   ]
  },
  {
   "cell_type": "code",
   "execution_count": 75,
   "id": "aeddcc2d-528f-4a7f-b64b-a0e2437b23db",
   "metadata": {},
   "outputs": [
    {
     "name": "stdout",
     "output_type": "stream",
     "text": [
      "['ginger', 'potato', 'coliflower', 'tomato', 'onion']\n"
     ]
    }
   ],
   "source": [
    "veg_list = [\"onion\", \"tomato\", \"coliflower\", \"potato\", \"ginger\"]\n",
    "veg_list.reverse()\n",
    "print(veg_list)"
   ]
  },
  {
   "cell_type": "code",
   "execution_count": 76,
   "id": "70792599-1ad8-4f88-83b0-cdfdfea33d06",
   "metadata": {},
   "outputs": [
    {
     "name": "stdout",
     "output_type": "stream",
     "text": [
      "['coliflower', 'ginger', 'onion', 'potato', 'tomato']\n"
     ]
    }
   ],
   "source": [
    "veg_list = [\"onion\", \"tomato\", \"coliflower\", \"potato\", \"ginger\"]\n",
    "veg_list.sort()\n",
    "print(veg_list)"
   ]
  },
  {
   "cell_type": "code",
   "execution_count": 82,
   "id": "ee7f0017-837d-4bd7-b5f2-edca9198de15",
   "metadata": {},
   "outputs": [
    {
     "name": "stdin",
     "output_type": "stream",
     "text": [
      "Enter number for multiplication 66\n"
     ]
    },
    {
     "name": "stdout",
     "output_type": "stream",
     "text": [
      "66 x 1 = 66\n",
      "66 x 2 = 132\n",
      "66 x 3 = 198\n",
      "66 x 4 = 264\n",
      "66 x 5 = 330\n",
      "66 x 6 = 396\n",
      "66 x 7 = 462\n",
      "66 x 8 = 528\n",
      "66 x 9 = 594\n",
      "66 x 10 = 660\n",
      "66 x 11 = 726\n",
      "66 x 12 = 792\n",
      "66 x 13 = 858\n",
      "66 x 14 = 924\n",
      "66 x 15 = 990\n",
      "66 x 16 = 1056\n",
      "66 x 17 = 1122\n",
      "66 x 18 = 1188\n",
      "66 x 19 = 1254\n",
      "66 x 20 = 1320\n",
      "66 x 21 = 1386\n",
      "66 x 22 = 1452\n",
      "66 x 23 = 1518\n",
      "66 x 24 = 1584\n",
      "66 x 25 = 1650\n",
      "66 x 26 = 1716\n",
      "66 x 27 = 1782\n",
      "66 x 28 = 1848\n",
      "66 x 29 = 1914\n",
      "66 x 30 = 1980\n",
      "66 x 31 = 2046\n",
      "66 x 32 = 2112\n",
      "66 x 33 = 2178\n",
      "66 x 34 = 2244\n",
      "66 x 35 = 2310\n",
      "66 x 36 = 2376\n",
      "66 x 37 = 2442\n",
      "66 x 38 = 2508\n",
      "66 x 39 = 2574\n",
      "66 x 40 = 2640\n",
      "66 x 41 = 2706\n",
      "66 x 42 = 2772\n",
      "66 x 43 = 2838\n",
      "66 x 44 = 2904\n"
     ]
    }
   ],
   "source": [
    "user_input = int(input(\"Enter number for multiplication\"))\n",
    "i = 1\n",
    "while i <= 44:\n",
    "    print(user_input,\"x\", i, \"=\", user_input * i)\n",
    "    i += 1"
   ]
  },
  {
   "cell_type": "code",
   "execution_count": 34,
   "id": "0f0b2c16-1990-4919-a4ae-e5748e88e0e9",
   "metadata": {},
   "outputs": [],
   "source": [
    "fruit_list = [\"banana\", \"apple\", \"mango\", \"orange\", \"grapes\"]\n",
    "veg_list = [\"onion\", \"tomato\", \"coliflower\", \"potato\", \"ginger\"]\n",
    "num_list = [1, 2, 3,4]\n",
    "fruit_list.insert(2, veg_list)\n",
    "fruit_list[2].insert(2, num_list)"
   ]
  },
  {
   "cell_type": "code",
   "execution_count": 35,
   "id": "c7d9ee27-4872-4e15-8539-9ab80b5fade1",
   "metadata": {},
   "outputs": [
    {
     "data": {
      "text/plain": [
       "['banana',\n",
       " 'apple',\n",
       " ['onion', 'tomato', [1, 2, 3, 4], 'coliflower', 'potato', 'ginger'],\n",
       " 'mango',\n",
       " 'orange',\n",
       " 'grapes']"
      ]
     },
     "execution_count": 35,
     "metadata": {},
     "output_type": "execute_result"
    }
   ],
   "source": [
    "fruit_list"
   ]
  },
  {
   "cell_type": "code",
   "execution_count": 37,
   "id": "bb585bc1-658f-4028-a12f-9081b88b78e7",
   "metadata": {},
   "outputs": [
    {
     "data": {
      "text/plain": [
       "0"
      ]
     },
     "execution_count": 37,
     "metadata": {},
     "output_type": "execute_result"
    }
   ],
   "source": [
    "fruit_list[2][2].index(1)"
   ]
  },
  {
   "cell_type": "code",
   "execution_count": 39,
   "id": "eee636fa-30df-480d-9317-e2ee27c35bfa",
   "metadata": {},
   "outputs": [
    {
     "data": {
      "text/plain": [
       "['banana',\n",
       " 'apple',\n",
       " ['onion', [2, 3, 4], 'coliflower', 'potato', 'ginger'],\n",
       " 'mango',\n",
       " 'orange',\n",
       " 'grapes']"
      ]
     },
     "execution_count": 39,
     "metadata": {},
     "output_type": "execute_result"
    }
   ],
   "source": [
    "fruit_list[2].remove('tomato')\n",
    "fruit_list"
   ]
  },
  {
   "cell_type": "code",
   "execution_count": 40,
   "id": "4d240eff-d4b5-43d8-99b1-0e0d0d1aff3d",
   "metadata": {},
   "outputs": [
    {
     "data": {
      "text/plain": [
       "['banana',\n",
       " 'apple',\n",
       " ['onion', [2, 3, 4], 'coliflower', 'potato', 'ginger'],\n",
       " 'mango',\n",
       " 'orange',\n",
       " 'grapes']"
      ]
     },
     "execution_count": 40,
     "metadata": {},
     "output_type": "execute_result"
    }
   ],
   "source": [
    "fruit_list"
   ]
  },
  {
   "cell_type": "code",
   "execution_count": 43,
   "id": "cd693c1d-c60e-4676-b252-c1a222600490",
   "metadata": {},
   "outputs": [
    {
     "data": {
      "text/plain": [
       "[2, 4]"
      ]
     },
     "execution_count": 43,
     "metadata": {},
     "output_type": "execute_result"
    }
   ],
   "source": [
    "fruit_list[2][1][::2]"
   ]
  },
  {
   "cell_type": "code",
   "execution_count": 44,
   "id": "38f2765b-1702-40f4-81df-1b39c6e7f2c2",
   "metadata": {},
   "outputs": [
    {
     "data": {
      "text/plain": [
       "['banana',\n",
       " 'apple',\n",
       " ['onion', [2, 3], 'coliflower', 'potato', 'ginger'],\n",
       " 'mango',\n",
       " 'orange',\n",
       " 'grapes']"
      ]
     },
     "execution_count": 44,
     "metadata": {},
     "output_type": "execute_result"
    }
   ],
   "source": [
    "fruit_list[2][1].pop(2)\n",
    "fruit_list"
   ]
  },
  {
   "cell_type": "code",
   "execution_count": 62,
   "id": "c9ee1fce-0177-41e5-a28e-8c7235197ef1",
   "metadata": {},
   "outputs": [
    {
     "name": "stdout",
     "output_type": "stream",
     "text": [
      "['anas sohail\\n', 'asd']\n"
     ]
    }
   ],
   "source": [
    "f = open(\"anas.txt\")\n",
    "print(f.readlines())\n",
    "f.close()"
   ]
  },
  {
   "cell_type": "code",
   "execution_count": 65,
   "id": "64494940-3590-4f50-b196-2fec8bd7e1de",
   "metadata": {},
   "outputs": [
    {
     "name": "stdout",
     "output_type": "stream",
     "text": [
      "12\n"
     ]
    }
   ],
   "source": [
    "f = open(\"anas.txt\", \"w\")\n",
    "print(f.write(\"my age is 25\"))\n",
    "f.close()"
   ]
  },
  {
   "cell_type": "code",
   "execution_count": 69,
   "id": "95042e88-e62a-4ae1-84cc-8bce580b5203",
   "metadata": {},
   "outputs": [
    {
     "name": "stdout",
     "output_type": "stream",
     "text": [
      "23\n"
     ]
    }
   ],
   "source": [
    "f = open(\"anas.txt\", \"a\")\n",
    "print(f.write(\" my name is anas sohail\"))\n",
    "f.close()"
   ]
  },
  {
   "cell_type": "code",
   "execution_count": 82,
   "id": "9882b7f2-3204-4cab-bbcf-c3fbf515974e",
   "metadata": {},
   "outputs": [
    {
     "ename": "FileNotFoundError",
     "evalue": "[Errno 2] No such file or directory: 'anas.txt'",
     "output_type": "error",
     "traceback": [
      "\u001b[1;31m---------------------------------------------------------------------------\u001b[0m",
      "\u001b[1;31mFileNotFoundError\u001b[0m                         Traceback (most recent call last)",
      "Cell \u001b[1;32mIn[82], line 1\u001b[0m\n\u001b[1;32m----> 1\u001b[0m f \u001b[38;5;241m=\u001b[39m \u001b[38;5;28mopen\u001b[39m(\u001b[38;5;124m\"\u001b[39m\u001b[38;5;124manas.txt\u001b[39m\u001b[38;5;124m\"\u001b[39m)\n\u001b[0;32m      2\u001b[0m \u001b[38;5;28mprint\u001b[39m(f\u001b[38;5;241m.\u001b[39mread())\n\u001b[0;32m      3\u001b[0m f\u001b[38;5;241m.\u001b[39mclose()\n",
      "File \u001b[1;32m~\\anaconda3\\Lib\\site-packages\\IPython\\core\\interactiveshell.py:324\u001b[0m, in \u001b[0;36m_modified_open\u001b[1;34m(file, *args, **kwargs)\u001b[0m\n\u001b[0;32m    317\u001b[0m \u001b[38;5;28;01mif\u001b[39;00m file \u001b[38;5;129;01min\u001b[39;00m {\u001b[38;5;241m0\u001b[39m, \u001b[38;5;241m1\u001b[39m, \u001b[38;5;241m2\u001b[39m}:\n\u001b[0;32m    318\u001b[0m     \u001b[38;5;28;01mraise\u001b[39;00m \u001b[38;5;167;01mValueError\u001b[39;00m(\n\u001b[0;32m    319\u001b[0m         \u001b[38;5;124mf\u001b[39m\u001b[38;5;124m\"\u001b[39m\u001b[38;5;124mIPython won\u001b[39m\u001b[38;5;124m'\u001b[39m\u001b[38;5;124mt let you open fd=\u001b[39m\u001b[38;5;132;01m{\u001b[39;00mfile\u001b[38;5;132;01m}\u001b[39;00m\u001b[38;5;124m by default \u001b[39m\u001b[38;5;124m\"\u001b[39m\n\u001b[0;32m    320\u001b[0m         \u001b[38;5;124m\"\u001b[39m\u001b[38;5;124mas it is likely to crash IPython. If you know what you are doing, \u001b[39m\u001b[38;5;124m\"\u001b[39m\n\u001b[0;32m    321\u001b[0m         \u001b[38;5;124m\"\u001b[39m\u001b[38;5;124myou can use builtins\u001b[39m\u001b[38;5;124m'\u001b[39m\u001b[38;5;124m open.\u001b[39m\u001b[38;5;124m\"\u001b[39m\n\u001b[0;32m    322\u001b[0m     )\n\u001b[1;32m--> 324\u001b[0m \u001b[38;5;28;01mreturn\u001b[39;00m io_open(file, \u001b[38;5;241m*\u001b[39margs, \u001b[38;5;241m*\u001b[39m\u001b[38;5;241m*\u001b[39mkwargs)\n",
      "\u001b[1;31mFileNotFoundError\u001b[0m: [Errno 2] No such file or directory: 'anas.txt'"
     ]
    }
   ],
   "source": [
    "f = open(\"anas.txt\")\n",
    "print(f.read())\n",
    "f.close()"
   ]
  },
  {
   "cell_type": "code",
   "execution_count": 74,
   "id": "feb55f7c-4050-4064-9e86-508fe798011b",
   "metadata": {},
   "outputs": [
    {
     "name": "stdout",
     "output_type": "stream",
     "text": [
      "Woops! I have deleted the content!\n"
     ]
    }
   ],
   "source": [
    "f = open(\"anas.txt\", \"w\")\n",
    "f.write(\"Woops! I have deleted the content!\")\n",
    "f.close()\n",
    "\n",
    "f = open(\"anas.txt\")\n",
    "print(f.read())\n",
    "f.close()"
   ]
  },
  {
   "cell_type": "code",
   "execution_count": 81,
   "id": "eb9489a9-bc3d-4335-b3f2-9ec77a8cd543",
   "metadata": {},
   "outputs": [
    {
     "name": "stdout",
     "output_type": "stream",
     "text": [
      "The file does not exist\n"
     ]
    }
   ],
   "source": [
    "import os\n",
    "if os.path.exists(\"anas.txt\"):\n",
    "  os.remove(\"anas.txt\")\n",
    "else:\n",
    "  print(\"The file does not exist\")"
   ]
  },
  {
   "cell_type": "code",
   "execution_count": null,
   "id": "add2aa87-5ace-4f98-9144-0b7c7174c7cd",
   "metadata": {},
   "outputs": [],
   "source": []
  }
 ],
 "metadata": {
  "kernelspec": {
   "display_name": "Python 3 (ipykernel)",
   "language": "python",
   "name": "python3"
  },
  "language_info": {
   "codemirror_mode": {
    "name": "ipython",
    "version": 3
   },
   "file_extension": ".py",
   "mimetype": "text/x-python",
   "name": "python",
   "nbconvert_exporter": "python",
   "pygments_lexer": "ipython3",
   "version": "3.12.4"
  }
 },
 "nbformat": 4,
 "nbformat_minor": 5
}
