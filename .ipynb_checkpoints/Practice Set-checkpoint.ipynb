{
 "cells": [
  {
   "cell_type": "markdown",
   "id": "9870b44c-f5ba-479f-b7c6-5257a6b3c26b",
   "metadata": {},
   "source": [
    "# CHAPTER 2 – PRACTICE SET"
   ]
  },
  {
   "cell_type": "code",
   "execution_count": 2,
   "id": "923d2237-1405-44c4-9d06-9e1356520755",
   "metadata": {},
   "outputs": [
    {
     "name": "stdout",
     "output_type": "stream",
     "text": [
      "17\n"
     ]
    }
   ],
   "source": [
    "# 1. Write a python program to add two numbers.\n",
    "m = 9\n",
    "n = 8\n",
    "o = m + n\n",
    "print(o)"
   ]
  },
  {
   "cell_type": "code",
   "execution_count": 3,
   "id": "30b0a272-3620-4289-8a81-add321b063f7",
   "metadata": {},
   "outputs": [
    {
     "name": "stdout",
     "output_type": "stream",
     "text": [
      "2\n"
     ]
    }
   ],
   "source": [
    "# 2. Write a python program to find remainder when a number is divided by z.\n",
    "z = 3\n",
    "print(20 % z)"
   ]
  },
  {
   "cell_type": "code",
   "execution_count": 5,
   "id": "f1a10e1c-12f2-4382-a569-48f2565c46f5",
   "metadata": {},
   "outputs": [
    {
     "name": "stdin",
     "output_type": "stream",
     "text": [
      "Check Data Type of input! 12\n"
     ]
    },
    {
     "name": "stdout",
     "output_type": "stream",
     "text": [
      "<class 'str'>\n"
     ]
    }
   ],
   "source": [
    "# 2. Write a python program to find remainder when a number is divided by z.\n",
    "user = input(\"Check Data Type of input!\")\n",
    "print(type(user))"
   ]
  },
  {
   "cell_type": "code",
   "execution_count": 6,
   "id": "c0dba70d-49e0-438c-89c9-c6626400dd6a",
   "metadata": {},
   "outputs": [
    {
     "name": "stdout",
     "output_type": "stream",
     "text": [
      "False\n"
     ]
    }
   ],
   "source": [
    "# 4. Use comparison operator to find out whether ‘a’ given variable a is greater than\n",
    "# ‘b’ or not. Take a = 34 and b = 80\n",
    "a = 34\n",
    "b = 80\n",
    "c = a > b\n",
    "print(c)"
   ]
  },
  {
   "cell_type": "code",
   "execution_count": 8,
   "id": "c16052a1-bfcd-4c7b-9c3d-4106206357f8",
   "metadata": {},
   "outputs": [
    {
     "name": "stdin",
     "output_type": "stream",
     "text": [
      "Enter first Number 333\n",
      "Enter Second Number 222\n"
     ]
    },
    {
     "name": "stdout",
     "output_type": "stream",
     "text": [
      "277.5\n"
     ]
    }
   ],
   "source": [
    "# 5. Write a python program to find an average of two numbers entered by the user.\n",
    "input1 = int(input(\"Enter first Number\"))\n",
    "input2 = int(input(\"Enter Second Number\"))\n",
    "print((input1 + input2) / 2)"
   ]
  },
  {
   "cell_type": "code",
   "execution_count": 11,
   "id": "d490dfa8-0191-4a7b-9096-efce18939ec6",
   "metadata": {},
   "outputs": [
    {
     "name": "stdin",
     "output_type": "stream",
     "text": [
      "Enter Number to find square 25\n"
     ]
    },
    {
     "name": "stdout",
     "output_type": "stream",
     "text": [
      "625\n"
     ]
    }
   ],
   "source": [
    "# 6. Write a python program to calculate the square of a number entered by the user.\n",
    "inputnum = int(input(\"Enter Number to find square\"))\n",
    "print(inputnum ** 2)"
   ]
  },
  {
   "cell_type": "markdown",
   "id": "0f24949b-d949-49ae-90fd-978acf2840b1",
   "metadata": {},
   "source": [
    "# CHAPTER 3 – PRACTICE SET"
   ]
  },
  {
   "cell_type": "code",
   "execution_count": 13,
   "id": "31c0e2ce-663b-421c-9b66-b1dab02af740",
   "metadata": {},
   "outputs": [
    {
     "name": "stdin",
     "output_type": "stream",
     "text": [
      "Good Afternoon! Anas\n"
     ]
    },
    {
     "name": "stdout",
     "output_type": "stream",
     "text": [
      "Good Afternoon! Anas\n"
     ]
    }
   ],
   "source": [
    "# 1. Write a python program to display a user entered name followed by Good Afternoon using input () function.\n",
    "input_str = input(\"Good Afternoon!\")\n",
    "print(\"Good Afternoon!\", input_str)"
   ]
  },
  {
   "cell_type": "code",
   "execution_count": 14,
   "id": "949bba13-f204-4cef-9bf4-3e23d24d4ea6",
   "metadata": {},
   "outputs": [],
   "source": [
    "# 2. Write a program to fill in a letter template given below with name and date.\n",
    "letter = '''\n",
    "Dear <|Anas|>,\n",
    "You are selected!\n",
    "<|31-7-24|>\n",
    "'''"
   ]
  },
  {
   "cell_type": "code",
   "execution_count": 15,
   "id": "1c05be90-e0d6-4dec-bf5b-e3f390c1f4e8",
   "metadata": {},
   "outputs": [
    {
     "name": "stdout",
     "output_type": "stream",
     "text": [
      "4\n"
     ]
    }
   ],
   "source": [
    "# 3. Write a program to detect double space in a string.\n",
    "str_name = \"Anas  Sohail\"\n",
    "index = str_name.find(\"  \")\n",
    "print(index)"
   ]
  },
  {
   "cell_type": "code",
   "execution_count": 20,
   "id": "840c2933-9228-44a2-9926-eda74e57e57c",
   "metadata": {},
   "outputs": [
    {
     "name": "stdout",
     "output_type": "stream",
     "text": [
      "Anas  Sohail\n"
     ]
    }
   ],
   "source": [
    "# 4. Replace the double space from problem 3 with single spaces.\n",
    "str_name = \"Anas    Sohail\"\n",
    "index = str_name.replace(\"  \", \" \")\n",
    "print(index)"
   ]
  },
  {
   "cell_type": "code",
   "execution_count": 24,
   "id": "fd106aa2-94b1-4e19-8fcd-423520123e59",
   "metadata": {},
   "outputs": [
    {
     "name": "stdout",
     "output_type": "stream",
     "text": [
      "Dear \"Harry\", this python course is nice. Thanks!\n"
     ]
    }
   ],
   "source": [
    "# 5. Write a program to format the following letter using escape sequencecharacters.\n",
    "# letter = \"Dear Harry, this python course is nice. Thanks!\"\n",
    "\n",
    "letter = \"Dear \\\"Harry\\\", this python course is nice. Thanks!\"\n",
    "print(letter)"
   ]
  },
  {
   "cell_type": "markdown",
   "id": "d0e3dbb7-6e6b-4d23-bba4-b6d3b2eff86d",
   "metadata": {},
   "source": [
    "# CHAPTER 4 - PRACTICE SET\n"
   ]
  },
  {
   "cell_type": "code",
   "execution_count": 37,
   "id": "219834f3-2160-4cd7-bb7e-931067b95d1d",
   "metadata": {},
   "outputs": [
    {
     "name": "stdin",
     "output_type": "stream",
     "text": [
      "Enter Seven Fruits apple, mango, banana, orange, grapes, cherry, pear\n"
     ]
    },
    {
     "name": "stdout",
     "output_type": "stream",
     "text": [
      "['apple, mango, banana, orange, grapes, cherry, pear']\n"
     ]
    }
   ],
   "source": [
    "# 1. Write a program to store seven fruits in a list entered by the user.\n",
    "list_fruits = []\n",
    "input_fruits = input(\"Enter Seven Fruits\")\n",
    "list_fruits.append(input_fruits)\n",
    "print(list_fruits)"
   ]
  },
  {
   "cell_type": "code",
   "execution_count": 59,
   "id": "9bd6eec1-ebb4-41d2-b28d-ca24ee2afb8b",
   "metadata": {},
   "outputs": [
    {
     "name": "stdin",
     "output_type": "stream",
     "text": [
      "Enter Marks of six students 33 43 23 11 10 9\n"
     ]
    },
    {
     "name": "stdout",
     "output_type": "stream",
     "text": [
      "[33, 43, 23, 11, 10, 9]\n",
      "[9, 10, 11, 23, 33, 43]\n"
     ]
    }
   ],
   "source": [
    "# 2. Write a program to accept marks of 6 students and display them in a sorted manner\n",
    "marks_list = []\n",
    "input_marks = input(\"Enter Marks of six students\")\n",
    "marks_list = list(map(int, input_marks.split()))\n",
    "print(marks_list)\n",
    "marks_list.sort()\n",
    "print(marks_list)"
   ]
  },
  {
   "cell_type": "code",
   "execution_count": 64,
   "id": "1f2f1b08-b71a-4d1d-b54e-c6a174a0e1e0",
   "metadata": {},
   "outputs": [],
   "source": [
    "# 3. Check that a tuple type cannot be changed in python.\n",
    "tuple_number = (1, 2, 4, 5)\n",
    "# tuple_number[2] = 3\n",
    "#print(tuple_number) # output Error"
   ]
  },
  {
   "cell_type": "code",
   "execution_count": 65,
   "id": "c4c82fee-b798-4931-9ea2-50394bad4894",
   "metadata": {},
   "outputs": [
    {
     "name": "stdout",
     "output_type": "stream",
     "text": [
      "[1, 2, 3, 4, 5, 6, 7, 8]\n"
     ]
    }
   ],
   "source": [
    "# 4. Write a program to sum a list with 4 numbers.\n",
    "list_num = [1, 2, 3, 4]\n",
    "list_num = list_num + [5, 6, 7, 8]\n",
    "print(list_num)"
   ]
  },
  {
   "cell_type": "code",
   "execution_count": 67,
   "id": "a5e7717e-f73d-4f4c-9290-5b73596e261a",
   "metadata": {},
   "outputs": [
    {
     "name": "stdout",
     "output_type": "stream",
     "text": [
      "3\n"
     ]
    }
   ],
   "source": [
    "# 5. Write a program to count the number of zeros in the following tuple:\n",
    " # a = (7, 0, 8, 0, 0, 9)\n",
    "\n",
    "a = (7, 0, 8, 0, 0, 9)\n",
    "print(a.count(0))"
   ]
  },
  {
   "cell_type": "markdown",
   "id": "8230d014-c25a-4f6d-a695-79739eacdcc6",
   "metadata": {},
   "source": [
    "# CHAPTER 5 – PRACTICE SET"
   ]
  },
  {
   "cell_type": "code",
   "execution_count": 72,
   "id": "cbf4fe03-c33a-4dfc-9b92-9c7ab823ee7c",
   "metadata": {},
   "outputs": [
    {
     "name": "stdin",
     "output_type": "stream",
     "text": [
      "Write Word to see Translation boy\n"
     ]
    },
    {
     "name": "stdout",
     "output_type": "stream",
     "text": [
      "لڑکا\n"
     ]
    }
   ],
   "source": [
    "# 1. Write a program to create a dictionary of urdu words with values as their English\n",
    "# translation. Provide user with an option to look it up!\n",
    "urdu_dict = {\n",
    "    \"book\" : \"کتاب\",\n",
    "    \"dog\" : \"کتا\",\n",
    "    \"boy\" : \"لڑکا\",\n",
    "    \"girl\" : \"لڑکی\"\n",
    "}\n",
    "user_input = input(\"Write Word to see Translation\")\n",
    "print(urdu_dict.get(user_input))\n"
   ]
  },
  {
   "cell_type": "code",
   "execution_count": 81,
   "id": "fdf21031-7b31-4863-9efa-2615477179d3",
   "metadata": {},
   "outputs": [
    {
     "name": "stdin",
     "output_type": "stream",
     "text": [
      "Enter Numbers! 4\n",
      "Enter Numbers! 5\n",
      "Enter Numbers! 6\n",
      "Enter Numbers! 7\n",
      "Enter Numbers! 8\n",
      "Enter Numbers! 6\n",
      "Enter Numbers! 5\n",
      "Enter Numbers! 4\n"
     ]
    },
    {
     "name": "stdout",
     "output_type": "stream",
     "text": [
      "{'5', '6', '8', '7', '4'}\n"
     ]
    }
   ],
   "source": [
    "# 2. Write a program to input eight numbers from the user and display all the unique numbers (once).\n",
    "set1 = set()\n",
    "for unique in range(8):\n",
    "    user_input = (input(\"Enter Numbers!\"))\n",
    "    set1.add(user_input)\n",
    "print(set1)"
   ]
  },
  {
   "cell_type": "code",
   "execution_count": 82,
   "id": "ce672ace-736e-40ab-8cb3-41ef7d6eb617",
   "metadata": {},
   "outputs": [
    {
     "name": "stdout",
     "output_type": "stream",
     "text": [
      "{18, 10, '10', '18'}\n"
     ]
    }
   ],
   "source": [
    "# 3. Can we have a set with 18 (int) and '18' (str) as a value in it?\n",
    "mix_type_set = {18, \"18\", 10, \"10\"}\n",
    "print(mix_type_set) # possible"
   ]
  },
  {
   "cell_type": "code",
   "execution_count": 84,
   "id": "ff1aaef3-f133-4b01-a1db-c9ce6fd8781d",
   "metadata": {},
   "outputs": [
    {
     "name": "stdout",
     "output_type": "stream",
     "text": [
      "2\n",
      "{20, '20'}\n"
     ]
    }
   ],
   "source": [
    "# 4. What will be the length of following set s:\n",
    "s = set()\n",
    "s.add(20)\n",
    "s.add(20.0)\n",
    "s.add('20')\n",
    "print(len(s))\n",
    "print(s)"
   ]
  },
  {
   "cell_type": "code",
   "execution_count": 85,
   "id": "9d5e37f9-e1a1-4fe7-a044-40b69e1472fc",
   "metadata": {},
   "outputs": [
    {
     "name": "stdout",
     "output_type": "stream",
     "text": [
      "<class 'dict'>\n"
     ]
    }
   ],
   "source": [
    " # 5 .What is the type of 's'?\n",
    "s = {}\n",
    "print(type(s))"
   ]
  },
  {
   "cell_type": "code",
   "execution_count": 89,
   "id": "53e0e2ae-8580-4f6f-9147-f8816d6e71e2",
   "metadata": {},
   "outputs": [
    {
     "name": "stdin",
     "output_type": "stream",
     "text": [
      "Enter Name anas\n",
      "Enter language urdu\n",
      "Enter Name mujtaba\n",
      "Enter language hindi\n",
      "Enter Name ghulam\n",
      "Enter language farsi\n",
      "Enter Name uzair\n",
      "Enter language arabic\n"
     ]
    },
    {
     "name": "stdout",
     "output_type": "stream",
     "text": [
      "{'anas': 'urdu', 'mujtaba': 'hindi', 'ghulam': 'farsi', 'uzair': 'arabic'}\n"
     ]
    }
   ],
   "source": [
    "# 6. Create an empty dictionary. Allow 4 friends to enter their favorite language as\n",
    "# value and use key as their names. Assume that the names are unique.\n",
    "main_dict = {}\n",
    "# main_dict.update({\"anas\" : \"arabic\", \"mujtaba\": \"urdu\", \"ghulam\": \"farsi\", \"uzair\": \"hindi\"})\n",
    "for x in range(4):\n",
    "    name = input(\"Enter Name\")\n",
    "    language = input(\"Enter language\")\n",
    "    main_dict[name] = language\n",
    "print(main_dict)"
   ]
  },
  {
   "cell_type": "code",
   "execution_count": 91,
   "id": "010a2bcc-4ba2-455c-9005-abf23c39c95f",
   "metadata": {},
   "outputs": [
    {
     "name": "stdin",
     "output_type": "stream",
     "text": [
      "Enter Name anas\n",
      "Enter language hindi\n",
      "Enter Name mujtaba\n",
      "Enter language farsi\n",
      "Enter Name huda\n",
      "Enter language english\n",
      "Enter Name anas\n",
      "Enter language arabic\n"
     ]
    },
    {
     "name": "stdout",
     "output_type": "stream",
     "text": [
      "{'anas': 'arabic', 'mujtaba': 'farsi', 'huda': 'english'}\n"
     ]
    }
   ],
   "source": [
    "# 7. If the names of 2 friends are same; what will happen to the program in problem 6?\n",
    "main_dict = {}\n",
    "for x in range(4):\n",
    "    name = input(\"Enter Name\")\n",
    "    language = input(\"Enter language\")\n",
    "    main_dict[name] = language\n",
    "print(main_dict) #output ignore duplicate value"
   ]
  },
  {
   "cell_type": "code",
   "execution_count": 93,
   "id": "b5ced603-0bb9-4b25-8a20-9b6f1f6d0705",
   "metadata": {},
   "outputs": [
    {
     "name": "stdin",
     "output_type": "stream",
     "text": [
      "Enter Name anas\n",
      "Enter language urdu\n",
      "Enter Name mujtaba\n",
      "Enter language hindi\n",
      "Enter Name huda\n",
      "Enter language english\n",
      "Enter Name Anas\n",
      "Enter language urdu\n"
     ]
    },
    {
     "name": "stdout",
     "output_type": "stream",
     "text": [
      "{'anas': 'urdu', 'mujtaba': 'hindi', 'huda': 'english', 'Anas': 'urdu'}\n"
     ]
    }
   ],
   "source": [
    "# 8. If languages of two friends are same; what will happen to the program in problem 6?\n",
    "main_dict = {}\n",
    "for x in range(4):\n",
    "    name = input(\"Enter Name\")\n",
    "    language = input(\"Enter language\")\n",
    "    main_dict[name] = language\n",
    "print(main_dict) #Allowed duplicate value"
   ]
  },
  {
   "cell_type": "code",
   "execution_count": 97,
   "id": "bfbaf76e-7a94-4feb-803b-500160239941",
   "metadata": {},
   "outputs": [],
   "source": [
    " #9. Can you change the values inside a list which is contained in set S?\n",
    "# s = {8, 7, 12, \"Harry\", [1,2]}\n",
    "# print(s) # notpossible"
   ]
  },
  {
   "cell_type": "markdown",
   "id": "4aeea0df-fea1-42fc-83a1-e208ca8fd4c7",
   "metadata": {},
   "source": [
    "# CHAPTER 6 – PRACTICE SET"
   ]
  },
  {
   "cell_type": "code",
   "execution_count": 101,
   "id": "25306d13-f1e5-4ddc-aed3-548e62f615ac",
   "metadata": {},
   "outputs": [
    {
     "name": "stdin",
     "output_type": "stream",
     "text": [
      "Enter Number 1 56\n",
      "Enter Number 2 87\n",
      "Enter Number 3 34\n",
      "Enter Number 4 23\n"
     ]
    },
    {
     "name": "stdout",
     "output_type": "stream",
     "text": [
      "Greatest Number is 87\n"
     ]
    }
   ],
   "source": [
    "# 1. Write a program to find the greatest of four numbers entered by the user.\n",
    "input1 = int(input(\"Enter Number 1\"))\n",
    "input2 = int(input(\"Enter Number 2\"))\n",
    "input3 = int(input(\"Enter Number 3\"))\n",
    "input4 = int(input(\"Enter Number 4\"))\n",
    "if input1 >= input2 and input1 >= input3 and input1 >= input4:\n",
    "    greatest = input1\n",
    "elif input2 >= input1 and input2 >= input3 and input2 >= input4:\n",
    "    greatest = input2\n",
    "elif input3 >= input1 and input3 >= input2 and input3 >= input4:\n",
    "    greatest = input3\n",
    "else:\n",
    "    greatest = input4\n",
    "print(\"Greatest Number is\", greatest)"
   ]
  },
  {
   "cell_type": "code",
   "execution_count": 155,
   "id": "99a5173c-ce7c-4a63-9fbd-d6a5ace539ff",
   "metadata": {},
   "outputs": [
    {
     "name": "stdin",
     "output_type": "stream",
     "text": [
      "Enter Physics Marks 76\n",
      "Enter Chemistry Marks 45\n",
      "Enter Maths Marks 33\n"
     ]
    },
    {
     "name": "stdout",
     "output_type": "stream",
     "text": [
      "Sucessfully Passed 51.33333333333333\n"
     ]
    }
   ],
   "source": [
    "# 2. Write a program to find out whether a student has passed or failed if it requires a\n",
    "# total of 40% and at least 33% in each subject to pass. Assume 3 subjects and\n",
    "# take marks as an input from the user.\n",
    "input1 = int(input(\"Enter Physics Marks\"))\n",
    "input2 = int(input(\"Enter Chemistry Marks\"))\n",
    "input3 = int(input(\"Enter Maths Marks\"))\n",
    "sum_of_input = input1 + input2 + input3\n",
    "percentage = (sum_of_input / 300) * 100\n",
    "if percentage >= 40 and input1 >= 33 and input2 >= 33 and input3 >= 33:\n",
    "    print(\"Sucessfully Passed\", percentage)\n",
    "else:\n",
    "    print(\"Failed! Better Luck For next time\", percentage)\n"
   ]
  },
  {
   "cell_type": "code",
   "execution_count": 125,
   "id": "cf3f85cb-6a64-42cb-91b4-fed490515b75",
   "metadata": {},
   "outputs": [
    {
     "name": "stdin",
     "output_type": "stream",
     "text": [
      "Write Somrthing! MAKE money\n"
     ]
    },
    {
     "name": "stdout",
     "output_type": "stream",
     "text": [
      "Alert! This may be spam\n"
     ]
    }
   ],
   "source": [
    "# 3. A spam comment is defined as a text containing following keywords:\n",
    "#“Make a lot of money”, “buy now”, “subscribe this”, “click this”. Write a program to detect these spams.\n",
    "user_input = input(\"Write Somrthing!\").lower()\n",
    "\n",
    "if user_input == \"make money\" or user_input == \"buy now\" or user_input == \"subscribe this\" or user_input == \"click this\":\n",
    "    print(\"Alert! This may be spam\")\n",
    "else:\n",
    "    print(\"Go away\")"
   ]
  },
  {
   "cell_type": "code",
   "execution_count": 128,
   "id": "51b3c32e-fbc2-4d1f-93ad-a52ef6635ea4",
   "metadata": {},
   "outputs": [
    {
     "name": "stdin",
     "output_type": "stream",
     "text": [
      "Enter at least 10 characters! safeer jan\n"
     ]
    },
    {
     "name": "stdout",
     "output_type": "stream",
     "text": [
      "Success!\n"
     ]
    }
   ],
   "source": [
    "# 4. Write a program to find whether a given username contains less than 10 characters or not.\n",
    "user_input = input(\"Enter at least 10 characters!\")\n",
    "if len(user_input) < 10:\n",
    "    print(\"String is too Short\")\n",
    "else:\n",
    "    print(\"Success!\")"
   ]
  },
  {
   "cell_type": "code",
   "execution_count": 135,
   "id": "ef9f892b-b913-4f40-999d-9b98c040d2b2",
   "metadata": {},
   "outputs": [
    {
     "name": "stdin",
     "output_type": "stream",
     "text": [
      "Enter Name realme\n"
     ]
    },
    {
     "name": "stdout",
     "output_type": "stream",
     "text": [
      "No! realme is not in this list\n"
     ]
    }
   ],
   "source": [
    "# 5. Write a program which finds out whether a given name is present in a list or not.\n",
    "list_a = [\"anas\", \"safeer\", \"shapater\"]\n",
    "user_input = input(\"Enter Name\")\n",
    "if user_input in list_a:\n",
    "    print(\"yes!\", user_input, \"is present in list\")\n",
    "else:\n",
    "    print(\"No!\", user_input,\"is not in this list\")"
   ]
  },
  {
   "cell_type": "code",
   "execution_count": 153,
   "id": "a9a172ba-37da-42e1-8983-72e4acb930cf",
   "metadata": {},
   "outputs": [
    {
     "name": "stdin",
     "output_type": "stream",
     "text": [
      "Enter Number 75\n"
     ]
    },
    {
     "name": "stdout",
     "output_type": "stream",
     "text": [
      "Grade B\n"
     ]
    }
   ],
   "source": [
    "# 6. Write a program to calculate the grade of a student from his marks from the following scheme:\n",
    "# 90 – 100 => Ex 80 – 90 => A 70 – 80 => B 60 – 70 =>C 50 – 60 => D   <50 => F\n",
    "user_input = int(input(\"Enter Number\"))\n",
    "if user_input >= 90:\n",
    "    print(\"Grade Excellent\")\n",
    "elif user_input >= 80 and user_input < 90:\n",
    "    print(\"Grade A\")\n",
    "elif user_input >= 70 and user_input < 80:\n",
    "    print(\"Grade B\")\n",
    "elif user_input >= 60 and user_input < 70:\n",
    "    print(\"Grade C\")\n",
    "elif user_input >= 50 and user_input < 60:\n",
    "    print(\"Grade D\")\n",
    "else:\n",
    "    print(\"Grade F\")"
   ]
  },
  {
   "cell_type": "code",
   "execution_count": 158,
   "id": "75e91afd-c678-4223-aa76-d74557df27e0",
   "metadata": {},
   "outputs": [
    {
     "name": "stdin",
     "output_type": "stream",
     "text": [
      "Enter Post My name is sohail\n"
     ]
    },
    {
     "name": "stdout",
     "output_type": "stream",
     "text": [
      "Anas is not here\n"
     ]
    }
   ],
   "source": [
    "# 7. Write a program to find out whether a given post is talking about “Anas” or not.\n",
    "user_input = input(\"Enter Post\")\n",
    "if \"anas\" in user_input:\n",
    "    print(\"This post is talking about anas\")\n",
    "else:\n",
    "    print(\"Anas is not here\")"
   ]
  },
  {
   "cell_type": "markdown",
   "id": "8f6f17c8-e565-469d-9187-a6c97d71b577",
   "metadata": {},
   "source": [
    "# CHAPTER 7 – PRACTICE SET"
   ]
  },
  {
   "cell_type": "code",
   "execution_count": 161,
   "id": "924b54fa-31c0-4ac3-99ec-78dbac3c6cad",
   "metadata": {},
   "outputs": [
    {
     "name": "stdin",
     "output_type": "stream",
     "text": [
      "Enter Number 43\n"
     ]
    },
    {
     "name": "stdout",
     "output_type": "stream",
     "text": [
      "43 x 1 = 43\n",
      "43 x 2 = 86\n",
      "43 x 3 = 129\n",
      "43 x 4 = 172\n",
      "43 x 5 = 215\n",
      "43 x 6 = 258\n",
      "43 x 7 = 301\n",
      "43 x 8 = 344\n",
      "43 x 9 = 387\n",
      "43 x 10 = 430\n"
     ]
    }
   ],
   "source": [
    "# 1. Write a program to print multiplication table of a given number using for loop.\n",
    "user_input = int(input(\"Enter Number\"))\n",
    "for i in range(1, 11):\n",
    "    print(user_input,\"x\",i,\"=\", i * user_input)"
   ]
  },
  {
   "cell_type": "code",
   "execution_count": 168,
   "id": "49347024-6445-4376-ad38-fc2c7dad045c",
   "metadata": {},
   "outputs": [
    {
     "name": "stdout",
     "output_type": "stream",
     "text": [
      "Hello\n",
      "Hello Safeer\n",
      "Hello\n",
      "Hello\n"
     ]
    }
   ],
   "source": [
    "# 2. Write a program to greet all the person names stored in a list and which starts with S.\n",
    "name_list = [\"Anas\", \"Safeer\", \"Ghulam\", \"Mujtaba\"]\n",
    "for s in name_list:\n",
    "    if s.startswith(\"S\"):\n",
    "        print(\"Hello\", s)\n",
    "        \n",
    "    else:\n",
    "        print(\"Hello\")"
   ]
  },
  {
   "cell_type": "code",
   "execution_count": 170,
   "id": "6991783b-861b-4b3f-8a92-f14a15c27cc3",
   "metadata": {},
   "outputs": [
    {
     "name": "stdin",
     "output_type": "stream",
     "text": [
      "Enter Number 33\n"
     ]
    },
    {
     "name": "stdout",
     "output_type": "stream",
     "text": [
      "33 x 1 = 33\n",
      "33 x 2 = 66\n",
      "33 x 3 = 99\n",
      "33 x 4 = 132\n",
      "33 x 5 = 165\n",
      "33 x 6 = 198\n",
      "33 x 7 = 231\n",
      "33 x 8 = 264\n",
      "33 x 9 = 297\n",
      "33 x 10 = 330\n"
     ]
    }
   ],
   "source": [
    "# 3. Attempt problem 1 using while loop.\n",
    "user_input = int(input(\"Enter Number\"))\n",
    "i = 1\n",
    "while i < 11:\n",
    "    print(user_input,\"x\",i,\"=\", i * user_input)\n",
    "    i += 1"
   ]
  },
  {
   "cell_type": "code",
   "execution_count": 181,
   "id": "00bdb622-b10d-49e8-8054-0b6965535b2e",
   "metadata": {},
   "outputs": [
    {
     "name": "stdin",
     "output_type": "stream",
     "text": [
      "Enter Number 37\n"
     ]
    },
    {
     "name": "stdout",
     "output_type": "stream",
     "text": [
      "37 is a prime Number\n"
     ]
    }
   ],
   "source": [
    "# 4. Write a program to find whether a given number is prime or not.\n",
    "user_input = int(input(\"Enter Number\"))\n",
    "if user_input % 2 == 0 or user_input % 3 == 0:\n",
    "    print(user_input,\"is not a prime Number\")\n",
    "else:\n",
    "    print(user_input,\"is a prime Number\")"
   ]
  },
  {
   "cell_type": "code",
   "execution_count": 188,
   "id": "39400358-6f8d-41d3-a44a-773d516d648c",
   "metadata": {},
   "outputs": [
    {
     "name": "stdin",
     "output_type": "stream",
     "text": [
      "Enter Number 88\n"
     ]
    },
    {
     "name": "stdout",
     "output_type": "stream",
     "text": [
      "The sum of First 88 natural numbers are:  3916\n"
     ]
    }
   ],
   "source": [
    "# 5. Write a program to find the sum of first n natural numbers using while loop.\n",
    "user_input = int(input(\"Enter Number\"))\n",
    "sum_natural = 0\n",
    "i = 1\n",
    "while i <= user_input:\n",
    "    sum_natural += i\n",
    "    i += 1\n",
    "print(\"The sum of First\", user_input, \"natural numbers are: \", sum_natural)   "
   ]
  },
  {
   "cell_type": "code",
   "execution_count": 197,
   "id": "97f6a7bb-fe03-4921-9c5d-12b76c783383",
   "metadata": {},
   "outputs": [
    {
     "name": "stdin",
     "output_type": "stream",
     "text": [
      "Enter Number 6\n"
     ]
    },
    {
     "name": "stdout",
     "output_type": "stream",
     "text": [
      "The Factorial of 6 is:  720\n"
     ]
    }
   ],
   "source": [
    "# 6. Write a program to calculate the factorial of a given number using for loop.\n",
    "user_input = int(input(\"Enter Number\"))\n",
    "factorial = 1\n",
    "for i in range(1, user_input + 1):\n",
    "    factorial *= i\n",
    "print(\"The Factorial of\", user_input, \"is: \", factorial)"
   ]
  },
  {
   "cell_type": "code",
   "execution_count": 231,
   "id": "76d6a4f7-74c6-44c8-8408-a09fe293ac78",
   "metadata": {},
   "outputs": [
    {
     "name": "stdin",
     "output_type": "stream",
     "text": [
      "Enter Number 4\n"
     ]
    },
    {
     "name": "stdout",
     "output_type": "stream",
     "text": [
      "   *\n",
      "  ***\n",
      " *****\n",
      "*******\n"
     ]
    }
   ],
   "source": [
    "# 7. Write a program to print the following star pattern.\n",
    "#  *\n",
    "# ***\n",
    "# ***** for n = 3\n",
    "\n",
    "#lets take input from user\n",
    "user_input = int(input(\"Enter Number\"))\n",
    "\n",
    "# lets run i loop for input user\n",
    "for i in range(user_input):\n",
    "    \n",
    "# now run j loop for spaces\n",
    "    for j in range(user_input - i - 1):\n",
    "        print(\" \", end=\"\")\n",
    "        \n",
    "# run loop k for \"*\"\n",
    "    for k in range(2 * i + 1):\n",
    "            print(\"*\", end=\"\")\n",
    "    print()"
   ]
  },
  {
   "cell_type": "code",
   "execution_count": 260,
   "id": "d000ba9f-a280-418a-83f9-1e3139501170",
   "metadata": {},
   "outputs": [
    {
     "name": "stdin",
     "output_type": "stream",
     "text": [
      "Enter Number 6\n"
     ]
    },
    {
     "name": "stdout",
     "output_type": "stream",
     "text": [
      "*\n",
      "***\n",
      "*****\n",
      "*******\n",
      "*********\n",
      "***********\n"
     ]
    }
   ],
   "source": [
    "#8. Write a program to print the following star pattern:\n",
    "# *\n",
    "# **\n",
    "# *** for n = 3\n",
    "#lets take input from user\n",
    "user_input = int(input(\"Enter Number\"))\n",
    "\n",
    "# lets run i loop for input user\n",
    "for i in range(user_input):\n",
    "        \n",
    "# run loop j for \"*\"\n",
    "    for j in range(2 * i + 1):\n",
    "        print(\"*\", end=\"\")\n",
    "    print()"
   ]
  },
  {
   "cell_type": "code",
   "execution_count": 245,
   "id": "aef9d4cc-e1f4-4a6b-9f57-146267ccae38",
   "metadata": {},
   "outputs": [
    {
     "name": "stdin",
     "output_type": "stream",
     "text": [
      "Enter Number 6\n"
     ]
    },
    {
     "name": "stdout",
     "output_type": "stream",
     "text": [
      "******\n",
      "*****\n",
      "******\n"
     ]
    }
   ],
   "source": [
    "# 9. Write a program to print the following star pattern.\n",
    "#     * * *\n",
    "#     * * for n = 3\n",
    "#     * * * \n",
    "#lets take input from user\n",
    "n = int(input(\"Enter Number\"))\n",
    "print(\"*\" * n)\n",
    "print(\"*\" * (n - 1))\n",
    "print(\"*\" * n)"
   ]
  },
  {
   "cell_type": "code",
   "execution_count": 247,
   "id": "24515af1-5396-4507-9d98-ccb166c5f4b7",
   "metadata": {},
   "outputs": [
    {
     "name": "stdin",
     "output_type": "stream",
     "text": [
      "Enter Number 3\n"
     ]
    },
    {
     "name": "stdout",
     "output_type": "stream",
     "text": [
      "3 x 10 = 30\n",
      "3 x 9 = 27\n",
      "3 x 8 = 24\n",
      "3 x 7 = 21\n",
      "3 x 6 = 18\n",
      "3 x 5 = 15\n",
      "3 x 4 = 12\n",
      "3 x 3 = 9\n",
      "3 x 2 = 6\n",
      "3 x 1 = 3\n"
     ]
    }
   ],
   "source": [
    "# 10. Write a program to print multiplication table of n using for loops in reversed order.\n",
    "user_input = int(input(\"Enter Number\"))\n",
    "for i in range(10, 0, -1):\n",
    "    print(user_input,\"x\",i,\"=\", i * user_input)"
   ]
  },
  {
   "cell_type": "markdown",
   "id": "9136316f-43d6-4aa5-81ca-19db26a63093",
   "metadata": {},
   "source": [
    "# CHAPTER 8 – PRACTICE SET"
   ]
  },
  {
   "cell_type": "code",
   "execution_count": 251,
   "id": "01485d93-dc1a-4b3a-a954-37ecccae0824",
   "metadata": {},
   "outputs": [
    {
     "name": "stdin",
     "output_type": "stream",
     "text": [
      "Enter Name Anas\n"
     ]
    },
    {
     "name": "stdout",
     "output_type": "stream",
     "text": [
      "Good day Anas\n"
     ]
    }
   ],
   "source": [
    "# Quick Quiz: Write a program to greet a user with “Good day” using functions.\n",
    "user_input = input(\"Enter Name\")\n",
    "def greet():\n",
    "    print(\"Good day\", user_input)\n",
    "greet()"
   ]
  },
  {
   "cell_type": "code",
   "execution_count": 255,
   "id": "81ee151b-d981-4d51-b87e-636a2cf0cf71",
   "metadata": {},
   "outputs": [
    {
     "name": "stdin",
     "output_type": "stream",
     "text": [
      "Enter Number 43\n",
      "Enter Number 45\n",
      "Enter Number 22\n"
     ]
    },
    {
     "name": "stdout",
     "output_type": "stream",
     "text": [
      "greatest number is: 45\n"
     ]
    }
   ],
   "source": [
    "# 1. Write a program using functions to find greatest of three numbers.\n",
    "user_input1 = input(\"Enter Number\")\n",
    "user_input2 = input(\"Enter Number\")\n",
    "user_input3 = input(\"Enter Number\")\n",
    "\n",
    "def greatNum(num1, num2, num3):\n",
    "    if num1 >= num2 and num1 >= num3:\n",
    "        print(\"greatest number is:\", num1)\n",
    "    elif num2 >= num1 and num2 >= num3:\n",
    "        print(\"greatest number is:\", num2)\n",
    "    else:\n",
    "        print(\"greatest number is:\", num3)\n",
    "greatNum(user_input1, user_input2, user_input3)"
   ]
  },
  {
   "cell_type": "code",
   "execution_count": 259,
   "id": "53c89c80-82d3-4700-ad54-e7fd090002d6",
   "metadata": {},
   "outputs": [
    {
     "name": "stdin",
     "output_type": "stream",
     "text": [
      "Enter Celcius Value 32\n"
     ]
    },
    {
     "name": "stdout",
     "output_type": "stream",
     "text": [
      "The value of fahrenheit is  89.6\n"
     ]
    }
   ],
   "source": [
    "# F = (9/5) °C+32\n",
    "# 2. Write a python program using function to convert Celsius to Fahrenheit.\n",
    "Celcius = int(input(\"Enter Celcius Value\"))\n",
    "def fahrenheit(f):\n",
    "  print(\"The value of fahrenheit is \", ((9 / 5) * Celcius) + 32)\n",
    "fahrenheit(Celcius)"
   ]
  },
  {
   "cell_type": "code",
   "execution_count": 276,
   "id": "9c66ba13-9e71-4b0a-a16d-0f24094e703d",
   "metadata": {},
   "outputs": [
    {
     "name": "stdin",
     "output_type": "stream",
     "text": [
      "Enter Number 21\n"
     ]
    },
    {
     "name": "stdout",
     "output_type": "stream",
     "text": [
      "1  2  3  4  5  6  7  8  9  10  11  12  13  14  15  16  17  18  19  20  "
     ]
    }
   ],
   "source": [
    "# 3. How do you prevent a python print() function to print a new line at the end.\n",
    "user_input = int(input(\"Enter Number\"))\n",
    "i = 1\n",
    "while i < user_input:\n",
    "    print(i ,end=\"  \")\n",
    "    i += 1"
   ]
  },
  {
   "cell_type": "code",
   "execution_count": 293,
   "id": "64fb8585-e0c0-41de-96c0-a4042a8cb724",
   "metadata": {},
   "outputs": [
    {
     "name": "stdin",
     "output_type": "stream",
     "text": [
      "Enter a positive integer:  44\n"
     ]
    },
    {
     "name": "stdout",
     "output_type": "stream",
     "text": [
      "The sum of the first 44 natural numbers is: 990\n"
     ]
    }
   ],
   "source": [
    "# 4. Write a recursive function to calculate the sum of first n natural numbers.\n",
    "\n",
    "# Input the value of n from the user\n",
    "n = int(input(\"Enter a positive integer: \"))\n",
    "\n",
    "def sum(n):\n",
    "    # Base case: if n is 1, return 1\n",
    "    if n == 1:\n",
    "        return 1\n",
    "    # Recursive case: sum of n natural numbers is n plus the sum of (n-1) natural numbers\n",
    "    else:\n",
    "        return n + sum(n - 1)\n",
    "\n",
    "\n",
    "# Print the result\n",
    "print(f\"The sum of the first {n} natural numbers is: {sum(n)}\")\n"
   ]
  },
  {
   "cell_type": "code",
   "execution_count": 335,
   "id": "c9355af9-ed2b-4c45-98c3-28d868d21507",
   "metadata": {},
   "outputs": [
    {
     "name": "stdin",
     "output_type": "stream",
     "text": [
      "Enter Number 3\n"
     ]
    },
    {
     "name": "stdout",
     "output_type": "stream",
     "text": [
      "***\n",
      "**\n",
      "*\n"
     ]
    }
   ],
   "source": [
    "# 5. Write a python function to print first n lines of the following pattern:\n",
    "# ***\n",
    "# ** - for n = 3\n",
    "# *\n",
    "#lets take input from user\n",
    "user_input = int(input(\"Enter Number\"))\n",
    "\n",
    "def lines(n):\n",
    "    for i in range(n, 0, -1):\n",
    "        print(\"*\" * i, end=\"\")\n",
    "        \n",
    "        print()\n",
    "\n",
    "lines(user_input)"
   ]
  },
  {
   "cell_type": "code",
   "execution_count": 350,
   "id": "f5eba137-d906-439d-bb2a-16c3a40d1c63",
   "metadata": {},
   "outputs": [
    {
     "name": "stdin",
     "output_type": "stream",
     "text": [
      "Enter Number 3\n"
     ]
    },
    {
     "name": "stdout",
     "output_type": "stream",
     "text": [
      "*\n",
      "**\n",
      "***\n"
     ]
    }
   ],
   "source": [
    "user_input = int(input(\"Enter Number\"))\n",
    "\n",
    "def lines(n):\n",
    "    for i in range(1, n + 1):\n",
    "        print(\"*\" * i, end=\"\")\n",
    "        \n",
    "        print()\n",
    "\n",
    "lines(user_input)"
   ]
  },
  {
   "cell_type": "code",
   "execution_count": 351,
   "id": "6d1de62a-d1c2-4d2b-9d93-5cbf34167666",
   "metadata": {},
   "outputs": [
    {
     "name": "stdin",
     "output_type": "stream",
     "text": [
      "Enter inches Value 3\n"
     ]
    },
    {
     "name": "stdout",
     "output_type": "stream",
     "text": [
      "The value of cms is  7.62\n"
     ]
    }
   ],
   "source": [
    "# 6. Write a python function which converts inches to cms.\n",
    "inches = int(input(\"Enter inches Value\"))\n",
    "def cms(i):\n",
    "  print(\"The value of cms is \", inches * 2.54)\n",
    "cms(inches)"
   ]
  },
  {
   "cell_type": "code",
   "execution_count": 392,
   "id": "324b3be2-12ac-459e-83e1-6944991b26f5",
   "metadata": {},
   "outputs": [
    {
     "name": "stdin",
     "output_type": "stream",
     "text": [
      "Enter Remove Item banana\n"
     ]
    },
    {
     "name": "stdout",
     "output_type": "stream",
     "text": [
      "Updated list: ['  apple', 'cherry', ' apple ']\n"
     ]
    }
   ],
   "source": [
    "# 7. Write a python function to remove a given word from a list ad strip it at the same time\n",
    "\n",
    "word_list = [\"  apple\", \"banana\", \"cherry\", \" apple \"]\n",
    "user_input = input(\"Enter Remove Item\")\n",
    "\n",
    "def remove_word_from_list(word_list, word_to_remove):\n",
    "    stripped_word = word_to_remove.strip()\n",
    "    updated_list = []\n",
    "    \n",
    "    for x in word_list:\n",
    "        if x.strip() != stripped_word:\n",
    "            updated_list.append(x)\n",
    "    return updated_list\n",
    "\n",
    "updated_words = remove_word_from_list(word_list, user_input)\n",
    "print(\"Updated list:\", updated_words)"
   ]
  },
  {
   "cell_type": "code",
   "execution_count": 389,
   "id": "312d408e-01f2-45de-ab9e-d3afca122c4b",
   "metadata": {},
   "outputs": [
    {
     "name": "stdin",
     "output_type": "stream",
     "text": [
      "Enter Remove Item apple\n"
     ]
    },
    {
     "name": "stdout",
     "output_type": "stream",
     "text": [
      "Updated list: ['banana', 'cherry']\n",
      "['  apple', 'banana', 'cherry', ' apple ']\n"
     ]
    }
   ],
   "source": [
    "words = [\"  apple\", \"banana\", \"cherry\", \" apple \"]\n",
    "user_input = input(\"Enter Remove Item\")\n",
    "\n",
    "def removed(words, user_input):\n",
    "    stripped_word = user_input.strip()\n",
    "    \n",
    "    # Create a new list with the stripped word removed\n",
    "    updated_list = []\n",
    "    for word in words:\n",
    "        if word.strip() != stripped_word:\n",
    "            updated_list.append(word)\n",
    "    return updated_list\n",
    "\n",
    "# Example usage\n",
    "\n",
    "\n",
    "# Remove the word and get the updated list\n",
    "updated_words = removed(words, user_input)\n",
    "\n",
    "print(\"Updated list:\", updated_words)\n",
    "print(words)"
   ]
  },
  {
   "cell_type": "code",
   "execution_count": 393,
   "id": "80794cee-88f7-4044-85e5-9e026ce53998",
   "metadata": {},
   "outputs": [
    {
     "name": "stdin",
     "output_type": "stream",
     "text": [
      "Enter Number 3\n"
     ]
    },
    {
     "name": "stdout",
     "output_type": "stream",
     "text": [
      "3 x 1 = 3\n",
      "3 x 2 = 6\n",
      "3 x 3 = 9\n",
      "3 x 4 = 12\n",
      "3 x 5 = 15\n",
      "3 x 6 = 18\n",
      "3 x 7 = 21\n",
      "3 x 8 = 24\n",
      "3 x 9 = 27\n",
      "3 x 10 = 30\n"
     ]
    }
   ],
   "source": [
    "# 8. Write a python function to print multiplication table of a given number.\n",
    "user_input = int(input(\"Enter Number\"))\n",
    "def table(number):\n",
    "    for iteration in range(1, 11):\n",
    "        print(f\"{user_input} x {iteration} = {user_input * iteration}\")\n",
    "table(user_input)"
   ]
  },
  {
   "cell_type": "code",
   "execution_count": 1,
   "id": "a13c46d8-c525-469a-9f51-070bdb2d2a06",
   "metadata": {},
   "outputs": [],
   "source": [
    "# Simple Snake Game in Python 3 for Beginners\n",
    "# By @TokyoEdTech\n",
    "\n",
    "# import turtle\n",
    "# import time\n",
    "# import random\n",
    "\n",
    "# delay = 0.1\n",
    "\n",
    "# # Score\n",
    "# score = 0\n",
    "# high_score = 0\n",
    "\n",
    "# # Set up the screen\n",
    "# wn = turtle.Screen()\n",
    "# wn.title(\"Snake Game by @TokyoEdTech\")\n",
    "# wn.bgcolor(\"green\")\n",
    "# wn.setup(width=600, height=600)\n",
    "# wn.tracer(0) # Turns off the screen updates\n",
    "\n",
    "# # Snake head\n",
    "# head = turtle.Turtle()\n",
    "# head.speed(0)\n",
    "# head.shape(\"square\")\n",
    "# head.color(\"black\")\n",
    "# head.penup()\n",
    "# head.goto(0,0)\n",
    "# head.direction = \"stop\"\n",
    "\n",
    "# # Snake food\n",
    "# food = turtle.Turtle()\n",
    "# food.speed(0)\n",
    "# food.shape(\"circle\")\n",
    "# food.color(\"red\")\n",
    "# food.penup()\n",
    "# food.goto(0,100)\n",
    "\n",
    "# segments = []\n",
    "\n",
    "# # Pen\n",
    "# pen = turtle.Turtle()\n",
    "# pen.speed(0)\n",
    "# pen.shape(\"square\")\n",
    "# pen.color(\"white\")\n",
    "# pen.penup()\n",
    "# pen.hideturtle()\n",
    "# pen.goto(0, 260)\n",
    "# pen.write(\"Score: 0  High Score: 0\", align=\"center\", font=(\"Courier\", 24, \"normal\"))\n",
    "\n",
    "# # Functions\n",
    "# def go_up():\n",
    "#     if head.direction != \"down\":\n",
    "#         head.direction = \"up\"\n",
    "\n",
    "# def go_down():\n",
    "#     if head.direction != \"up\":\n",
    "#         head.direction = \"down\"\n",
    "\n",
    "# def go_left():\n",
    "#     if head.direction != \"right\":\n",
    "#         head.direction = \"left\"\n",
    "\n",
    "# def go_right():\n",
    "#     if head.direction != \"left\":\n",
    "#         head.direction = \"right\"\n",
    "\n",
    "# def move():\n",
    "#     if head.direction == \"up\":\n",
    "#         y = head.ycor()\n",
    "#         head.sety(y + 20)\n",
    "\n",
    "#     if head.direction == \"down\":\n",
    "#         y = head.ycor()\n",
    "#         head.sety(y - 20)\n",
    "\n",
    "#     if head.direction == \"left\":\n",
    "#         x = head.xcor()\n",
    "#         head.setx(x - 20)\n",
    "\n",
    "#     if head.direction == \"right\":\n",
    "#         x = head.xcor()\n",
    "#         head.setx(x + 20)\n",
    "\n",
    "# # Keyboard bindings\n",
    "# wn.listen()\n",
    "# wn.onkeypress(go_up, \"w\")\n",
    "# wn.onkeypress(go_down, \"s\")\n",
    "# wn.onkeypress(go_left, \"a\")\n",
    "# wn.onkeypress(go_right, \"d\")\n",
    "\n",
    "# # Main game loop\n",
    "# while True:\n",
    "#     wn.update()\n",
    "\n",
    "#     # Check for a collision with the border\n",
    "#     if head.xcor()>290 or head.xcor()<-290 or head.ycor()>290 or head.ycor()<-290:\n",
    "#         time.sleep(1)\n",
    "#         head.goto(0,0)\n",
    "#         head.direction = \"stop\"\n",
    "\n",
    "#         # Hide the segments\n",
    "#         for segment in segments:\n",
    "#             segment.goto(1000, 1000)\n",
    "        \n",
    "#         # Clear the segments list\n",
    "#         segments.clear()\n",
    "\n",
    "#         # Reset the score\n",
    "#         score = 0\n",
    "\n",
    "#         # Reset the delay\n",
    "#         delay = 0.1\n",
    "\n",
    "#         pen.clear()\n",
    "#         pen.write(\"Score: {}  High Score: {}\".format(score, high_score), align=\"center\", font=(\"Courier\", 24, \"normal\")) \n",
    "\n",
    "\n",
    "#     # Check for a collision with the food\n",
    "#     if head.distance(food) < 20:\n",
    "#         # Move the food to a random spot\n",
    "#         x = random.randint(-290, 290)\n",
    "#         y = random.randint(-290, 290)\n",
    "#         food.goto(x,y)\n",
    "\n",
    "#         # Add a segment\n",
    "#         new_segment = turtle.Turtle()\n",
    "#         new_segment.speed(0)\n",
    "#         new_segment.shape(\"square\")\n",
    "#         new_segment.color(\"grey\")\n",
    "#         new_segment.penup()\n",
    "#         segments.append(new_segment)\n",
    "\n",
    "#         # Shorten the delay\n",
    "#         delay -= 0.001\n",
    "\n",
    "#         # Increase the score\n",
    "#         score += 10\n",
    "\n",
    "#         if score > high_score:\n",
    "#             high_score = score\n",
    "        \n",
    "#         pen.clear()\n",
    "#         pen.write(\"Score: {}  High Score: {}\".format(score, high_score), align=\"center\", font=(\"Courier\", 24, \"normal\")) \n",
    "\n",
    "#     # Move the end segments first in reverse order\n",
    "#     for index in range(len(segments)-1, 0, -1):\n",
    "#         x = segments[index-1].xcor()\n",
    "#         y = segments[index-1].ycor()\n",
    "#         segments[index].goto(x, y)\n",
    "\n",
    "#     # Move segment 0 to where the head is\n",
    "#     if len(segments) > 0:\n",
    "#         x = head.xcor()\n",
    "#         y = head.ycor()\n",
    "#         segments[0].goto(x,y)\n",
    "\n",
    "#     move()    \n",
    "\n",
    "#     # Check for head collision with the body segments\n",
    "#     for segment in segments:\n",
    "#         if segment.distance(head) < 20:\n",
    "#             time.sleep(1)\n",
    "#             head.goto(0,0)\n",
    "#             head.direction = \"stop\"\n",
    "        \n",
    "#             # Hide the segments\n",
    "#             for segment in segments:\n",
    "#                 segment.goto(1000, 1000)\n",
    "        \n",
    "#             # Clear the segments list\n",
    "#             segments.clear()\n",
    "\n",
    "#             # Reset the score\n",
    "#             score = 0\n",
    "\n",
    "#             # Reset the delay\n",
    "#             delay = 0.1\n",
    "        \n",
    "#             # Update the score display\n",
    "#             pen.clear()\n",
    "#             pen.write(\"Score: {}  High Score: {}\".format(score, high_score), align=\"center\", font=(\"Courier\", 24, \"normal\"))\n",
    "\n",
    "#     time.sleep(delay)\n",
    "\n",
    "# wn.mainloop()"
   ]
  },
  {
   "cell_type": "code",
   "execution_count": 27,
   "id": "e69320b8-f956-496d-9328-ec0c77c1fc97",
   "metadata": {},
   "outputs": [
    {
     "name": "stdout",
     "output_type": "stream",
     "text": [
      "Name: anas \n",
      "City: karachi\n",
      "\n",
      "Name: sohail \n",
      "City: karachi\n",
      "\n",
      "Name: hammad \n",
      "City: karachi\n"
     ]
    }
   ],
   "source": [
    "#1. Create a class “Programmer” for storing information of few programmers working at Microsoft.\n",
    "\n",
    "\n",
    "class Programmer():\n",
    "    \n",
    "    def __init__(self, name, city):\n",
    "        self.name = name\n",
    "        self.city = city\n",
    "        print(f\"Name: {self.name} \")\n",
    "        print(f\"City: {self.city}\")\n",
    "        \n",
    "\n",
    "p1 = Programmer(\"anas\", \"karachi\")\n",
    "print()\n",
    "p2 = Programmer(\"sohail\", \"karachi\")\n",
    "print()\n",
    "p3 = Programmer(\"hammad\", \"karachi\")\n"
   ]
  },
  {
   "cell_type": "code",
   "execution_count": 33,
   "id": "68d8fc70-27b1-4894-b94a-355429002e5c",
   "metadata": {},
   "outputs": [
    {
     "name": "stdout",
     "output_type": "stream",
     "text": [
      "Name: anas \n",
      "age: 25\n",
      "Language: Python\n",
      "exexperience: 5 years\n",
      "\n",
      "Name: sohail \n",
      "age: 32\n",
      "Language: Java\n",
      "exexperience: 4 years\n",
      "\n",
      "Name: hammad \n",
      "age: 43\n",
      "Language: C++\n",
      "exexperience: 2 years\n"
     ]
    }
   ],
   "source": [
    "#1. Create a class “Programmer” for storing information of few programmers working at Microsoft.\n",
    "\n",
    "\n",
    "class Programmer():\n",
    "    \n",
    "    def __init__(self, name, age, language, experience):\n",
    "        self.name = name\n",
    "        self.language = language\n",
    "        self.age = age\n",
    "        self.experience = experience\n",
    "\n",
    "        \n",
    "    def info(self):\n",
    "        print(f\"Name: {self.name} \")\n",
    "        print(f\"age: {self.age}\")\n",
    "        print(f\"Language: {self.language}\")\n",
    "        print(f\"exexperience: {self.experience}\")\n",
    "        \n",
    "\n",
    "p1 = Programmer(\"anas\", 25, \"Python\", \"5 years\")\n",
    "p2 = Programmer(\"sohail\", 32, \"Java\", \"4 years\")\n",
    "p3 = Programmer(\"hammad\", 43, \"C++\", \"2 years\")\n",
    "\n",
    "p1.info()\n",
    "print()\n",
    "p2.info()\n",
    "print()\n",
    "p3.info()"
   ]
  },
  {
   "cell_type": "code",
   "execution_count": 73,
   "id": "572cc1b0-13ba-4ba7-acd3-3e71e6d897b0",
   "metadata": {},
   "outputs": [
    {
     "name": "stdin",
     "output_type": "stream",
     "text": [
      "Enter a Number:  3\n"
     ]
    },
    {
     "name": "stdout",
     "output_type": "stream",
     "text": [
      "Square of 4 is: 16\n",
      "Cube of 6 is: 216\n",
      "Square root of 2 is: 1.4142135623730951\n"
     ]
    }
   ],
   "source": [
    "# 2. Write a class “Calculator” capable of finding square, cube and square root of a number.\n",
    "\n",
    "class Calculator:\n",
    "\n",
    "    def __init__(self, squares, cubes, square_root):\n",
    "        self.square = squares\n",
    "        self.cube = cubes\n",
    "        self.sqr_root = square_root\n",
    "        # squares = squares ** 2\n",
    "        # cubes = cubes ** 3\n",
    "        # square_root = square_root ** 0.5\n",
    "\n",
    "    \n",
    "    def number(self):\n",
    "        # user_input = int(input(\"Enter a Number: \"))\n",
    "        \n",
    "        print(f\"Square of {self.square} is: {self.square ** 2}\")\n",
    "        print(f\"Cube of {self.cube} is: {self.cube ** 3}\")\n",
    "        print(f\"Square root of {self.sqr_root} is: {self.sqr_root ** 0.5}\")\n",
    "\n",
    "# c1 = Calculator(4, 6, 2)\n",
    "c1.number()\n"
   ]
  },
  {
   "cell_type": "code",
   "execution_count": 89,
   "id": "9f00c73f-ec6a-484e-a745-3d249e4ca2b5",
   "metadata": {},
   "outputs": [
    {
     "name": "stdin",
     "output_type": "stream",
     "text": [
      "Enter Number:  55\n"
     ]
    },
    {
     "name": "stdout",
     "output_type": "stream",
     "text": [
      "The square of 55 is 3025\n",
      "The cube of 55 is 166375\n",
      "The square root of 55 is 7.416198487095663\n"
     ]
    }
   ],
   "source": [
    "# 2. Write a class “Calculator” capable of finding square, cube and square root of a number.\n",
    "\n",
    "import math\n",
    "\n",
    "class Calculator:\n",
    "\n",
    "\n",
    "    def __init__(self, number):\n",
    "        self.number = number\n",
    "\n",
    "    def find_square(self):\n",
    "        print(f\"The square of {number} is {self.number ** 2}\")\n",
    "\n",
    "    def find_cube(self):\n",
    "        print(f\"The cube of {number} is {self.number ** 3}\")\n",
    "\n",
    "    def find_square_root(self):\n",
    "        print(f\"The square root of {number} is {math.sqrt(self.number)}\")\n",
    "\n",
    "\n",
    "# Create an instance of the Calculator class\n",
    "number = int(input(\"Enter Number: \"))\n",
    "calc = Calculator(number)\n",
    "\n",
    "\n",
    "# Finding square, cube, and square root\n",
    "square = calc.find_square()\n",
    "cube = calc.find_cube()\n",
    "square_root = calc.find_square_root()"
   ]
  },
  {
   "cell_type": "code",
   "execution_count": 94,
   "id": "00223871-69ed-49ea-a087-c6261deaa39e",
   "metadata": {},
   "outputs": [
    {
     "name": "stdout",
     "output_type": "stream",
     "text": [
      "10\n",
      "4\n",
      "10\n"
     ]
    }
   ],
   "source": [
    "# 3. Create a class with a class attribute a; create an object from it and set ‘a’\n",
    "# directly using ‘object.a = 0’. Does this change the class attribute?\n",
    "\n",
    "class Classmethod:\n",
    "    a = 10\n",
    "\n",
    "objectmethod = Classmethod()\n",
    "print(objectmethod.a)\n",
    "objectmethod.a = 4\n",
    "print(objectmethod.a)\n",
    "print(Classmethod.a)\n"
   ]
  },
  {
   "cell_type": "code",
   "execution_count": 98,
   "id": "af8f5c28-aefb-40e3-8515-8700fb822c91",
   "metadata": {},
   "outputs": [
    {
     "name": "stdout",
     "output_type": "stream",
     "text": [
      "Hello User\n"
     ]
    },
    {
     "name": "stdin",
     "output_type": "stream",
     "text": [
      "Enter Number:  5\n"
     ]
    },
    {
     "name": "stdout",
     "output_type": "stream",
     "text": [
      "The square of 5 is 25\n",
      "The cube of 5 is 125\n",
      "The square root of 5 is 2.23606797749979\n"
     ]
    }
   ],
   "source": [
    "# 4. Add a static method in problem 2, to greet the user with hello.\n",
    "\n",
    "import math\n",
    "\n",
    "class Calculator:\n",
    "\n",
    "    @staticmethod\n",
    "    def greet():\n",
    "        print(\"Hello User\")\n",
    "\n",
    "    def __init__(self, number):\n",
    "        self.number = number\n",
    "\n",
    "    def find_square(self):\n",
    "        print(f\"The square of {number} is {self.number ** 2}\")\n",
    "\n",
    "    def find_cube(self):\n",
    "        print(f\"The cube of {number} is {self.number ** 3}\")\n",
    "\n",
    "    def find_square_root(self):\n",
    "        print(f\"The square root of {number} is {math.sqrt(self.number)}\")\n",
    "\n",
    "\n",
    "# Create an instance of the Calculator class\n",
    "calc.greet()\n",
    "number = int(input(\"Enter Number: \"))\n",
    "calc = Calculator(number)\n",
    "\n",
    "\n",
    "# Finding square, cube, and square root\n",
    "square = calc.find_square()\n",
    "cube = calc.find_cube()\n",
    "square_root = calc.find_square_root()"
   ]
  },
  {
   "cell_type": "code",
   "execution_count": 118,
   "id": "29ae7117-7811-4924-908a-5b66b21e17c5",
   "metadata": {},
   "outputs": [
    {
     "name": "stdout",
     "output_type": "stream",
     "text": [
      "Train Name: Green Line\n",
      "Total Seats: 100\n",
      "Available Seats: 100\n",
      "Booked Seats: 0\n",
      "The fare for the train Green Line is 1500 per ticket.\n",
      "\n",
      "Successfully booked 45 tickets\n",
      "Train Name: Green Line\n",
      "Total Seats: 100\n",
      "Available Seats: 55\n",
      "Booked Seats: 45\n"
     ]
    }
   ],
   "source": [
    "# 5. Write a Class ‘Train’ which has methods to book a ticket, get status (no of seats)\n",
    "# and get fare information of train running under Pakistan Railways\n",
    "\n",
    "class Train:\n",
    "    def __init__(self, name, total_seats, fare):\n",
    "        self.name = name\n",
    "        self.total_seats = total_seats\n",
    "        self.fare = fare\n",
    "        self.booked_seats = 0\n",
    "        self.available_seats = total_seats\n",
    "\n",
    "    def booked_info(self, number_of_seats):\n",
    "        if number_of_seats <= self.available_seats:\n",
    "            self.available_seats -= number_of_seats\n",
    "            self.booked_seats += number_of_seats\n",
    "            print(f\"Successfully booked {number_of_seats} tickets\")\n",
    "        else:\n",
    "            print(\"Not Enough Seats Available\")\n",
    "\n",
    "    def status(self):\n",
    "        print(f\"Train Name: {self.name}\")\n",
    "        print(f\"Total Seats: {self.total_seats}\")\n",
    "        print(f\"Available Seats: {self.available_seats}\")\n",
    "        print(f\"Booked Seats: {self.booked_seats}\")\n",
    "\n",
    "    def get_fare_information(self):\n",
    "        print(f\"The fare for the train {self.name} is {self.fare} per ticket.\")\n",
    "\n",
    "\n",
    "t1 = Train(\"Green Line\", 100, 1500)\n",
    "t1.status()\n",
    "t1.get_fare_information()\n",
    "print()\n",
    "t1.booked_info(45)\n",
    "t1.status()"
   ]
  },
  {
   "cell_type": "code",
   "execution_count": 149,
   "id": "956c93ff-3992-4f0e-9efd-d94899e8af09",
   "metadata": {},
   "outputs": [
    {
     "name": "stdin",
     "output_type": "stream",
     "text": [
      "Enter Number of tickets 45\n",
      "Enter name of train green line\n",
      "Enter Total seats 100\n",
      "Enter fare of ticket 2000\n"
     ]
    },
    {
     "name": "stdout",
     "output_type": "stream",
     "text": [
      "\n",
      "Successfully booked 45 tickets\n",
      "Train Name: green line\n",
      "Total Seats: 100\n",
      "Available Seats: 55\n",
      "Booked Seats: 45\n",
      "\n",
      "Total Cost of Booked Tickets are: 90000\n"
     ]
    }
   ],
   "source": [
    "num_of_tickets = int(input(\"Enter Number of tickets\"))\n",
    "train_name = input(\"Enter name of train\")\n",
    "total_seats = int(input(\"Enter Total seats\"))\n",
    "available_seats = total_seats\n",
    "booked_tickets = 0\n",
    "fare = int(input(\"Enter fare of ticket\"))\n",
    "\n",
    "\n",
    "\n",
    "\n",
    "def booked_info():\n",
    "    global available_seats, booked_tickets, fare\n",
    "    if num_of_tickets <= available_seats:\n",
    "        available_seats -= num_of_tickets\n",
    "        booked_tickets += num_of_tickets\n",
    "        print()\n",
    "        print(f\"Successfully booked {num_of_tickets} tickets\")\n",
    "        \n",
    "    else:\n",
    "        print(\"Not Enough Seats Available\")\n",
    "def status():\n",
    "    total_cost = fare * booked_tickets\n",
    "    print(f\"Train Name: {train_name}\")\n",
    "    print(f\"Total Seats: {total_seats}\")\n",
    "    print(f\"Available Seats: {available_seats}\")\n",
    "    print(f\"Booked Seats: {booked_tickets}\")\n",
    "    print()\n",
    "    print(f\"Total Cost of Booked Tickets are: {total_cost}\")\n",
    "\n",
    "booked_info()\n",
    "status()"
   ]
  },
  {
   "cell_type": "markdown",
   "id": "4d7ac61f-108a-4ee3-8735-919fb7cb539e",
   "metadata": {},
   "source": [
    "# CHAPTER 11- PRACTICE SET"
   ]
  },
  {
   "cell_type": "code",
   "execution_count": 2,
   "id": "722436be-ef61-4335-b17e-1665c1ca0633",
   "metadata": {},
   "outputs": [
    {
     "ename": "SyntaxError",
     "evalue": "incomplete input (2381078537.py, line 4)",
     "output_type": "error",
     "traceback": [
      "\u001b[1;36m  Cell \u001b[1;32mIn[2], line 4\u001b[1;36m\u001b[0m\n\u001b[1;33m    class Animal:\u001b[0m\n\u001b[1;37m                 ^\u001b[0m\n\u001b[1;31mSyntaxError\u001b[0m\u001b[1;31m:\u001b[0m incomplete input\n"
     ]
    }
   ],
   "source": [
    "# # 2. Create a class ‘Pets’ from a class ‘Animals’ and further create a class ‘Dog’ from\n",
    "# ‘Pets’. Add a method ‘bark’ to class ‘Dog’.\n",
    "\n",
    "class Animal:\n",
    "    def __init__(self, spieces):\n",
    "        self.spieces = spieces\n",
    "    def info(self):\n",
    "        "
   ]
  },
  {
   "cell_type": "code",
   "execution_count": 32,
   "id": "af7aeb05-f922-4f71-ac6f-707c031ae109",
   "metadata": {},
   "outputs": [
    {
     "name": "stdout",
     "output_type": "stream",
     "text": [
      "Dog(name=Buddy)\n",
      "Woof!\n"
     ]
    }
   ],
   "source": [
    "class Animals:\n",
    "    def __init__(self, species):\n",
    "        self.species = species\n",
    "\n",
    "    def info(self):\n",
    "        return f\"Animals(species={self.species})\"\n",
    "\n",
    "class Pets(Animals):\n",
    "    def __init__(self, species, name):\n",
    "        super().__init__(species)\n",
    "        self.name = name\n",
    "\n",
    "    def info(self):\n",
    "        return f\"Pets(species={self.species}, name={self.name})\"\n",
    "\n",
    "class Dog(Pets):\n",
    "    def __init__(self, name):\n",
    "        super().__init__(\"Dog\", name)\n",
    "\n",
    "    def __repr__(self):\n",
    "        return f\"Dog(name={self.name})\"\n",
    "\n",
    "    def bark(self):\n",
    "        return \"Woof!\"\n",
    "\n",
    "# Create an instance of the Dog class\n",
    "my_dog = Dog(\"Buddy\")\n",
    "print(my_dog)          # Output: Dog(name=Buddy)\n",
    "print(my_dog.bark())   # Output: Woof!\n"
   ]
  },
  {
   "cell_type": "code",
   "execution_count": 24,
   "id": "7bddbdde-f4a8-42d0-a0ed-1d85e2259e0e",
   "metadata": {},
   "outputs": [
    {
     "name": "stdout",
     "output_type": "stream",
     "text": [
      "Pets(species=Biology, name=Dog)\n"
     ]
    }
   ],
   "source": [
    "class Animals:\n",
    "    def __init__(self, species):\n",
    "        self.species = species\n",
    "\n",
    "    def info(self):\n",
    "        return f\"Animals(species={self.species})\"\n",
    "\n",
    "class Pets(Animals):\n",
    "    def __init__(self, species, name):\n",
    "        super().__init__(species)\n",
    "        self.name = name\n",
    "\n",
    "    def info(self):\n",
    "        return f\"Pets(species={self.species}, name={self.name})\"\n",
    "\n",
    "p1 = Pets(\"Biology\", \"Dog\")\n",
    "print(p1.info())"
   ]
  },
  {
   "cell_type": "code",
   "execution_count": null,
   "id": "6bf9f850-e371-4cb0-9f78-f96a202ec645",
   "metadata": {},
   "outputs": [],
   "source": []
  }
 ],
 "metadata": {
  "kernelspec": {
   "display_name": "Python 3 (ipykernel)",
   "language": "python",
   "name": "python3"
  },
  "language_info": {
   "codemirror_mode": {
    "name": "ipython",
    "version": 3
   },
   "file_extension": ".py",
   "mimetype": "text/x-python",
   "name": "python",
   "nbconvert_exporter": "python",
   "pygments_lexer": "ipython3",
   "version": "3.12.4"
  }
 },
 "nbformat": 4,
 "nbformat_minor": 5
}
