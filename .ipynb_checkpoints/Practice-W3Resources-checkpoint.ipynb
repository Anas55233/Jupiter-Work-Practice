{
 "cells": [
  {
   "cell_type": "code",
   "execution_count": 3,
   "id": "b6ae85e9-e864-457e-ae5d-4a236da2dc3e",
   "metadata": {},
   "outputs": [
    {
     "name": "stdout",
     "output_type": "stream",
     "text": [
      "208\n"
     ]
    }
   ],
   "source": [
    "# Write a Python program to calculate the number of days between two dates.\n",
    "\n",
    "from datetime import date\n",
    "\n",
    "first_date = date(2024, 1, 13)\n",
    "last_date = date(2024, 8, 8)\n",
    "diff =last_date - first_date\n",
    "print(diff.days)"
   ]
  },
  {
   "cell_type": "code",
   "execution_count": 6,
   "id": "6d1f9a84-af55-426c-a894-84f27c9a2bde",
   "metadata": {},
   "outputs": [
    {
     "name": "stdin",
     "output_type": "stream",
     "text": [
      "Enter radius value! 6\n"
     ]
    },
    {
     "name": "stdout",
     "output_type": "stream",
     "text": [
      "The Volume of sphere is: 904.7786842338603 \n"
     ]
    }
   ],
   "source": [
    "# Write a  Python program to get the volume of a sphere with radius six.\n",
    "\n",
    "from math import pi\n",
    "r = int(input(\"Enter radius value!\"))\n",
    "V = (4 / 3) * pi * (r ** 3)\n",
    "print(f\"The Volume of sphere is: {V} \")"
   ]
  },
  {
   "cell_type": "code",
   "execution_count": 14,
   "id": "1ee9f557-113b-4b90-9aa3-edb881c7c951",
   "metadata": {},
   "outputs": [
    {
     "name": "stdin",
     "output_type": "stream",
     "text": [
      "Enter difference number:  12\n"
     ]
    },
    {
     "name": "stdout",
     "output_type": "stream",
     "text": [
      "Diffrence is : 5\n",
      "when user_input is smaller, so answer is: 5\n"
     ]
    }
   ],
   "source": [
    " # Write a  Python program to calculate the difference between a given number and 17. \n",
    "# If the number is greater than 17, return twice the absolute difference.\n",
    "\n",
    "user_input = int(input(\"Enter difference number: \"))\n",
    "\n",
    "# Method 1\n",
    "def difference(n):\n",
    "    if n > 17:\n",
    "        return (n - 17) * 2\n",
    "    else:\n",
    "        return abs(n - 17)\n",
    "\n",
    "print(f\"Diffrence is : {difference(user_input)}\")\n",
    "\n",
    "# Method 2\n",
    "def diff(n):\n",
    "    if n > 17:\n",
    "        print(f\"when user_input is greater, so answer is: {(n - 17) * 2}\")\n",
    "    else:\n",
    "        print(f\"when user_input is smaller, so answer is: {abs(n - 17)}\")\n",
    "\n",
    "diff(user_input)"
   ]
  },
  {
   "cell_type": "code",
   "execution_count": 28,
   "id": "3e14f791-622c-4359-a421-2f73223f8168",
   "metadata": {},
   "outputs": [
    {
     "name": "stdin",
     "output_type": "stream",
     "text": [
      "Enter difference number:  100\n"
     ]
    },
    {
     "data": {
      "text/plain": [
       "False"
      ]
     },
     "execution_count": 28,
     "metadata": {},
     "output_type": "execute_result"
    }
   ],
   "source": [
    "# Write a  Python program to test whether a number is within 100 of 1000 or 2000.\n",
    "\n",
    "\n",
    "user_input = int(input(\"Enter difference number: \"))\n",
    "def diff(n):\n",
    "    if abs(1000 - n) <= 100 or abs(2000 - n) <= 100:\n",
    "        return True\n",
    "    else:\n",
    "        return False\n",
    "\n",
    "diff(user_input)"
   ]
  },
  {
   "cell_type": "code",
   "execution_count": 30,
   "id": "0a9b10ba-4dfc-408a-8d18-e48b8fac25ea",
   "metadata": {},
   "outputs": [
    {
     "name": "stdin",
     "output_type": "stream",
     "text": [
      "Enter Number 1:  21\n",
      "Enter Number 2:  21\n",
      "Enter Number 3:  32\n"
     ]
    },
    {
     "name": "stdout",
     "output_type": "stream",
     "text": [
      "The value of sum is : 74\n"
     ]
    }
   ],
   "source": [
    "# Write a  Python program to calculate the sum of three given numbers. If the values are equal, return three times their sum.\n",
    "\n",
    "num1 = int(input(\"Enter Number 1: \"))\n",
    "num2 = int(input(\"Enter Number 2: \"))\n",
    "num3 = int(input(\"Enter Number 3: \"))\n",
    "\n",
    "def sum_of_numbers(n1, n2, n3):\n",
    "    if n1 == n2 == n3:\n",
    "        sum =(n1 + n2 + n3) * 3\n",
    "        return sum\n",
    "    else:\n",
    "        sum = n1 + n2 + n3\n",
    "        return sum\n",
    "\n",
    "print(f\"The value of sum is : {sum_of_numbers(num1, num2, num3)}\")"
   ]
  },
  {
   "cell_type": "code",
   "execution_count": 34,
   "id": "63543a89-27b9-45fe-8450-ba00a50ae9b4",
   "metadata": {},
   "outputs": [
    {
     "name": "stdin",
     "output_type": "stream",
     "text": [
      "Enter Text:  Isnas\n"
     ]
    },
    {
     "name": "stdout",
     "output_type": "stream",
     "text": [
      "Isnas\n"
     ]
    }
   ],
   "source": [
    "#  Get a new string from a given string where 'Is' has been added to the front. \n",
    "# If the given string already begins with 'Is' then return the string unchanged\n",
    "\n",
    "\n",
    "string = input(\"Enter Text: \")\n",
    "def Is_string(text):\n",
    "    if len(text) >= 2 and text[:2] == \"Is\":\n",
    "        return text\n",
    "    else:\n",
    "        return \"Is\" + text\n",
    "\n",
    "print(Is_string(string))"
   ]
  },
  {
   "cell_type": "code",
   "execution_count": 38,
   "id": "249d3468-44c5-4e17-b16b-ab2435b3275c",
   "metadata": {},
   "outputs": [
    {
     "name": "stdin",
     "output_type": "stream",
     "text": [
      "Enter character: i\n"
     ]
    },
    {
     "name": "stdout",
     "output_type": "stream",
     "text": [
      "The Given value is True\n"
     ]
    }
   ],
   "source": [
    "# Write a Python program to test whether a passed letter is a vowel or not.\n",
    "\n",
    "user_input = input(\"Enter character:\")\n",
    "\n",
    "def vowel(char):\n",
    "    all_vowel = \"aeiou\"\n",
    "    if char in all_vowel:\n",
    "        return True\n",
    "    else:\n",
    "        return False\n",
    "\n",
    "print(f\"The Given value is {vowel(user_input)}\")"
   ]
  },
  {
   "cell_type": "code",
   "execution_count": 42,
   "id": "cf100d81-291d-49fd-bde9-a117e66f6df3",
   "metadata": {},
   "outputs": [
    {
     "name": "stdin",
     "output_type": "stream",
     "text": [
      "Enter value of list:  6, 8, 9 10\n",
      "Enter VAlue:  5\n"
     ]
    },
    {
     "name": "stdout",
     "output_type": "stream",
     "text": [
      "False\n"
     ]
    }
   ],
   "source": [
    "# Write a  Python program that checks whether a specified value is contained within a group of values.\n",
    "user_input = input(\"Enter value of list: \")\n",
    "lists = []\n",
    "lists.append(user_input)\n",
    "specific_value = input(\"Enter VAlue: \")\n",
    "if specific_value in lists:\n",
    "     print(True)\n",
    "else:\n",
    "     print(False)"
   ]
  },
  {
   "cell_type": "code",
   "execution_count": null,
   "id": "17fa67aa-2fa1-4850-bcb2-6d85e1492b5b",
   "metadata": {},
   "outputs": [],
   "source": []
  }
 ],
 "metadata": {
  "kernelspec": {
   "display_name": "Python 3 (ipykernel)",
   "language": "python",
   "name": "python3"
  },
  "language_info": {
   "codemirror_mode": {
    "name": "ipython",
    "version": 3
   },
   "file_extension": ".py",
   "mimetype": "text/x-python",
   "name": "python",
   "nbconvert_exporter": "python",
   "pygments_lexer": "ipython3",
   "version": "3.12.4"
  }
 },
 "nbformat": 4,
 "nbformat_minor": 5
}
