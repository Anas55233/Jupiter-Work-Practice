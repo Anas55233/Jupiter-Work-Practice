{
 "cells": [
  {
   "cell_type": "markdown",
   "id": "ae3c6f65-5e8b-4c00-8515-d7b2adee6dac",
   "metadata": {},
   "source": [
    "# Loops"
   ]
  },
  {
   "cell_type": "markdown",
   "id": "ceb945fb-e7bf-45cd-8c59-ff23846cfc8a",
   "metadata": {},
   "source": [
    "### Python Loops\n",
    "##### Python has two primitive loop commands:\n",
    "###### 1.while loops   \n",
    "###### 2. for loops"
   ]
  },
  {
   "cell_type": "markdown",
   "id": "8463102c-3584-4512-a8c9-462cd70e18da",
   "metadata": {},
   "source": [
    "#### While Loops"
   ]
  },
  {
   "cell_type": "code",
   "execution_count": 5,
   "id": "ff2a6b63-8a39-4491-b86b-dea3f3a7d31f",
   "metadata": {},
   "outputs": [
    {
     "name": "stdout",
     "output_type": "stream",
     "text": [
      "10\n",
      "11\n",
      "12\n",
      "13\n",
      "14\n",
      "15\n"
     ]
    }
   ],
   "source": [
    "i = 10\n",
    "while i <= 15:\n",
    "    print(i)\n",
    "    i += 1"
   ]
  },
  {
   "cell_type": "code",
   "execution_count": 9,
   "id": "89a92394-aee5-4f46-9419-85bfd9c76875",
   "metadata": {},
   "outputs": [
    {
     "name": "stdout",
     "output_type": "stream",
     "text": [
      "10\n",
      "11\n",
      "12\n",
      "13\n"
     ]
    }
   ],
   "source": [
    "# using break statement\n",
    "i = 10\n",
    "while i < 15:\n",
    "  print(i)\n",
    "  if i == 13:\n",
    "    break\n",
    "  i += 1"
   ]
  },
  {
   "cell_type": "code",
   "execution_count": 21,
   "id": "99dabbe8-c0fe-4577-8d12-a62cf44c2ac9",
   "metadata": {},
   "outputs": [
    {
     "name": "stdout",
     "output_type": "stream",
     "text": [
      "11\n",
      "12\n",
      "13\n",
      "15\n",
      "16\n"
     ]
    }
   ],
   "source": [
    "# With the continue statement we can stop the current iteration, and continue with the next:\n",
    "i = 10\n",
    "while i < 16:\n",
    "    # print(i)\n",
    "    i += 1\n",
    "    if i == 14:\n",
    "        continue\n",
    "    print(i)"
   ]
  },
  {
   "cell_type": "code",
   "execution_count": 23,
   "id": "7b707248-a987-42f3-917e-a1a3bc5a30c1",
   "metadata": {},
   "outputs": [
    {
     "name": "stdout",
     "output_type": "stream",
     "text": [
      "10\n",
      "11\n",
      "12\n",
      "13\n",
      "14\n",
      "15\n",
      "End\n"
     ]
    }
   ],
   "source": [
    "# With the else statement we can run a block of code once when the condition no longer is true:\n",
    "i = 10\n",
    "while i <= 15:\n",
    "    print(i)\n",
    "    i += 1\n",
    "else:\n",
    "    print(\"End\")"
   ]
  },
  {
   "cell_type": "markdown",
   "id": "16ecc19b-6c8d-46d6-b4d6-bdfc80947347",
   "metadata": {},
   "source": [
    "#### Python For Loops\n",
    "###### A for loop is used for iterating over a sequence (that is either a list, a tuple, a dictionary, a set, or a string)."
   ]
  },
  {
   "cell_type": "code",
   "execution_count": 26,
   "id": "4cb9120b-4b64-4f68-9226-3939708a083c",
   "metadata": {},
   "outputs": [
    {
     "name": "stdout",
     "output_type": "stream",
     "text": [
      "apple\n",
      "banana\n",
      "cherry\n"
     ]
    }
   ],
   "source": [
    "# With the for loop we can execute a set of statements, once for each item in a list, tuple, set etc.\n",
    "fruits = [\"apple\", \"banana\", \"cherry\"]\n",
    "for x in fruits:\n",
    "  print(x)"
   ]
  },
  {
   "cell_type": "code",
   "execution_count": 28,
   "id": "2ee8a721-182b-4420-9a17-83f4a99d8cc8",
   "metadata": {},
   "outputs": [
    {
     "name": "stdout",
     "output_type": "stream",
     "text": [
      "b\n",
      "a\n",
      "n\n",
      "a\n",
      "n\n",
      "a\n"
     ]
    }
   ],
   "source": [
    "# Looping Through a String\n",
    "for x in \"banana\":\n",
    "    print(x)"
   ]
  },
  {
   "cell_type": "code",
   "execution_count": 30,
   "id": "a15ef894-fcf2-486e-afc3-298338272039",
   "metadata": {},
   "outputs": [
    {
     "name": "stdout",
     "output_type": "stream",
     "text": [
      "apple\n",
      "banana\n"
     ]
    }
   ],
   "source": [
    "# With the break statement we can stop the loop before it has looped through all the items:\n",
    "fruits = [\"apple\", \"banana\", \"cherry\"]\n",
    "for x in fruits:\n",
    "  print(x)\n",
    "  if x == \"banana\":\n",
    "      break"
   ]
  },
  {
   "cell_type": "code",
   "execution_count": 34,
   "id": "bdd5b9ba-3d45-403d-9e79-1fdc74cfc4fc",
   "metadata": {},
   "outputs": [
    {
     "name": "stdout",
     "output_type": "stream",
     "text": [
      "apple\n"
     ]
    }
   ],
   "source": [
    "fruits = [\"apple\", \"banana\", \"cherry\"]\n",
    "for x in fruits:\n",
    "  if x == \"banana\":\n",
    "    break\n",
    "  print(x)"
   ]
  },
  {
   "cell_type": "code",
   "execution_count": 36,
   "id": "3c980bfc-2bec-43f1-ac1f-b1b17c9727bd",
   "metadata": {},
   "outputs": [
    {
     "name": "stdout",
     "output_type": "stream",
     "text": [
      "apple\n",
      "cherry\n"
     ]
    }
   ],
   "source": [
    "# With the continue statement we can stop the current iteration of the loop, and continue with the next:\n",
    "fruits = [\"apple\", \"banana\", \"cherry\"]\n",
    "for x in fruits:\n",
    "  if x == \"banana\":\n",
    "    continue\n",
    "  print(x)"
   ]
  },
  {
   "cell_type": "markdown",
   "id": "4729ec39-1d40-4546-a250-bcb1af910b18",
   "metadata": {},
   "source": [
    "#### The range() Function\n"
   ]
  },
  {
   "cell_type": "code",
   "execution_count": 41,
   "id": "f4f85e9c-a108-4033-bbdd-82ff01ff3992",
   "metadata": {},
   "outputs": [
    {
     "name": "stdout",
     "output_type": "stream",
     "text": [
      "0\n",
      "1\n",
      "2\n",
      "3\n",
      "4\n",
      "5\n",
      "2\n",
      "3\n",
      "4\n",
      "5\n"
     ]
    }
   ],
   "source": [
    "# The range() function returns a sequence of numbers, starting from 0 by default, and increments by 1 (by default), and ends at a specified number.\n",
    "for x in range(6):\n",
    "  print(x)"
   ]
  },
  {
   "cell_type": "code",
   "execution_count": 43,
   "id": "71c34a88-22b0-46a9-965d-2f7e082bdf60",
   "metadata": {},
   "outputs": [
    {
     "name": "stdout",
     "output_type": "stream",
     "text": [
      "2\n",
      "3\n",
      "4\n",
      "5\n"
     ]
    }
   ],
   "source": [
    "for x in range(2, 6):\n",
    "  print(x)"
   ]
  },
  {
   "cell_type": "code",
   "execution_count": 49,
   "id": "d9032cf1-cabe-4f73-a620-eb22d8d4f3fc",
   "metadata": {},
   "outputs": [
    {
     "name": "stdout",
     "output_type": "stream",
     "text": [
      "2\n",
      "8\n",
      "14\n",
      "20\n",
      "26\n",
      "32\n",
      "38\n"
     ]
    }
   ],
   "source": [
    "# The range() function defaults to increment the sequence by 1,\n",
    "# however it is possible to specify the increment value by adding a third parameter: range(2, 30, 3):\n",
    "for x in range(2, 43, 6):\n",
    "  print(x)"
   ]
  },
  {
   "cell_type": "markdown",
   "id": "0a247dca-9d61-4407-beec-ad261aaef3da",
   "metadata": {},
   "source": [
    "#### Else in For Loop"
   ]
  },
  {
   "cell_type": "code",
   "execution_count": 52,
   "id": "426c1e63-0fd1-4701-97de-42b88e8d53c4",
   "metadata": {},
   "outputs": [
    {
     "name": "stdout",
     "output_type": "stream",
     "text": [
      "0\n",
      "1\n",
      "2\n",
      "3\n",
      "4\n",
      "5\n",
      "End\n"
     ]
    }
   ],
   "source": [
    "for x in range(6):\n",
    "  print(x)\n",
    "else:\n",
    "    print(\"End\")"
   ]
  },
  {
   "cell_type": "code",
   "execution_count": 3,
   "id": "0e0a1b10-3831-4fd9-ada7-7efce9306dcc",
   "metadata": {},
   "outputs": [
    {
     "name": "stdout",
     "output_type": "stream",
     "text": [
      "0\n"
     ]
    }
   ],
   "source": [
    "for x in range(6):\n",
    "  if x == 1: break\n",
    "  print(x)\n",
    "else:\n",
    "  print(\"End\")"
   ]
  },
  {
   "cell_type": "markdown",
   "id": "eb8ce79a-0750-40d5-91a9-f845369e3ce6",
   "metadata": {},
   "source": [
    "#### Nested Loops\n",
    "###### The \"inner loop\" will be executed one time for each iteration of the \"outer loop\":\r\n"
   ]
  },
  {
   "cell_type": "code",
   "execution_count": 80,
   "id": "7caf48d7-3dd7-438a-a713-2f75df52fe5b",
   "metadata": {},
   "outputs": [
    {
     "name": "stdout",
     "output_type": "stream",
     "text": [
      "red apple\n",
      "red banana\n",
      "red cherry\n",
      "blue apple\n",
      "blue banana\n",
      "blue cherry\n",
      "green apple\n",
      "green banana\n",
      "green cherry\n"
     ]
    }
   ],
   "source": [
    "colors = [\"red\", \"blue\", \"green\"]\n",
    "fruits = [\"apple\", \"banana\", \"cherry\"]\n",
    "for x in colors:\n",
    "    for y in fruits:\n",
    "        print(x, y)"
   ]
  },
  {
   "cell_type": "code",
   "execution_count": 88,
   "id": "31363dac-5674-471b-926c-553269cd7a06",
   "metadata": {},
   "outputs": [
    {
     "name": "stdout",
     "output_type": "stream",
     "text": [
      "4 * 1 = 4\n",
      "4 * 3 = 12\n",
      "4 * 5 = 20\n",
      "4 * 7 = 28\n",
      "4 * 9 = 36\n"
     ]
    }
   ],
   "source": [
    "x = 1\n",
    "while x <= 10:\n",
    "    print(4, \"*\", x, \"=\", 4*x)\n",
    "    x = x + 2"
   ]
  },
  {
   "cell_type": "code",
   "execution_count": 1,
   "id": "aad2d068-775f-485f-9b86-5ffefded8f49",
   "metadata": {},
   "outputs": [
    {
     "name": "stdout",
     "output_type": "stream",
     "text": [
      "['BlueRay  Zzz', 'BlueRay  Burp', 'BlueRay  Dogbone', 'BlueRay  Droop', 'Upchuck  Zzz', 'Upchuck  Burp', 'Upchuck  Dogbone', 'Upchuck  Droop']\n"
     ]
    }
   ],
   "source": [
    "first_names = [\"BlueRay \", \"Upchuck \"]\n",
    "last_names = [\"Zzz\", \"Burp\", \"Dogbone\", \"Droop\"]\n",
    "full_names = []\n",
    "for first_name in first_names:\n",
    "    for last_name in last_names:\n",
    "        full_names.append(first_name + \" \" + last_name)\n",
    "print(full_names)"
   ]
  },
  {
   "cell_type": "code",
   "execution_count": 8,
   "id": "8119856a-3b78-449b-b773-7166257b55a6",
   "metadata": {},
   "outputs": [
    {
     "name": "stdin",
     "output_type": "stream",
     "text": [
      "Enter your city:  cheyenne\n"
     ]
    },
    {
     "name": "stdout",
     "output_type": "stream",
     "text": [
      "It's one of the cleanest cities\n"
     ]
    }
   ],
   "source": [
    "cities = [\"karachi\", \"Islamabad\", \"peshawar\", \"Quetta\", \"Lahore\"]\n",
    "user_input = input(\"Enter City Name!\")\n",
    "user_input = user_input.lower()\n",
    "for x in cities:\n",
    "    if cities == user_input:\n",
    "        \n",
    "print(\"ok\")"
   ]
  },
  {
   "cell_type": "code",
   "execution_count": 24,
   "id": "e0913688-b612-4262-a56d-5e954a747fb8",
   "metadata": {},
   "outputs": [
    {
     "name": "stdin",
     "output_type": "stream",
     "text": [
      "Enter your city:  ljknrgklsfd\n"
     ]
    },
    {
     "name": "stdout",
     "output_type": "stream",
     "text": [
      "not ok\n"
     ]
    }
   ],
   "source": [
    "city_to_check = input(\"Enter your city: \")\n",
    "city_to_check = city_to_check.lower()\n",
    "cleanest_cities = [\"karachi\", \"Islamabad\", \"peshawar\", \"Quetta\", \"Lahore\"]\n",
    "for a_clean_city in cleanest_cities:\n",
    "    if city_to_check == a_clean_city:\n",
    "        print(\"It's one of the cleanest cities\")\n",
    "        # break\n",
    "    else:\n",
    "        print(\"not ok\")\n",
    "        break"
   ]
  },
  {
   "cell_type": "code",
   "execution_count": 26,
   "id": "3e4edaef-7d73-4b4a-945e-a3aac825be61",
   "metadata": {},
   "outputs": [
    {
     "name": "stdin",
     "output_type": "stream",
     "text": [
      "Enter your city:  sdzfd\n"
     ]
    }
   ],
   "source": [
    "user_input = input(\"Enter your city: \")\n",
    "user_input = user_input.lower()\n",
    "cities = [\"karachi\", \"Islamabad\", \"peshawar\", \"Quetta\", \"Lahore\"]\n",
    "for x in cities:\n",
    "    if user_input == x:\n",
    "        print(\"It's one of the cleanest cities\")"
   ]
  },
  {
   "cell_type": "code",
   "execution_count": null,
   "id": "b326e693-c2a1-499a-b54a-694c307e221f",
   "metadata": {},
   "outputs": [],
   "source": []
  }
 ],
 "metadata": {
  "kernelspec": {
   "display_name": "Python 3 (ipykernel)",
   "language": "python",
   "name": "python3"
  },
  "language_info": {
   "codemirror_mode": {
    "name": "ipython",
    "version": 3
   },
   "file_extension": ".py",
   "mimetype": "text/x-python",
   "name": "python",
   "nbconvert_exporter": "python",
   "pygments_lexer": "ipython3",
   "version": "3.12.4"
  }
 },
 "nbformat": 4,
 "nbformat_minor": 5
}
