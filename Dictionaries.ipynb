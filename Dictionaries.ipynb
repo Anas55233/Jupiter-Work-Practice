{
 "cells": [
  {
   "cell_type": "markdown",
   "id": "2942c8bb-54e8-47a4-bd8c-df7eb61ec169",
   "metadata": {},
   "source": [
    "# Dictionary - Python"
   ]
  },
  {
   "cell_type": "markdown",
   "id": "04a8d3e3-58fb-4dcb-b524-68017799b8b7",
   "metadata": {},
   "source": [
    "###### Dictionaries are used to store data values in key:value pairs.\n",
    "###### A dictionary is a collection which is ordered*, changeable and do not allow duplicates.\n",
    "###### Dictionaries are written with curly brackets, and have keys and values:"
   ]
  },
  {
   "cell_type": "code",
   "execution_count": 36,
   "id": "94498af8-e58f-40a5-bfd0-6a4f795207be",
   "metadata": {},
   "outputs": [
    {
     "name": "stdout",
     "output_type": "stream",
     "text": [
      "{'brand': 'toyota', 'model': 'corola', 'year': 2024}\n",
      "toyota\n",
      "corola\n",
      "2024\n",
      "toyota\n"
     ]
    }
   ],
   "source": [
    "car_dict = {\n",
    "    \"brand\" : \"toyota\",\n",
    "    \"model\" : \"corola\",\n",
    "    \"year\" : 2022,\n",
    "    \"year\" : 2024\n",
    "}\n",
    "print(car_dict)\n",
    "print(car_dict[\"brand\"])\n",
    "print(car_dict[\"model\"])\n",
    "print(car_dict[\"year\"])\n",
    "\n",
    "# There is also a method called get() that will give you the same result:\n",
    "print(car_dict.get(\"brand\"))\n"
   ]
  },
  {
   "cell_type": "code",
   "execution_count": 25,
   "id": "29b40744-b553-440e-99d2-54c487b70341",
   "metadata": {},
   "outputs": [
    {
     "name": "stdout",
     "output_type": "stream",
     "text": [
      "4\n",
      "<class 'dict'>\n"
     ]
    }
   ],
   "source": [
    "# To determine how many items a dictionary has, use the len() function:\n",
    "car_dict = {\n",
    "    \"brand\" : \"toyota\",\n",
    "    \"model\" : \"corola\",\n",
    "    # \"year\" : 2022,\n",
    "    \"year\" : 2024,\n",
    "    \"electric\" : False\n",
    "}\n",
    "\n",
    "print(len(car_dict))\n",
    "\n",
    "\n",
    "\n",
    "# From Python's perspective, dictionaries are defined as objects with the data type 'dict':\n",
    "car_dict = {\n",
    "    \"brand\" : \"toyota\",\n",
    "    \"model\" : \"corola\",\n",
    "    # \"year\" : 2022,\n",
    "    \"year\" : 2024,\n",
    "    \"electric\" : False\n",
    "}\n",
    "print(type(car_dict))\n"
   ]
  },
  {
   "cell_type": "markdown",
   "id": "e4813398-bc62-44c2-9063-1ff530c24ab7",
   "metadata": {},
   "source": [
    "#### The dict() Constructor\n",
    "###### `It is also possible to use the dict() constructor to make a dictionary."
   ]
  },
  {
   "cell_type": "code",
   "execution_count": 32,
   "id": "a18efb7a-93ac-43e1-9f76-15c967a00605",
   "metadata": {},
   "outputs": [
    {
     "name": "stdout",
     "output_type": "stream",
     "text": [
      "{'brand': 'toyota', 'model': 'corola', 'year': '2024'}\n"
     ]
    }
   ],
   "source": [
    "car_dict = dict(brand = \"toyota\", model = \"corola\", year = \"2024\" )\n",
    "print(car_dict)"
   ]
  },
  {
   "cell_type": "markdown",
   "id": "d7965c42-63ae-4d67-98af-f45f1259a11e",
   "metadata": {},
   "source": [
    "#### Get Keys and Values"
   ]
  },
  {
   "cell_type": "code",
   "execution_count": 49,
   "id": "38cc4236-8483-4f86-a88e-76d0a51f3e1d",
   "metadata": {},
   "outputs": [
    {
     "name": "stdout",
     "output_type": "stream",
     "text": [
      "dict_keys(['brand', 'model', 'year'])\n",
      "dict_values(['toyota', 'corola', '2024'])\n",
      "dict_keys(['brand', 'model', 'year', 'price'])\n",
      "dict_values(['toyota', 'corola', '2024', 2000000])\n",
      "dict_items([('brand', 'toyota'), ('model', 'corola'), ('year', '2024'), ('price', 2000000)])\n",
      "dict_keys(['brand', 'model', 'year', 'price'])\n",
      "dict_values(['toyota', 'corola', '2024', 3000000])\n",
      "dict_items([('brand', 'toyota'), ('model', 'corola'), ('year', '2024'), ('price', 3000000)])\n"
     ]
    }
   ],
   "source": [
    "car_dict = dict(brand = \"toyota\", model = \"corola\", year = \"2024\" )\n",
    "\n",
    "print(car_dict.keys())\n",
    "print(car_dict.values())\n",
    "\n",
    "\n",
    "car_dict[\"price\"] = 2000000\n",
    "\n",
    "print(car_dict.keys())\n",
    "print(car_dict.values())\n",
    "print(car_dict.items())\n",
    "\n",
    "car_dict[\"price\"] = 3000000\n",
    "\n",
    "print(car_dict.keys())\n",
    "print(car_dict.values())\n",
    "print(car_dict.items())"
   ]
  },
  {
   "cell_type": "markdown",
   "id": "b4c12748-cf22-49d4-a285-59fcf0732ccd",
   "metadata": {},
   "source": [
    "##### Check if Key Exists\n",
    "###### To determine if a specified key is present in a dictionary use the in keyword:"
   ]
  },
  {
   "cell_type": "code",
   "execution_count": 52,
   "id": "81b135a7-f0e7-45f5-8f93-f6df4adb4841",
   "metadata": {},
   "outputs": [
    {
     "name": "stdout",
     "output_type": "stream",
     "text": [
      "ok\n"
     ]
    }
   ],
   "source": [
    "car_dict = dict(brand = \"toyota\", model = \"corola\", year = \"2024\" )\n",
    "if \"brand\" in car_dict:\n",
    "    print(\"ok\")"
   ]
  },
  {
   "cell_type": "code",
   "execution_count": 56,
   "id": "04e6ba85-4118-42c2-8809-1b90efcc4d73",
   "metadata": {},
   "outputs": [
    {
     "name": "stdout",
     "output_type": "stream",
     "text": [
      "dict_items([('brand', 'toyota'), ('model', 'corola'), ('year', 2024), ('price', 2000000)])\n"
     ]
    }
   ],
   "source": [
    "# The update() method will update the dictionary with the items from the given argument.\n",
    "car_dict = {\n",
    "    \"brand\" : \"toyota\",\n",
    "    \"model\" : \"corola\",\n",
    "    \"year\" : 2022,\n",
    "    \"year\" : 2024\n",
    "}\n",
    "car_dict.update({\"price\" : 2000000})\n",
    "print(car_dict.items())"
   ]
  },
  {
   "cell_type": "markdown",
   "id": "7cbce1f3-eab4-4ee2-985f-225ae4c1ac71",
   "metadata": {},
   "source": [
    "#### Removing Items"
   ]
  },
  {
   "cell_type": "code",
   "execution_count": 59,
   "id": "8e573e08-85a7-4cc9-b7ea-b57ebae84b97",
   "metadata": {},
   "outputs": [
    {
     "name": "stdout",
     "output_type": "stream",
     "text": [
      "{'brand': 'toyota', 'year': 2024}\n"
     ]
    }
   ],
   "source": [
    "# The pop() method removes the item with the specified key name:\n",
    "car_dict = {\n",
    "    \"brand\" : \"toyota\",\n",
    "    \"model\" : \"corola\",\n",
    "    \"year\" : 2022,\n",
    "    \"year\" : 2024\n",
    "}\n",
    "car_dict.pop(\"model\")\n",
    "print(car_dict)"
   ]
  },
  {
   "cell_type": "code",
   "execution_count": 61,
   "id": "f9767918-8d06-49e4-99bc-645c3fdc62be",
   "metadata": {},
   "outputs": [
    {
     "name": "stdout",
     "output_type": "stream",
     "text": [
      "{'brand': 'toyota', 'model': 'corola'}\n"
     ]
    }
   ],
   "source": [
    "# The popitem() method removes the last inserted item (in versions before 3.7, a random item is removed instead):\n",
    "car_dict = {\n",
    "    \"brand\" : \"toyota\",\n",
    "    \"model\" : \"corola\",\n",
    "    \"year\" : 2022,\n",
    "    \"year\" : 2024\n",
    "}\n",
    "car_dict.popitem()\n",
    "print(car_dict)"
   ]
  },
  {
   "cell_type": "code",
   "execution_count": 65,
   "id": "880f3697-610a-4c01-96ef-a6b21cd62ec2",
   "metadata": {},
   "outputs": [
    {
     "name": "stdout",
     "output_type": "stream",
     "text": [
      "{'brand': 'toyota', 'model': 'corola'}\n"
     ]
    }
   ],
   "source": [
    "# The del keyword removes the item with the specified key name:\n",
    "car_dict = {\n",
    "    \"brand\" : \"toyota\",\n",
    "    \"model\" : \"corola\",\n",
    "    \"year\" : 2022,\n",
    "    \"year\" : 2024\n",
    "}\n",
    "del car_dict[(\"year\")]\n",
    "print(car_dict)"
   ]
  },
  {
   "cell_type": "code",
   "execution_count": 67,
   "id": "37675f21-3f23-49cc-8c5d-7d006928168d",
   "metadata": {},
   "outputs": [
    {
     "name": "stdout",
     "output_type": "stream",
     "text": [
      "{}\n"
     ]
    }
   ],
   "source": [
    "# The clear() method empties the dictionary:\n",
    "car_dict = {\n",
    "    \"brand\" : \"toyota\",\n",
    "    \"model\" : \"corola\",\n",
    "    \"year\" : 2022,\n",
    "    \"year\" : 2024\n",
    "}\n",
    "car_dict.clear()\n",
    "print(car_dict)"
   ]
  },
  {
   "cell_type": "markdown",
   "id": "209b4f6f-39bf-4e1f-8c35-a99efa36af25",
   "metadata": {},
   "source": [
    "#### Loop Through a Dictionary"
   ]
  },
  {
   "cell_type": "code",
   "execution_count": 76,
   "id": "826c9354-2ed0-4e18-aecf-7732510b14b1",
   "metadata": {},
   "outputs": [
    {
     "name": "stdout",
     "output_type": "stream",
     "text": [
      "brand\n",
      "model\n",
      "year\n",
      "brand\n",
      "model\n",
      "year\n"
     ]
    }
   ],
   "source": [
    "# Print all key names in the dictionary, one by one:\n",
    "car_dict = {\n",
    "    \"brand\" : \"toyota\",\n",
    "    \"model\" : \"corola\",\n",
    "    \"year\" : 2022,\n",
    "    \"year\" : 2024\n",
    "}\n",
    "for x in car_dict:\n",
    "    print(x)\n",
    "\n",
    "car_dict = {\n",
    "    \"brand\" : \"toyota\",\n",
    "    \"model\" : \"corola\",\n",
    "    \"year\" : 2022,\n",
    "    \"year\" : 2024\n",
    "}\n",
    "for x in car_dict.keys():\n",
    "    print(x)"
   ]
  },
  {
   "cell_type": "code",
   "execution_count": 78,
   "id": "2d6dc4e1-ea54-46d8-b85a-8d4d04fbcc69",
   "metadata": {},
   "outputs": [
    {
     "name": "stdout",
     "output_type": "stream",
     "text": [
      "toyota\n",
      "corola\n",
      "2024\n",
      "toyota\n",
      "corola\n",
      "2024\n"
     ]
    }
   ],
   "source": [
    "# Print all value names in the dictionary, one by one:\n",
    "car_dict = {\n",
    "    \"brand\" : \"toyota\",\n",
    "    \"model\" : \"corola\",\n",
    "    \"year\" : 2022,\n",
    "    \"year\" : 2024\n",
    "}\n",
    "for x in car_dict:\n",
    "    print(car_dict[x])\n",
    "\n",
    "car_dict = {\n",
    "    \"brand\" : \"toyota\",\n",
    "    \"model\" : \"corola\",\n",
    "    \"year\" : 2022,\n",
    "    \"year\" : 2024\n",
    "}\n",
    "for x in car_dict.values():\n",
    "    print(x)"
   ]
  },
  {
   "cell_type": "code",
   "execution_count": 170,
   "id": "93c6a6cb-c7cc-45e2-bb51-e64e4b7f53ab",
   "metadata": {},
   "outputs": [
    {
     "name": "stdout",
     "output_type": "stream",
     "text": [
      "brand\n",
      "model\n",
      "year\n"
     ]
    }
   ],
   "source": [
    "# Loop through both keys and values, by using the items() method:\n",
    "car_dict = {\n",
    "    \"brand\" : \"toyota\",\n",
    "    \"model\" : \"corola\",\n",
    "    \"year\" : 2022,\n",
    "    \"year\" : 2024\n",
    "}\n",
    "for x, y in car_dict.items():\n",
    "    print(x)"
   ]
  },
  {
   "cell_type": "markdown",
   "id": "d8296c6c-72bb-4538-b86f-39a01f53216d",
   "metadata": {},
   "source": [
    "#### Copy a Dictionary\n",
    "###### You cannot copy a dictionary simply by typing dict2 = dict1,\n",
    "###### because: dict2 will only be a reference to dict1, and changes made in dict1 will automatically also be made in dict2."
   ]
  },
  {
   "cell_type": "code",
   "execution_count": 85,
   "id": "0d3c6932-8ecf-4d25-b9a5-3ece2833afb0",
   "metadata": {},
   "outputs": [
    {
     "name": "stdout",
     "output_type": "stream",
     "text": [
      "{'brand': 'toyota', 'model': 'corola', 'year': 2024}\n",
      "{'brand': 'toyota', 'model': 'corola', 'year': 2024}\n"
     ]
    }
   ],
   "source": [
    "# Make a copy of a dictionary with the copy() method:\n",
    "car_dict = {\n",
    "    \"brand\" : \"toyota\",\n",
    "    \"model\" : \"corola\",\n",
    "    \"year\" : 2022,\n",
    "    \"year\" : 2024\n",
    "}\n",
    "my_dict = car_dict.copy()\n",
    "print(my_dict)\n",
    "\n",
    "\n",
    "# Another way to make a copy is to use the built-in function dict().\n",
    "car_dict = {\n",
    "    \"brand\" : \"toyota\",\n",
    "    \"model\" : \"corola\",\n",
    "    \"year\" : 2022,\n",
    "    \"year\" : 2024\n",
    "}\n",
    "my_dict = dict(car_dict)\n",
    "print(my_dict)"
   ]
  },
  {
   "cell_type": "markdown",
   "id": "438519f3-eec0-4ce9-8b49-a251c4d3e175",
   "metadata": {},
   "source": [
    "### Python - Nested Dictionaries\n",
    "##### A dictionary can contain dictionaries, this is called nested dictionaries.\r\n"
   ]
  },
  {
   "cell_type": "code",
   "execution_count": 103,
   "id": "ded1c773-6b14-4fe3-b918-af07c4bb6317",
   "metadata": {},
   "outputs": [
    {
     "name": "stdout",
     "output_type": "stream",
     "text": [
      "{'child1': {'name': 'anas', 'age': 25}, 'child2': {'name': 'mujtaba', 'age': 26}, 'child3': {'name': 'ghulam', 'age': 22}}\n"
     ]
    }
   ],
   "source": [
    "# Create a dictionary that contain three dictionaries:\n",
    "child_dict = {\n",
    "    \"child1\" : {\n",
    "    \"name\" : \"anas\",\n",
    "    \"age\"  : 25\n",
    "    },\n",
    "    \"child2\" : {\n",
    "    \"name\" : \"mujtaba\",\n",
    "    \"age\"  : 26\n",
    "    },\n",
    "    \"child3\" : {\n",
    "    \"name\" : \"ghulam\",\n",
    "    \"age\"  : 22\n",
    "    }\n",
    "}\n",
    "print(child_dict)"
   ]
  },
  {
   "cell_type": "code",
   "execution_count": 107,
   "id": "61ad1fe1-60d3-4224-a463-6abaf183fece",
   "metadata": {},
   "outputs": [
    {
     "name": "stdout",
     "output_type": "stream",
     "text": [
      "{'name': 'anas', 'age': 25}\n",
      "{'name': 'mujtaba', 'age': 26}\n",
      "{'name': 'ghulam', 'age': 22}\n",
      "{'child1': {'name': 'anas', 'age': 25}, 'child2': {'name': 'mujtaba', 'age': 26}, 'child3': {'name': 'ghulam', 'age': 22}}\n"
     ]
    }
   ],
   "source": [
    "# Create three dictionaries, then create one dictionary that will contain the other three dictionaries:\n",
    "child1 = {\n",
    "    \"name\" : \"anas\",\n",
    "    \"age\" : 25\n",
    "}\n",
    "child2 = {\n",
    "    \"name\" : \"mujtaba\",\n",
    "    \"age\" : 26\n",
    "}\n",
    "child3 = {\n",
    "    \"name\" : \"ghulam\",\n",
    "    \"age\" : 22\n",
    "}\n",
    "print(child1)\n",
    "print(child2)\n",
    "print(child3)\n",
    "\n",
    "child_dict = {\n",
    "    \"child1\" : child1,\n",
    "    \"child2\" : child2,\n",
    "    \"child3\" : child3\n",
    "}\n",
    "\n",
    "print(child_dict)"
   ]
  },
  {
   "cell_type": "markdown",
   "id": "a9419fcd-38be-455e-b6cd-2cadf91c5810",
   "metadata": {},
   "source": [
    "##### Access Items in Nested Dictionaries\n",
    "###### To access items from a nested dictionary, you use the name of the dictionaries, starting with the outer dictionary:"
   ]
  },
  {
   "cell_type": "code",
   "execution_count": 192,
   "id": "1cdb575e-5e88-42c0-a695-4e64c07e45a2",
   "metadata": {},
   "outputs": [
    {
     "name": "stdout",
     "output_type": "stream",
     "text": [
      "25\n",
      "child1\n",
      "name: anas\n",
      "age: 25\n",
      "child2\n",
      "name: mujtaba\n",
      "age: 26\n",
      "child3\n",
      "name: ghulam\n",
      "age: 22\n"
     ]
    }
   ],
   "source": [
    "child_dict = {\n",
    "    \"child1\" : {\n",
    "    \"name\" : \"anas\",\n",
    "    \"age\"  : 25\n",
    "    },\n",
    "    \"child2\" : {\n",
    "    \"name\" : \"mujtaba\",\n",
    "    \"age\"  : 26\n",
    "    },\n",
    "    \"child3\" : {\n",
    "    \"name\" : \"ghulam\",\n",
    "    \"age\"  : 22\n",
    "    }\n",
    "}\n",
    "print(child_dict[\"child1\"][\"age\"])\n",
    "\n",
    "for x, y in child_dict.items():\n",
    "    print(x)\n",
    "    for z in y:\n",
    "        print(z + ':', y[z] )"
   ]
  },
  {
   "cell_type": "code",
   "execution_count": null,
   "id": "c347bbeb-201e-4b9c-819f-1eb44b4fb7e5",
   "metadata": {},
   "outputs": [],
   "source": []
  }
 ],
 "metadata": {
  "kernelspec": {
   "display_name": "Python 3 (ipykernel)",
   "language": "python",
   "name": "python3"
  },
  "language_info": {
   "codemirror_mode": {
    "name": "ipython",
    "version": 3
   },
   "file_extension": ".py",
   "mimetype": "text/x-python",
   "name": "python",
   "nbconvert_exporter": "python",
   "pygments_lexer": "ipython3",
   "version": "3.12.4"
  }
 },
 "nbformat": 4,
 "nbformat_minor": 5
}
