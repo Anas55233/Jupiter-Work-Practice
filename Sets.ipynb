{
 "cells": [
  {
   "cell_type": "markdown",
   "id": "95544089-a923-4a82-9706-25d5e6cda5b0",
   "metadata": {},
   "source": [
    "# Python-Sets"
   ]
  },
  {
   "cell_type": "code",
   "execution_count": 13,
   "id": "3222b42e-8c8f-4b33-b25e-9e54a462c9d3",
   "metadata": {},
   "outputs": [],
   "source": [
    "#Sets are used to store multiple items in a single variable.\n",
    "#A set is a collection which is unordered, unchangeable*, and unindexed."
   ]
  },
  {
   "cell_type": "code",
   "execution_count": 17,
   "id": "b039e2d8-3926-4733-8710-ad91066f37fa",
   "metadata": {},
   "outputs": [
    {
     "name": "stdout",
     "output_type": "stream",
     "text": [
      "{'mango', 'apple', 'orange', 'grapes', 'banana', 'pear'}\n",
      "{'mango', 'apple', 'orange', 'grapes', 'banana', 'pear'}\n",
      "6\n"
     ]
    }
   ],
   "source": [
    "fruit_sets = {\"apple\", \"mango\", \"banana\", \"pear\", \"orange\", \"grapes\"}\n",
    "print(fruit_sets)\n",
    "\n",
    "# Don't Allow Duplicate items\n",
    "fruit_sets = {\"apple\", \"mango\", \"banana\", \"pear\", \"orange\", \"grapes\", \"apple\"}\n",
    "print(fruit_sets)\n",
    "\n",
    "# Sets Length:-\n",
    "fruit_sets = {\"apple\", \"mango\", \"banana\", \"pear\", \"orange\", \"grapes\"}\n",
    "print(len(fruit_sets))"
   ]
  },
  {
   "cell_type": "code",
   "execution_count": 19,
   "id": "dd6a246c-f89d-4ba5-a739-f56e9e81cb81",
   "metadata": {},
   "outputs": [],
   "source": [
    "# (True and 1) and (False and 0) is considered the same value:"
   ]
  },
  {
   "cell_type": "code",
   "execution_count": 23,
   "id": "fcaf7544-2640-4175-b98c-7c9a62043d75",
   "metadata": {},
   "outputs": [
    {
     "name": "stdout",
     "output_type": "stream",
     "text": [
      "{0, True, 2, 'Sohail', 'anas'}\n"
     ]
    }
   ],
   "source": [
    "mix_sets = {\"anas\", 2, True, 0, \"Sohail\", 1, False}\n",
    "print(mix_sets)"
   ]
  },
  {
   "cell_type": "markdown",
   "id": "8e74cc4d-6c21-4168-9bf2-bb63f2e2229c",
   "metadata": {},
   "source": [
    "### Set Items - Data Types"
   ]
  },
  {
   "cell_type": "code",
   "execution_count": 28,
   "id": "134e6cc0-b5d6-4968-88a4-14968437db23",
   "metadata": {},
   "outputs": [
    {
     "name": "stdout",
     "output_type": "stream",
     "text": [
      "{'mango', 'banana', 'orange', 'apple'}\n",
      "{1, 2, 3, 5, 6}\n",
      "{False, True}\n",
      "<class 'set'>\n"
     ]
    }
   ],
   "source": [
    "# String, int and boolean data types:\n",
    "fruit_sets = {\"apple\", \"mango\", \"banana\", \"orange\", \"apple\"}\n",
    "number_sets = {1, 2, 3 ,5, 6}\n",
    "boolean_sets = {True, False, False, True}\n",
    "print(fruit_sets)\n",
    "print(number_sets)\n",
    "print(boolean_sets)\n",
    "print(type(number_sets))"
   ]
  },
  {
   "cell_type": "markdown",
   "id": "b49a564a-9492-472f-825c-2839ab830715",
   "metadata": {},
   "source": [
    "#### The set() Constructor\n",
    "##### It is also possible to use the set() constructor to make a sets."
   ]
  },
  {
   "cell_type": "code",
   "execution_count": 37,
   "id": "f416d6ef-1ef6-4f6b-9aae-3302fbb63d54",
   "metadata": {},
   "outputs": [
    {
     "name": "stdout",
     "output_type": "stream",
     "text": [
      "{'orange', 'mango', 'apple', 'banana'}\n"
     ]
    }
   ],
   "source": [
    "fruit_sets = set((\"apple\", \"mango\", \"banana\", \"orange\", \"apple\"))\n",
    "print(fruit_sets)"
   ]
  },
  {
   "cell_type": "code",
   "execution_count": 41,
   "id": "d011811c-b220-4fc2-ad04-b7b8c81300d2",
   "metadata": {},
   "outputs": [
    {
     "name": "stdout",
     "output_type": "stream",
     "text": [
      "orange\n",
      "mango\n",
      "apple\n",
      "banana\n"
     ]
    }
   ],
   "source": [
    "# Don't Access by Index but its possible using for Loop\n",
    "fruit_sets = set((\"apple\", \"mango\", \"banana\", \"orange\"))\n",
    "for x in fruit_sets:\n",
    "    print(x)"
   ]
  },
  {
   "cell_type": "code",
   "execution_count": 59,
   "id": "df0e591a-1efc-4599-9e70-3f22bc379eb2",
   "metadata": {},
   "outputs": [
    {
     "name": "stdout",
     "output_type": "stream",
     "text": [
      "ok\n",
      "True\n",
      "False\n"
     ]
    }
   ],
   "source": [
    "fruit_sets = set((\"apple\", \"mango\", \"banana\", \"orange\"))\n",
    "if \"apple\" in fruit_sets:\n",
    "    print(\"ok\")\n",
    "if \"apple\" not in fruit_sets:\n",
    "    print(\"Not ok\")\n",
    "print(\"apple\" in fruit_sets)\n",
    "print(\"apple\" not in fruit_sets)"
   ]
  },
  {
   "cell_type": "markdown",
   "id": "192b454c-db27-4693-9276-4d4b6b4b7e86",
   "metadata": {},
   "source": [
    "### Python - Add Set Items"
   ]
  },
  {
   "cell_type": "markdown",
   "id": "039fe413-1af0-43ab-a296-a4d0a1df32a5",
   "metadata": {},
   "source": [
    "##### Add Items\n",
    "###### Once a set is created, you cannot change its items, but you can add new items."
   ]
  },
  {
   "cell_type": "code",
   "execution_count": 63,
   "id": "827c08bd-cde7-4834-a574-98605a0739c3",
   "metadata": {},
   "outputs": [
    {
     "name": "stdout",
     "output_type": "stream",
     "text": [
      "{'banana', 'mango', 'apple', 'orange', 'pear'}\n"
     ]
    }
   ],
   "source": [
    "# Add an item to a set, using the add() method:\n",
    "fruit_sets = set((\"apple\", \"mango\", \"banana\", \"orange\"))\n",
    "fruit_sets.add(\"pear\")\n",
    "print(fruit_sets)"
   ]
  },
  {
   "cell_type": "code",
   "execution_count": 65,
   "id": "5e7eacfb-8cb9-4399-8e05-c59fb2f7bd20",
   "metadata": {},
   "outputs": [
    {
     "name": "stdout",
     "output_type": "stream",
     "text": [
      "{'onion', 'mango', 'apple', 'orange', 'tomato', 'banana', 'potato'}\n"
     ]
    }
   ],
   "source": [
    "# To add items from another set into the current set, use the update() method.\n",
    "fruit_sets = set((\"apple\", \"mango\", \"banana\", \"orange\"))\n",
    "veg_sets = set((\"tomato\", \"potato\", \"onion\"))\n",
    "fruit_sets.update(veg_sets)\n",
    "print(fruit_sets)"
   ]
  },
  {
   "cell_type": "code",
   "execution_count": 67,
   "id": "95986eed-d3c2-46cf-91e4-ec1d5ffaf1bf",
   "metadata": {},
   "outputs": [
    {
     "name": "stdout",
     "output_type": "stream",
     "text": [
      "{'banana', 'mango', 'apple', 'orange', 'cherry', 'pear'}\n"
     ]
    }
   ],
   "source": [
    "# Add elements of a list to at set:\n",
    "fruit_sets = set((\"apple\", \"mango\", \"banana\", \"orange\"))\n",
    "fruit_list = list((\"pear\", \"cherry\"))\n",
    "fruit_sets.update(fruit_list)\n",
    "print(fruit_sets)"
   ]
  },
  {
   "cell_type": "markdown",
   "id": "3191ecf3-415a-4c48-b6cb-da2838ca7058",
   "metadata": {},
   "source": [
    "### Python - Remove Set Items"
   ]
  },
  {
   "cell_type": "code",
   "execution_count": 86,
   "id": "2c80f554-c592-49b8-b5bb-72cb070ad1fd",
   "metadata": {},
   "outputs": [
    {
     "name": "stdout",
     "output_type": "stream",
     "text": [
      "{'orange', 'mango', 'banana'}\n",
      "{'orange', 'mango', 'apple', 'banana'}\n"
     ]
    }
   ],
   "source": [
    "# To remove an item in a set, use the remove(), or the discard() method.\n",
    "fruit_sets = set((\"apple\", \"mango\", \"banana\", \"orange\"))\n",
    "fruit_sets.remove(\"apple\")\n",
    "print(fruit_sets)\n",
    "\n",
    "fruit_sets = set((\"apple\", \"mango\", \"banana\", \"orange\"))\n",
    "fruit_sets.discard(\"\")\n",
    "print(fruit_sets)"
   ]
  },
  {
   "cell_type": "code",
   "execution_count": 106,
   "id": "24791f59-73e4-4fdb-9437-dd9c7048e1a3",
   "metadata": {},
   "outputs": [
    {
     "name": "stdout",
     "output_type": "stream",
     "text": [
      "{'mango', 'apple', 'banana'}\n"
     ]
    }
   ],
   "source": [
    "# Remove a random item by using the pop() method:\n",
    "# Note: Sets are unordered, so when using the pop() method, you do not know which item that gets removed.\n",
    "fruit_sets = set((\"apple\", \"mango\", \"banana\", \"orange\"))\n",
    "fruit_sets.pop()\n",
    "print(fruit_sets)"
   ]
  },
  {
   "cell_type": "code",
   "execution_count": 108,
   "id": "4661c37f-ebf4-41e8-b4c1-c1935eb28413",
   "metadata": {},
   "outputs": [
    {
     "name": "stdout",
     "output_type": "stream",
     "text": [
      "set()\n"
     ]
    }
   ],
   "source": [
    "# The clear() method empties the set:\n",
    "fruit_sets = set((\"apple\", \"mango\", \"banana\", \"orange\"))\n",
    "fruit_sets.clear()\n",
    "print(fruit_sets)"
   ]
  },
  {
   "cell_type": "code",
   "execution_count": 114,
   "id": "5630128c-4ed8-44e2-a142-626b90436334",
   "metadata": {},
   "outputs": [],
   "source": [
    "fruit_sets = set((\"apple\", \"mango\", \"banana\", \"orange\"))\n",
    "del fruit_sets\n",
    "# print(fruit_sets)"
   ]
  },
  {
   "cell_type": "code",
   "execution_count": 116,
   "id": "2bc6183d-5d35-4d45-84ad-521fb495709a",
   "metadata": {},
   "outputs": [
    {
     "name": "stdout",
     "output_type": "stream",
     "text": [
      "orange\n",
      "mango\n",
      "apple\n",
      "banana\n"
     ]
    }
   ],
   "source": [
    "fruit_sets = set((\"apple\", \"mango\", \"banana\", \"orange\"))\n",
    "for x in fruit_sets:\n",
    "    print(x)"
   ]
  },
  {
   "cell_type": "markdown",
   "id": "9e2a8195-ac41-490e-a830-748b88e91d02",
   "metadata": {},
   "source": [
    "### Python - Join Sets"
   ]
  },
  {
   "cell_type": "markdown",
   "id": "38fecb5e-51eb-433b-9be7-98a99a00a923",
   "metadata": {},
   "source": [
    "###### There are several ways to join two or more sets in Python.\n",
    "\n",
    "###### The union() and update() methods joins all items from both sets.\n",
    "\n",
    "###### The intersection() method keeps ONLY the duplicates.\n",
    "\n",
    "###### The difference() method keeps the items from the first set that are not in the other set(s).\n",
    "\n",
    "###### The symmetric_difference() method keeps all items EXCEPT the duplicates."
   ]
  },
  {
   "cell_type": "code",
   "execution_count": 129,
   "id": "c960a073-26a6-43ae-8ddf-cfbfe3d75b59",
   "metadata": {},
   "outputs": [
    {
     "name": "stdout",
     "output_type": "stream",
     "text": [
      "{'onion', 'mango', 'apple', 'orange', 'tomato', 'banana', 'potato'}\n",
      "{'onion', 'mango', 'apple', 'orange', 'tomato', 'banana', 'potato'}\n"
     ]
    }
   ],
   "source": [
    "# Union \n",
    "# The union() method returns a new set with all items from both sets.\n",
    "fruit_sets = set((\"apple\", \"mango\", \"banana\", \"orange\"))\n",
    "veg_sets = set((\"tomato\", \"potato\", \"onion\"))\n",
    "fruit_sets = fruit_sets.union(veg_sets)\n",
    "print(fruit_sets)\n",
    "\n",
    "\n",
    "# # You can use the | operator instead of the union() method, and you will get the same result.\n",
    "fruit_sets = set((\"apple\", \"mango\", \"banana\", \"orange\"))\n",
    "veg_sets = set((\"tomato\", \"potato\", \"onion\"))\n",
    "fruit_sets = fruit_sets|veg_sets\n",
    "print(fruit_sets)"
   ]
  },
  {
   "cell_type": "markdown",
   "id": "a2ef8479-a687-4fa4-a2c8-0927d414fe3f",
   "metadata": {},
   "source": [
    "#### Join Multiple Sets"
   ]
  },
  {
   "cell_type": "code",
   "execution_count": 134,
   "id": "7af06294-d06a-4f64-bbaa-016b6712d35a",
   "metadata": {},
   "outputs": [
    {
     "name": "stdout",
     "output_type": "stream",
     "text": [
      "{1, 2, 3, 'John', 'a', 'bananas', 'apple', 'cherry', 'c', 'Elena', 'b'}\n",
      "{1, 2, 3, 'John', 'a', 'bananas', 'apple', 'cherry', 'c', 'Elena', 'b'}\n"
     ]
    }
   ],
   "source": [
    "set1 = {\"a\", \"b\", \"c\"}\n",
    "set2 = {1, 2, 3}\n",
    "set3 = {\"John\", \"Elena\"}\n",
    "set4 = {\"apple\", \"bananas\", \"cherry\"}\n",
    "\n",
    "myset = set1.union(set2, set3, set4)\n",
    "print(myset)\n",
    "\n",
    "\n",
    "set1 = {\"a\", \"b\", \"c\"}\n",
    "set2 = {1, 2, 3}\n",
    "set3 = {\"John\", \"Elena\"}\n",
    "set4 = {\"apple\", \"bananas\", \"cherry\"}\n",
    "\n",
    "myset = set1 | set2 | set3 | set4\n",
    "print(myset)"
   ]
  },
  {
   "cell_type": "markdown",
   "id": "c7aa0389-ee02-4b2a-99d8-da47412077e5",
   "metadata": {},
   "source": [
    "#### Join a Set and a Tuple"
   ]
  },
  {
   "cell_type": "code",
   "execution_count": 137,
   "id": "30441a2a-5689-4c28-a5e3-79dc1f27ee4d",
   "metadata": {},
   "outputs": [
    {
     "name": "stdout",
     "output_type": "stream",
     "text": [
      "{1, 2, 3, 'b', 'c', 'a'}\n"
     ]
    }
   ],
   "source": [
    "set1 = {\"a\", \"b\", \"c\"}\n",
    "set2 = (1, 2, 3)\n",
    "set1 = set1.union(set2)\n",
    "print(set1)"
   ]
  },
  {
   "cell_type": "markdown",
   "id": "7dd980f3-4abd-4f2a-b6f6-244185d5ba53",
   "metadata": {},
   "source": [
    "#### Join a Set and a List"
   ]
  },
  {
   "cell_type": "code",
   "execution_count": 143,
   "id": "83ef63e3-200d-4286-a21d-59996522cffa",
   "metadata": {},
   "outputs": [
    {
     "name": "stdout",
     "output_type": "stream",
     "text": [
      "{1, 2, 3, 'b', 'c', 'a'}\n"
     ]
    }
   ],
   "source": [
    "set1 = {\"a\", \"b\", \"c\"}\n",
    "set2 = [1, 2, 3]\n",
    "set1 = set1.union(set2)\n",
    "print(set1)"
   ]
  },
  {
   "cell_type": "markdown",
   "id": "4e59b014-dba1-4975-8370-028815784d28",
   "metadata": {},
   "source": [
    "#### Join set, tuple and List"
   ]
  },
  {
   "cell_type": "code",
   "execution_count": 146,
   "id": "ab58d3e1-5b5b-4ac1-9239-94aced714210",
   "metadata": {},
   "outputs": [
    {
     "name": "stdout",
     "output_type": "stream",
     "text": [
      "{1, 2, 3, 'John', 'b', 'c', 'Elena', 'a'}\n"
     ]
    }
   ],
   "source": [
    "set1 = {\"a\", \"b\", \"c\"}\n",
    "set2 = (1, 2, 3)\n",
    "set3 = [\"John\", \"Elena\"]\n",
    "myset = set1.union(set2, set3)\n",
    "print(myset)"
   ]
  },
  {
   "cell_type": "markdown",
   "id": "db39dcea-30e9-4879-90a1-00d3981a094d",
   "metadata": {},
   "source": [
    "#### Update\n",
    "###### The update() method inserts all items from one set into another.\n",
    "###### The update() changes the original set, and does not return a new set."
   ]
  },
  {
   "cell_type": "code",
   "execution_count": 156,
   "id": "2494c01a-cb65-40b9-830f-326d0a5b3851",
   "metadata": {},
   "outputs": [
    {
     "name": "stdout",
     "output_type": "stream",
     "text": [
      "{1, 2, 3, 'b', 'c', 'a'}\n"
     ]
    }
   ],
   "source": [
    "set1 = {\"a\", \"b\", \"c\", \"a\"}\n",
    "set2 = {1, 2, 3}\n",
    "set1.update(set2)\n",
    "print(set1)"
   ]
  },
  {
   "cell_type": "markdown",
   "id": "7b7263c8-d6d2-490c-ae8c-365758a6ac09",
   "metadata": {},
   "source": [
    "#### Intersection\n",
    "##### Keep ONLY the duplicates"
   ]
  },
  {
   "cell_type": "code",
   "execution_count": 166,
   "id": "a692a26d-d430-438e-8387-1ee06a3b78c2",
   "metadata": {},
   "outputs": [
    {
     "name": "stdout",
     "output_type": "stream",
     "text": [
      "{'c'}\n",
      "{'c'}\n"
     ]
    }
   ],
   "source": [
    "# The intersection() method will return a new set, that only contains the items that are present in both sets.\n",
    "set1 = {\"a\", \"b\", \"c\"}\n",
    "set2 = {\"a\", \"c\", \"e\"}\n",
    "set3 = {\"c\", \"f\"}\n",
    "myset = set1.intersection(set2, set3)\n",
    "print(myset)\n",
    "\n",
    "\n",
    "# You can use the & operator instead of the intersection() method, and you will get the same result.\n",
    "set1 = {\"a\", \"b\", \"c\"}\n",
    "set2 = {\"a\", \"c\", \"e\"}\n",
    "set3 = {\"c\", \"f\"}\n",
    "myset = set1 & set2 & set3\n",
    "print(myset)"
   ]
  },
  {
   "cell_type": "code",
   "execution_count": 172,
   "id": "25d345b4-cebf-4ed4-97d8-bb7671290ed5",
   "metadata": {},
   "outputs": [
    {
     "name": "stdout",
     "output_type": "stream",
     "text": [
      "{0, 'c', True}\n"
     ]
    }
   ],
   "source": [
    "# The intersection_update() method will also keep ONLY the duplicates, but it will change the original set instead of returning a new set.\n",
    "set1 = {\"a\", \"b\", \"c\", True, 0}\n",
    "set2 = {\"a\", \"c\", \"e\", False, 0, 1}\n",
    "set3 = {\"c\", \"f\", True , 0, 1}\n",
    "set1.intersection_update(set2, set3)\n",
    "print(set1)"
   ]
  },
  {
   "cell_type": "markdown",
   "id": "2e3fc78d-ee4d-4de0-99ae-c51dd2172c78",
   "metadata": {},
   "source": [
    "#### Difference"
   ]
  },
  {
   "cell_type": "code",
   "execution_count": 180,
   "id": "816cf2ae-ce7a-4030-9f53-d128e9753585",
   "metadata": {},
   "outputs": [
    {
     "name": "stdout",
     "output_type": "stream",
     "text": [
      "{'b'}\n",
      "{'b'}\n"
     ]
    }
   ],
   "source": [
    "# The difference() method will return a new set that will contain only the items from the first set\n",
    "# that are not present in the other set.\n",
    "set1 = {\"a\", \"b\", \"c\"}\n",
    "set2 = {\"a\", \"c\", \"e\"}\n",
    "set3 = {\"c\", \"f\"}\n",
    "myset = set1.difference(set2, set3)\n",
    "print(myset)\n",
    "\n",
    "# You can use the - operator instead of the difference() method, and you will get the same result.\n",
    "set1 = {\"a\", \"b\", \"c\"}\n",
    "set2 = {\"a\", \"c\", \"e\"}\n",
    "set3 = {\"c\", \"f\"}\n",
    "myset = set1 - set2 - set3\n",
    "print(myset)\n"
   ]
  },
  {
   "cell_type": "code",
   "execution_count": 199,
   "id": "70c686ba-445b-469f-9460-3e0701512b70",
   "metadata": {},
   "outputs": [
    {
     "name": "stdout",
     "output_type": "stream",
     "text": [
      "{True, 'b'}\n"
     ]
    }
   ],
   "source": [
    "# The difference_update() method will also keep the items from the first set that are not in the other set,\n",
    "# but it will change the original set instead of returning a new set.\n",
    "set1 = {\"a\", \"b\", \"c\", True, 0}\n",
    "set2 = {\"a\", \"c\", \"e\", False, 0 }\n",
    "set3 = {\"c\", \"f\" , 0, }\n",
    "set1.difference_update(set2, set3)\n",
    "print(set1)"
   ]
  },
  {
   "cell_type": "markdown",
   "id": "3b207815-9b04-4942-bf87-1b6bac5300a8",
   "metadata": {},
   "source": [
    "#### Symmetric Differences\n",
    "###### The symmetric_difference() method will keep only the elements that are NOT present in both sets."
   ]
  },
  {
   "cell_type": "code",
   "execution_count": 195,
   "id": "2414486d-9ccf-4a1a-b7d5-9e11f3946fdc",
   "metadata": {},
   "outputs": [
    {
     "name": "stdout",
     "output_type": "stream",
     "text": [
      "{'b', 'e'}\n",
      "{'b', 'e'}\n"
     ]
    }
   ],
   "source": [
    "set1 = {\"a\", \"b\", \"c\"}\n",
    "set2 = {\"a\", \"c\", \"e\"}\n",
    "myset = set1.symmetric_difference(set2)\n",
    "print(myset)\n",
    "\n",
    "# You can use the ^ operator instead of the symmetric_difference() method, and you will get the same result.\n",
    "set1 = {\"a\", \"b\", \"c\"}\n",
    "set2 = {\"a\", \"c\", \"e\"}\n",
    "myset = set1 ^ set2\n",
    "print(myset)"
   ]
  },
  {
   "cell_type": "code",
   "execution_count": 197,
   "id": "a825fa77-421d-4e17-8ca1-dcaea0541223",
   "metadata": {},
   "outputs": [
    {
     "name": "stdout",
     "output_type": "stream",
     "text": [
      "{True, 'e', 'b'}\n"
     ]
    }
   ],
   "source": [
    "# The symmetric_difference_update() method will also keep all but the duplicates,\n",
    "# but it will change the original set instead of returning a new set.\n",
    "set1 = {\"a\", \"b\", \"c\", True, 0}\n",
    "set2 = {\"a\", \"c\", \"e\", False, 0 }\n",
    "set1.symmetric_difference_update(set2)\n",
    "print(set1)"
   ]
  },
  {
   "cell_type": "code",
   "execution_count": 2,
   "id": "920b5f9a-f1f5-4800-89bb-8760c4ed5f65",
   "metadata": {},
   "outputs": [
    {
     "data": {
      "text/plain": [
       "['__and__',\n",
       " '__class__',\n",
       " '__class_getitem__',\n",
       " '__contains__',\n",
       " '__delattr__',\n",
       " '__dir__',\n",
       " '__doc__',\n",
       " '__eq__',\n",
       " '__format__',\n",
       " '__ge__',\n",
       " '__getattribute__',\n",
       " '__getstate__',\n",
       " '__gt__',\n",
       " '__hash__',\n",
       " '__iand__',\n",
       " '__init__',\n",
       " '__init_subclass__',\n",
       " '__ior__',\n",
       " '__isub__',\n",
       " '__iter__',\n",
       " '__ixor__',\n",
       " '__le__',\n",
       " '__len__',\n",
       " '__lt__',\n",
       " '__ne__',\n",
       " '__new__',\n",
       " '__or__',\n",
       " '__rand__',\n",
       " '__reduce__',\n",
       " '__reduce_ex__',\n",
       " '__repr__',\n",
       " '__ror__',\n",
       " '__rsub__',\n",
       " '__rxor__',\n",
       " '__setattr__',\n",
       " '__sizeof__',\n",
       " '__str__',\n",
       " '__sub__',\n",
       " '__subclasshook__',\n",
       " '__xor__',\n",
       " 'add',\n",
       " 'clear',\n",
       " 'copy',\n",
       " 'difference',\n",
       " 'difference_update',\n",
       " 'discard',\n",
       " 'intersection',\n",
       " 'intersection_update',\n",
       " 'isdisjoint',\n",
       " 'issubset',\n",
       " 'issuperset',\n",
       " 'pop',\n",
       " 'remove',\n",
       " 'symmetric_difference',\n",
       " 'symmetric_difference_update',\n",
       " 'union',\n",
       " 'update']"
      ]
     },
     "execution_count": 2,
     "metadata": {},
     "output_type": "execute_result"
    }
   ],
   "source": [
    "dir(set)"
   ]
  },
  {
   "cell_type": "code",
   "execution_count": 31,
   "id": "7e4982d4-3176-465f-829e-89c5c75590b2",
   "metadata": {},
   "outputs": [
    {
     "name": "stdout",
     "output_type": "stream",
     "text": [
      "{1, 2, 'one', 3, 'two', 4, 'three'}\n",
      "set()\n",
      "{1, 2, 'one', 3, 'two', 'three'}\n",
      "{1, 'one', 2, 'two', 'three'}\n",
      "{1, 2, 'one', 'two', 'three'}\n",
      "{1, 'one', 3, 'two', 4, 'three'}\n",
      "{3, 4, 5}\n",
      "{3, 4, 5}\n",
      "{1, 2, 'one', 3, 'two', 4, 5, 'three'}\n"
     ]
    }
   ],
   "source": [
    "# Adds an element to the set\n",
    "number_set1 = {1, 2, 3, \"one\",\"two\",\"three\"}\n",
    "number_set2 = {4, 5, 6, \"four\", \"five\", \"six\"}\n",
    "number_set1.add(4)\n",
    "print(number_set1)\n",
    "\n",
    "# Removes all the elements from the set\n",
    "number_set1 = {1, 2, 3, \"one\",\"two\",\"three\"}\n",
    "number_set2 = {4, 5, 6, \"four\", \"five\", \"six\"}\n",
    "number_set1.clear()\n",
    "print(number_set1)\n",
    "\n",
    "# Returns a copy of the set\n",
    "number_set1 = {1, 2, 3, \"one\",\"two\",\"three\"}\n",
    "number_set2 = {4, 5, 6, \"four\", \"five\", \"six\"}\n",
    "number_set2 = number_set1.copy()\n",
    "print(number_set2)\n",
    "\n",
    "# Returns a set containing the difference between two or more sets\n",
    "number_set1 = {1, 2, 3, \"one\",\"two\",\"three\", 4}\n",
    "number_set2 = {4, 5, 6, \"four\", \"five\", \"six\", 3}\n",
    "difference_set = number_set1.difference(number_set2)\n",
    "print(difference_set)\n",
    "\n",
    "# Removes the items in this set that are also included in another, specified set\n",
    "number_set1 = {1, 2, 3, \"one\",\"two\",\"three\", 4}\n",
    "number_set2 = {4, 5, 6, \"four\", \"five\", \"six\", 3}\n",
    "number_set1.difference_update(number_set2)\n",
    "print(number_set1)\n",
    "\n",
    "# Remove the specified item\n",
    "number_set1 = {1, 2, 3, \"one\",\"two\",\"three\", 4}\n",
    "number_set2 = {4, 5, 6, \"four\", \"five\", \"six\", 3}\n",
    "number_set1.discard(2)\n",
    "print(number_set1)\n",
    "\n",
    "# Returns a set, that is the intersection of two other sets\n",
    "number_set1 = {1, 2, 3, \"one\",\"two\",\"three\", 4, 5}\n",
    "number_set2 = {4, 5, 6, \"four\", \"five\", \"six\", 3}\n",
    "difference_set = number_set1.intersection(number_set2)\n",
    "print(difference_set)\n",
    "\n",
    "# Removes the items in this set that are not present in other, specified set(s)\n",
    "number_set1 = {1, 2, 3, \"one\",\"two\",\"three\", 4, 5}\n",
    "number_set2 = {4, 5, 6, \"four\", \"five\", \"six\", 3}\n",
    "number_set1.intersection_update(number_set2)\n",
    "print(number_set1)\n"
   ]
  },
  {
   "cell_type": "code",
   "execution_count": 49,
   "id": "0619ef88-34dc-4c2e-94cc-3c4449e8c30a",
   "metadata": {},
   "outputs": [
    {
     "name": "stdout",
     "output_type": "stream",
     "text": [
      "True\n",
      "True\n",
      "True\n"
     ]
    }
   ],
   "source": [
    "# Returns whether two sets have a intersection or not\n",
    "number_set1 = {1, 2, 3, \"one\",\"two\",\"three\"}\n",
    "number_set2 = {4, 5, 6, \"four\", \"five\", \"six\"}\n",
    "number_set1.isdisjoint(number_set2)\n",
    "difference_set = number_set1.isdisjoint(number_set2)\n",
    "print(difference_set)\n",
    "\n",
    "\n",
    "# Returns whether another set contains this set or not\n",
    "number_set1 = {1, 2, 3, \"one\",\"two\",\"three\"}\n",
    "number_set2 = {4, 5, 6, \"four\", \"five\", \"six\", 1, 2, 3, \"one\",\"two\",\"three\"}\n",
    "difference_set = number_set1.issubset(number_set2)\n",
    "print(difference_set)\n",
    "\n",
    "number_set1 = {1, 2, 3, \"one\",\"two\",\"three\", 4, 5, 6, \"four\", \"five\", \"six\"}\n",
    "number_set2 = {4, 5, 6, \"four\", \"five\", \"six\"}\n",
    "difference_set = number_set1.issuperset(number_set2)\n",
    "print(difference_set)"
   ]
  },
  {
   "cell_type": "code",
   "execution_count": null,
   "id": "40dbcfeb-d2de-4d80-8509-77015958b3b5",
   "metadata": {},
   "outputs": [],
   "source": []
  }
 ],
 "metadata": {
  "kernelspec": {
   "display_name": "Python 3 (ipykernel)",
   "language": "python",
   "name": "python3"
  },
  "language_info": {
   "codemirror_mode": {
    "name": "ipython",
    "version": 3
   },
   "file_extension": ".py",
   "mimetype": "text/x-python",
   "name": "python",
   "nbconvert_exporter": "python",
   "pygments_lexer": "ipython3",
   "version": "3.12.4"
  }
 },
 "nbformat": 4,
 "nbformat_minor": 5
}
